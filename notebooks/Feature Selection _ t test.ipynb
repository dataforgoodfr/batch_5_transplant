{
 "cells": [
  {
   "cell_type": "code",
   "execution_count": 1,
   "metadata": {},
   "outputs": [
    {
     "data": {
      "text/html": [
       "<div id=\"my_id_menu_nb\">run previous cell, wait for 2 seconds</div>\n",
       "<script>\n",
       "function repeat_indent_string(n){\n",
       "    var a = \"\" ;\n",
       "    for ( ; n > 0 ; --n)\n",
       "        a += \"    \";\n",
       "    return a;\n",
       "}\n",
       "// look up into all sections and builds an automated menu //\n",
       "var update_menu_string = function(begin, lfirst, llast, sformat, send, keep_item, begin_format, end_format) {\n",
       "    var anchors = document.getElementsByClassName(\"section\");\n",
       "    if (anchors.length == 0) {\n",
       "        anchors = document.getElementsByClassName(\"text_cell_render rendered_html\");\n",
       "    }\n",
       "    var i,t;\n",
       "    var text_menu = begin;\n",
       "    var text_memo = \"<pre>\\nlength:\" + anchors.length + \"\\n\";\n",
       "    var ind = \"\";\n",
       "    var memo_level = 1;\n",
       "    var href;\n",
       "    var tags = [];\n",
       "    var main_item = 0;\n",
       "    var format_open = 0;\n",
       "    for (i = 0; i <= llast; i++)\n",
       "        tags.push(\"h\" + i);\n",
       "\n",
       "    for (i = 0; i < anchors.length; i++) {\n",
       "        text_memo += \"**\" + anchors[i].id + \"--\\n\";\n",
       "\n",
       "        var child = null;\n",
       "        for(t = 0; t < tags.length; t++) {\n",
       "            var r = anchors[i].getElementsByTagName(tags[t]);\n",
       "            if (r.length > 0) {\n",
       "child = r[0];\n",
       "break;\n",
       "            }\n",
       "        }\n",
       "        if (child == null) {\n",
       "            text_memo += \"null\\n\";\n",
       "            continue;\n",
       "        }\n",
       "        if (anchors[i].hasAttribute(\"id\")) {\n",
       "            // when converted in RST\n",
       "            href = anchors[i].id;\n",
       "            text_memo += \"#1-\" + href;\n",
       "            // passer à child suivant (le chercher)\n",
       "        }\n",
       "        else if (child.hasAttribute(\"id\")) {\n",
       "            // in a notebook\n",
       "            href = child.id;\n",
       "            text_memo += \"#2-\" + href;\n",
       "        }\n",
       "        else {\n",
       "            text_memo += \"#3-\" + \"*\" + \"\\n\";\n",
       "            continue;\n",
       "        }\n",
       "        var title = child.textContent;\n",
       "        var level = parseInt(child.tagName.substring(1,2));\n",
       "\n",
       "        text_memo += \"--\" + level + \"?\" + lfirst + \"--\" + title + \"\\n\";\n",
       "\n",
       "        if ((level < lfirst) || (level > llast)) {\n",
       "            continue ;\n",
       "        }\n",
       "        if (title.endsWith('¶')) {\n",
       "            title = title.substring(0,title.length-1).replace(\"<\", \"&lt;\")\n",
       "         .replace(\">\", \"&gt;\").replace(\"&\", \"&amp;\");\n",
       "        }\n",
       "        if (title.length == 0) {\n",
       "            continue;\n",
       "        }\n",
       "\n",
       "        while (level < memo_level) {\n",
       "            text_menu += end_format + \"</ul>\\n\";\n",
       "            format_open -= 1;\n",
       "            memo_level -= 1;\n",
       "        }\n",
       "        if (level == lfirst) {\n",
       "            main_item += 1;\n",
       "        }\n",
       "        if (keep_item != -1 && main_item != keep_item + 1) {\n",
       "            // alert(main_item + \" - \" + level + \" - \" + keep_item);\n",
       "            continue;\n",
       "        }\n",
       "        while (level > memo_level) {\n",
       "            text_menu += \"<ul>\\n\";\n",
       "            memo_level += 1;\n",
       "        }\n",
       "        text_menu += repeat_indent_string(level-2);\n",
       "        text_menu += begin_format + sformat.replace(\"__HREF__\", href).replace(\"__TITLE__\", title);\n",
       "        format_open += 1;\n",
       "    }\n",
       "    while (1 < memo_level) {\n",
       "        text_menu += end_format + \"</ul>\\n\";\n",
       "        memo_level -= 1;\n",
       "        format_open -= 1;\n",
       "    }\n",
       "    text_menu += send;\n",
       "    //text_menu += \"\\n\" + text_memo;\n",
       "\n",
       "    while (format_open > 0) {\n",
       "        text_menu += end_format;\n",
       "        format_open -= 1;\n",
       "    }\n",
       "    return text_menu;\n",
       "};\n",
       "var update_menu = function() {\n",
       "    var sbegin = \"\";\n",
       "    var sformat = '<a href=\"#__HREF__\">__TITLE__</a>';\n",
       "    var send = \"\";\n",
       "    var begin_format = '<li>';\n",
       "    var end_format = '</li>';\n",
       "    var keep_item = -1;\n",
       "    var text_menu = update_menu_string(sbegin, 2, 4, sformat, send, keep_item,\n",
       "       begin_format, end_format);\n",
       "    var menu = document.getElementById(\"my_id_menu_nb\");\n",
       "    menu.innerHTML=text_menu;\n",
       "};\n",
       "window.setTimeout(update_menu,2000);\n",
       "            </script>"
      ],
      "text/plain": [
       "<IPython.core.display.HTML object>"
      ]
     },
     "execution_count": 1,
     "metadata": {},
     "output_type": "execute_result"
    }
   ],
   "source": [
    "from jyquickhelper import add_notebook_menu\n",
    "add_notebook_menu()"
   ]
  },
  {
   "cell_type": "code",
   "execution_count": 2,
   "metadata": {},
   "outputs": [],
   "source": [
    "import warnings\n",
    "warnings.filterwarnings('ignore')"
   ]
  },
  {
   "cell_type": "markdown",
   "metadata": {},
   "source": [
    "On se propose de procéder à une certaine selection des variables en utilisant des méthodes économétriques de significativité des variables."
   ]
  },
  {
   "cell_type": "markdown",
   "metadata": {},
   "source": [
    "L'idée : étudier un problème linéaire de la forme \n",
    "$y= \\beta_0+ \\beta_1x_1 + \\beta_2x_2 + \\beta_3x_3 + ... + \\beta_{num features}x_{num features} + \\epsilon$\n",
    "\n",
    "Puis on test : H_0 : $\\beta_i = 0$ pour tous i  "
   ]
  },
  {
   "cell_type": "markdown",
   "metadata": {},
   "source": [
    "Cele peut nous donner des indications sur quelles variables utiliser \n",
    "\n",
    "#### Problème :\n",
    "\n",
    "Notre target est binaire -> quelles implications ?"
   ]
  },
  {
   "cell_type": "markdown",
   "metadata": {},
   "source": [
    "## Selection de Features par t-test"
   ]
  },
  {
   "cell_type": "code",
   "execution_count": 3,
   "metadata": {},
   "outputs": [],
   "source": [
    "import numpy as np\n",
    "import statsmodels.formula.api as smf"
   ]
  },
  {
   "cell_type": "markdown",
   "metadata": {},
   "source": [
    "## Data"
   ]
  },
  {
   "cell_type": "code",
   "execution_count": 4,
   "metadata": {},
   "outputs": [],
   "source": [
    "from transplant.data.learningset import Learningset\n",
    "\n",
    "learningset = Learningset()\n",
    "\n",
    "X_train, X_test = learningset.get_data_merged_dynamic_flatten_full(full_df=True)\n",
    "#X_train, X_test, y_train, y_test, X_col = learningset.get_data_merged_dynamic_flatten_full()"
   ]
  },
  {
   "cell_type": "code",
   "execution_count": 5,
   "metadata": {},
   "outputs": [],
   "source": [
    "#X_train.dtypes"
   ]
  },
  {
   "cell_type": "markdown",
   "metadata": {},
   "source": [
    "J'ai eu des petits problèmes avec le format des noms ( ne supporte pas les espaces, les points et les parenthèses )"
   ]
  },
  {
   "cell_type": "code",
   "execution_count": 6,
   "metadata": {},
   "outputs": [],
   "source": [
    "X_train=X_train.rename(columns = {'BIS SR_mean':'BIS_SR_mean','B.I.S_mean':'BIS_mean','SvO2 (m)_mean':'SvO2m_mean',\n",
    "                                  'BIS SR_std':'BIS_SR_std','B.I.S_std':'BIS_std','SvO2 (m)_std':'SvO2m_std',\n",
    "                                 'BIS SR_max':'BIS_SR_max','B.I.S_max':'BIS_max','SvO2 (m)_max':'SvO2m_max',\n",
    "                                 'BIS SR_min':'BIS_SR_min','B.I.S_min':'BIS_min','SvO2 (m)_min':'SvO2m_min'})"
   ]
  },
  {
   "cell_type": "code",
   "execution_count": 7,
   "metadata": {},
   "outputs": [],
   "source": [
    "X_col= X_train.columns.drop('target')"
   ]
  },
  {
   "cell_type": "markdown",
   "metadata": {},
   "source": [
    "## Feature selection for test"
   ]
  },
  {
   "cell_type": "markdown",
   "metadata": {},
   "source": [
    "Ce n'est peut être pas une bonne pratique de mettre toutes les variables d'un coup mais on peut essayer"
   ]
  },
  {
   "cell_type": "code",
   "execution_count": 8,
   "metadata": {},
   "outputs": [
    {
     "name": "stdout",
     "output_type": "stream",
     "text": [
      "                            OLS Regression Results                            \n",
      "==============================================================================\n",
      "Dep. Variable:                 target   R-squared:                       0.634\n",
      "Model:                            OLS   Adj. R-squared:                  0.193\n",
      "Method:                 Least Squares   F-statistic:                     1.439\n",
      "Date:                Tue, 29 Jan 2019   Prob (F-statistic):             0.0284\n",
      "Time:                        19:10:16   Log-Likelihood:                -48.619\n",
      "No. Observations:                 228   AIC:                             347.2\n",
      "Df Residuals:                     103   BIC:                             775.9\n",
      "Df Model:                         124                                         \n",
      "Covariance Type:            nonrobust                                         \n",
      "==========================================================================================================\n",
      "                                             coef    std err          t      P>|t|      [0.025      0.975]\n",
      "----------------------------------------------------------------------------------------------------------\n",
      "Intercept                                 -0.0545      0.137     -0.399      0.691      -0.325       0.216\n",
      "Age_donor                                 -0.0079      0.004     -2.185      0.031      -0.015      -0.001\n",
      "Aspirations_donor                         -0.0834      0.053     -1.562      0.121      -0.189       0.022\n",
      "BMI_donor                                  0.0101      0.099      0.102      0.919      -0.186       0.206\n",
      "Donneur_CPT                             4.636e-05    8.3e-05      0.558      0.578      -0.000       0.000\n",
      "Insuffisance_renale                       -0.4774      0.396     -1.205      0.231      -1.263       0.308\n",
      "LAS                                       -0.0149      0.005     -2.816      0.006      -0.025      -0.004\n",
      "PAPS                                       0.0002      0.000      0.853      0.396      -0.000       0.001\n",
      "PFO                                       -0.1962      0.154     -1.277      0.205      -0.501       0.109\n",
      "PF_donor                                   0.0009      0.001      1.323      0.189      -0.000       0.002\n",
      "Poids                                     -0.0158      0.029     -0.547      0.586      -0.073       0.042\n",
      "Poids_donor                               -0.0037      0.035     -0.105      0.917      -0.073       0.066\n",
      "RX_donor                                  -0.1440      0.048     -3.018      0.003      -0.239      -0.049\n",
      "Sex_donor                                 -0.2017      0.150     -1.341      0.183      -0.500       0.097\n",
      "Tabagisme_donor                           -0.0016      0.004     -0.373      0.710      -0.010       0.007\n",
      "Taille                                     0.0128      0.022      0.578      0.565      -0.031       0.057\n",
      "Taille_donor                               0.0134      0.033      0.407      0.685      -0.052       0.079\n",
      "age                                        0.0028      0.005      0.607      0.545      -0.006       0.012\n",
      "body_mass_index                            0.0573      0.081      0.704      0.483      -0.104       0.219\n",
      "diabetes                                  -0.0720      0.107     -0.673      0.502      -0.284       0.140\n",
      "id_patient                                -0.0052      0.011     -0.486      0.628      -0.027       0.016\n",
      "other_organ_transplantation            -3.752e-13   7.52e-12     -0.050      0.960   -1.53e-11    1.45e-11\n",
      "oto_score                                  0.0229      0.034      0.666      0.507      -0.045       0.091\n",
      "pathologie                                -0.0733      0.039     -1.861      0.066      -0.151       0.005\n",
      "plasmapherese                             -0.0364      0.088     -0.413      0.680      -0.211       0.139\n",
      "preoperative_ECMO                         -0.2869      0.319     -0.898      0.371      -0.920       0.347\n",
      "preoperative_ICU                          -0.4539      0.223     -2.038      0.044      -0.896      -0.012\n",
      "preoperative_mechanical_ventilation       -0.1288      0.326     -0.395      0.693      -0.775       0.517\n",
      "preoperative_pulmonary_hypertension       -0.0770      0.086     -0.899      0.371      -0.247       0.093\n",
      "preoperative_vasopressor                  -0.2262      0.341     -0.663      0.509      -0.903       0.451\n",
      "retransplant                               0.0965      0.263      0.367      0.714      -0.425       0.618\n",
      "sexe                                      -0.2089      0.118     -1.777      0.078      -0.442       0.024\n",
      "super_urgence                              0.6626      0.286      2.320      0.022       0.096       1.229\n",
      "thoracic_surgery_history                  -0.1224      0.116     -1.053      0.295      -0.353       0.108\n",
      "time_on_waiting_liste                     -0.0015      0.001     -1.498      0.137      -0.003       0.000\n",
      "transplanted_twice_during_study_period     0.1884      0.421      0.448      0.655      -0.646       1.023\n",
      "start_operation_year                       0.1347      0.340      0.396      0.693      -0.539       0.809\n",
      "start_operation_month                     -0.8249      0.629     -1.311      0.193      -2.073       0.423\n",
      "start_operation_day                       -0.0078      0.140     -0.056      0.956      -0.285       0.269\n",
      "ends_operation_year                        0.1347      0.340      0.396      0.693      -0.539       0.809\n",
      "ends_operation_month                       0.5630      0.626      0.899      0.371      -0.679       1.805\n",
      "ends_operation_day                         0.0168      0.140      0.120      0.905      -0.261       0.294\n",
      "BIS_mean                                   0.0010      0.007      0.141      0.888      -0.013       0.015\n",
      "BIS_SR_mean                                0.0020      0.071      0.028      0.977      -0.138       0.142\n",
      "DC_mean                                   -0.0380      0.079     -0.479      0.633      -0.195       0.119\n",
      "ETCO2_mean                                 0.0611      0.093      0.660      0.511      -0.122       0.245\n",
      "FC_mean                                    0.0063      0.004      1.695      0.093      -0.001       0.014\n",
      "FR_mean                                   -0.0546      0.028     -1.957      0.053      -0.110       0.001\n",
      "FiO2_mean                                 -0.0064      0.006     -1.143      0.256      -0.018       0.005\n",
      "PAPdia_mean                                0.0134      0.055      0.243      0.809      -0.096       0.123\n",
      "PAPmoy_mean                                0.0163      0.100      0.163      0.870      -0.182       0.214\n",
      "PAPsys_mean                               -0.0413      0.049     -0.845      0.400      -0.138       0.056\n",
      "PASd_mean                                 -0.0283      0.028     -1.019      0.311      -0.083       0.027\n",
      "PASm_mean                                  0.0249      0.029      0.860      0.392      -0.033       0.083\n",
      "PASs_mean                                  0.0002      0.012      0.020      0.984      -0.024       0.024\n",
      "PEEPtotal_mean                            -0.1447      0.077     -1.876      0.064      -0.298       0.008\n",
      "PNId_mean                                 -0.6793      0.655     -1.037      0.302      -1.979       0.620\n",
      "PNIm_mean                                  1.0845      0.911      1.190      0.237      -0.723       2.892\n",
      "PNIs_mean                                 -0.3746      0.391     -0.958      0.340      -1.150       0.401\n",
      "Pmax_mean                                 -0.0287      0.022     -1.303      0.196      -0.072       0.015\n",
      "Pmean_mean                                 0.1095      0.064      1.713      0.090      -0.017       0.236\n",
      "SpO2_mean                                  0.0082      0.018      0.451      0.653      -0.028       0.044\n",
      "SvO2m_mean                                -0.0094      0.005     -1.854      0.067      -0.019       0.001\n",
      "Temp_mean                                 -0.0077      0.006     -1.283      0.202      -0.020       0.004\n",
      "VT_mean                                    0.0048      0.002      2.766      0.007       0.001       0.008\n",
      "declampage_cote1_done_mean                 0.3276      1.108      0.296      0.768      -1.870       2.526\n",
      "declampage_cote2_done_mean                -7.9804      3.351     -2.381      0.019     -14.627      -1.334\n",
      "BIS_std                                   -0.0427      0.020     -2.157      0.033      -0.082      -0.003\n",
      "BIS_SR_std                                 0.0027      0.078      0.034      0.973      -0.153       0.158\n",
      "DC_std                                    -0.1662      0.165     -1.008      0.316      -0.493       0.161\n",
      "ETCO2_std                                 -0.0528      0.199     -0.265      0.792      -0.448       0.343\n",
      "FC_std                                    -0.0017      0.009     -0.200      0.842      -0.019       0.015\n",
      "FR_std                                     0.1824      0.066      2.760      0.007       0.051       0.313\n",
      "FiO2_std                                   0.0126      0.012      1.065      0.290      -0.011       0.036\n",
      "PAPdia_std                                -0.0362      0.072     -0.504      0.616      -0.179       0.106\n",
      "PAPmoy_std                                 0.0018      0.124      0.014      0.989      -0.244       0.247\n",
      "PAPsys_std                                 0.0414      0.060      0.692      0.490      -0.077       0.160\n",
      "PASd_std                                  -0.0095      0.032     -0.297      0.767      -0.073       0.054\n",
      "PASm_std                                  -0.0133      0.023     -0.568      0.572      -0.060       0.033\n",
      "PASs_std                                   0.0089      0.020      0.450      0.654      -0.030       0.048\n",
      "PEEPtotal_std                              0.1413      0.097      1.460      0.147      -0.051       0.333\n",
      "PNId_std                                   0.0002      0.186      0.001      0.999      -0.369       0.370\n",
      "PNIm_std                                   0.0016      0.220      0.007      0.994      -0.434       0.437\n",
      "PNIs_std                                  -0.0249      0.105     -0.237      0.813      -0.234       0.184\n",
      "Pmax_std                                   0.0331      0.043      0.775      0.440      -0.052       0.118\n",
      "Pmean_std                                 -0.2212      0.120     -1.844      0.068      -0.459       0.017\n",
      "SpO2_std                                   0.0082      0.013      0.610      0.543      -0.018       0.035\n",
      "SvO2m_std                                  0.0289      0.011      2.724      0.008       0.008       0.050\n",
      "Temp_std                                   0.0139      0.015      0.951      0.344      -0.015       0.043\n",
      "VT_std                                    -0.0103      0.003     -2.988      0.004      -0.017      -0.003\n",
      "declampage_cote1_done_std                 -7.0639      6.127     -1.153      0.252     -19.215       5.087\n",
      "declampage_cote2_done_std                  9.9370      4.422      2.247      0.027       1.168      18.706\n",
      "BIS_max                                    0.0096      0.004      2.451      0.016       0.002       0.017\n",
      "BIS_SR_max                                -0.0058      0.007     -0.842      0.402      -0.020       0.008\n",
      "DC_max                                     0.0900      0.037      2.428      0.017       0.016       0.163\n",
      "ETCO2_max                                 -0.0416      0.043     -0.961      0.339      -0.128       0.044\n",
      "FC_max                                     0.0010      0.001      0.795      0.429      -0.002       0.004\n",
      "FR_max                                    -0.0020      0.004     -0.436      0.664      -0.011       0.007\n",
      "FiO2_max                                   0.0057      0.016      0.360      0.720      -0.026       0.037\n",
      "PAPdia_max                                 0.0013      0.002      0.596      0.553      -0.003       0.006\n",
      "PAPmoy_max                                 0.0008      0.003      0.287      0.775      -0.005       0.007\n",
      "PAPsys_max                                -0.0011      0.001     -0.817      0.416      -0.004       0.002\n",
      "PASd_max                                  -0.0012      0.001     -1.023      0.309      -0.003       0.001\n",
      "PASm_max                                   0.0002      0.001      0.184      0.854      -0.002       0.003\n",
      "PASs_max                                   0.0027      0.002      1.624      0.108      -0.001       0.006\n",
      "PEEPtotal_max                             -0.0097      0.007     -1.482      0.141      -0.023       0.003\n",
      "PNId_max                                   0.0232      0.012      1.897      0.061      -0.001       0.047\n",
      "PNIm_max                                  -0.0139      0.016     -0.889      0.376      -0.045       0.017\n",
      "PNIs_max                                  -0.0011      0.007     -0.158      0.875      -0.015       0.013\n",
      "Pmax_max                                   0.0007      0.006      0.122      0.903      -0.010       0.012\n",
      "Pmean_max                                  0.0082      0.010      0.854      0.395      -0.011       0.027\n",
      "SpO2_max                                  -5.4499     13.661     -0.399      0.691     -32.544      21.644\n",
      "SvO2m_max                                 -0.0074      0.003     -2.414      0.018      -0.014      -0.001\n",
      "Temp_max                                  -0.0175      0.009     -1.930      0.056      -0.035       0.000\n",
      "VT_max                                     0.0002      0.000      1.604      0.112   -4.05e-05       0.000\n",
      "declampage_cote1_done_max                 -0.0545      0.137     -0.399      0.691      -0.325       0.216\n",
      "declampage_cote2_done_max                 -0.0545      0.137     -0.399      0.691      -0.325       0.216\n",
      "BIS_min                                -1.124e-14   7.84e-15     -1.434      0.155   -2.68e-14     4.3e-15\n",
      "BIS_SR_min                              1.992e-15   9.76e-16      2.040      0.044    5.58e-17    3.93e-15\n",
      "DC_min                                  7.084e-15   6.77e-15      1.047      0.298   -6.34e-15    2.05e-14\n",
      "ETCO2_min                               2.036e-15   3.06e-15      0.665      0.508   -4.04e-15    8.11e-15\n",
      "FC_min                                    -0.0023      0.002     -1.173      0.243      -0.006       0.002\n",
      "FR_min                                    -0.0981      0.217     -0.451      0.653      -0.529       0.333\n",
      "FiO2_min                                   0.0075      0.003      2.380      0.019       0.001       0.014\n",
      "PAPdia_min                                 0.0072      0.005      1.409      0.162      -0.003       0.017\n",
      "PAPmoy_min                                -0.0088      0.006     -1.555      0.123      -0.020       0.002\n",
      "PAPsys_min                                 0.0022      0.001      1.529      0.129      -0.001       0.005\n",
      "PASd_min                                  -0.0016      0.001     -1.311      0.193      -0.004       0.001\n",
      "PASm_min                                  -0.0007      0.001     -1.020      0.310      -0.002       0.001\n",
      "PASs_min                                   0.0006      0.002      0.401      0.689      -0.002       0.004\n",
      "PEEPtotal_min                             -0.0687      0.194     -0.354      0.724      -0.453       0.316\n",
      "PNId_min                                        0          0        nan        nan           0           0\n",
      "PNIm_min                                        0          0        nan        nan           0           0\n",
      "PNIs_min                                        0          0        nan        nan           0           0\n",
      "Pmax_min                                   0.0642      0.158      0.405      0.686      -0.250       0.378\n",
      "Pmean_min                                 -0.6384      0.321     -1.988      0.050      -1.275      -0.001\n",
      "SpO2_min                                  -0.0006      0.005     -0.123      0.902      -0.011       0.010\n",
      "SvO2m_min                                       0          0        nan        nan           0           0\n",
      "Temp_min                                        0          0        nan        nan           0           0\n",
      "VT_min                                          0          0        nan        nan           0           0\n",
      "declampage_cote1_done_min                       0          0        nan        nan           0           0\n",
      "declampage_cote2_done_min                       0          0        nan        nan           0           0\n",
      "==============================================================================\n",
      "Omnibus:                        1.863   Durbin-Watson:                   1.933\n",
      "Prob(Omnibus):                  0.394   Jarque-Bera (JB):                1.817\n",
      "Skew:                           0.217   Prob(JB):                        0.403\n",
      "Kurtosis:                       2.946   Cond. No.                     2.25e+17\n",
      "==============================================================================\n",
      "\n",
      "Warnings:\n",
      "[1] Standard Errors assume that the covariance matrix of the errors is correctly specified.\n",
      "[2] The smallest eigenvalue is 2.2e-25. This might indicate that there are\n",
      "strong multicollinearity problems or that the design matrix is singular.\n"
     ]
    }
   ],
   "source": [
    "liste_full=X_col[0]\n",
    "for i in X_col[1:] :\n",
    "    liste_full+=' + ' + i\n",
    "\n",
    "results = smf.ols('target ~ '+liste_full, data=X_train).fit()\n",
    "print(results.summary())"
   ]
  },
  {
   "cell_type": "markdown",
   "metadata": {},
   "source": [
    "#### Variables significatives au niveau 10 %\n",
    "\n",
    "On pourrait essayer des modèles avec ça "
   ]
  },
  {
   "cell_type": "code",
   "execution_count": 9,
   "metadata": {},
   "outputs": [
    {
     "data": {
      "text/plain": [
       "Age_donor                     0.031160\n",
       "LAS                           0.005837\n",
       "RX_donor                      0.003209\n",
       "pathologie                    0.065601\n",
       "preoperative_ICU              0.044134\n",
       "sexe                          0.078474\n",
       "super_urgence                 0.022341\n",
       "FC_mean                       0.093040\n",
       "FR_mean                       0.053042\n",
       "PEEPtotal_mean                0.063501\n",
       "Pmean_mean                    0.089701\n",
       "SvO2m_mean                    0.066594\n",
       "VT_mean                       0.006718\n",
       "declampage_cote2_done_mean    0.019091\n",
       "BIS_std                       0.033348\n",
       "FR_std                        0.006837\n",
       "Pmean_std                     0.068101\n",
       "SvO2m_std                     0.007582\n",
       "VT_std                        0.003509\n",
       "declampage_cote2_done_std     0.026748\n",
       "BIS_max                       0.015943\n",
       "DC_max                        0.016897\n",
       "PNId_max                      0.060610\n",
       "SvO2m_max                     0.017522\n",
       "Temp_max                      0.056340\n",
       "BIS_SR_min                    0.043868\n",
       "FiO2_min                      0.019142\n",
       "Pmean_min                     0.049506\n",
       "dtype: float64"
      ]
     },
     "execution_count": 9,
     "metadata": {},
     "output_type": "execute_result"
    }
   ],
   "source": [
    "results.pvalues[results.pvalues<0.1]"
   ]
  },
  {
   "cell_type": "markdown",
   "metadata": {},
   "source": [
    "## Selections plus fines "
   ]
  },
  {
   "cell_type": "markdown",
   "metadata": {},
   "source": [
    "A poursuivre ..."
   ]
  },
  {
   "cell_type": "code",
   "execution_count": 10,
   "metadata": {},
   "outputs": [
    {
     "data": {
      "text/plain": [
       "'Age_donor + Aspirations_donor + BMI_donor + Donneur_CPT + Insuffisance_renale + LAS + PAPS + PFO + PF_donor + Poids'"
      ]
     },
     "execution_count": 10,
     "metadata": {},
     "output_type": "execute_result"
    }
   ],
   "source": [
    "liste_10_premiers_static=X_train.columns[0]\n",
    "for i in X_train.columns[1:10] :\n",
    "    liste_10_premiers_static+=' + ' + i\n",
    "liste_10_premiers_static"
   ]
  },
  {
   "cell_type": "code",
   "execution_count": 11,
   "metadata": {},
   "outputs": [
    {
     "name": "stdout",
     "output_type": "stream",
     "text": [
      "                            OLS Regression Results                            \n",
      "==============================================================================\n",
      "Dep. Variable:                 target   R-squared:                       0.091\n",
      "Model:                            OLS   Adj. R-squared:                  0.049\n",
      "Method:                 Least Squares   F-statistic:                     2.160\n",
      "Date:                Tue, 29 Jan 2019   Prob (F-statistic):             0.0214\n",
      "Time:                        19:10:16   Log-Likelihood:                -152.40\n",
      "No. Observations:                 228   AIC:                             326.8\n",
      "Df Residuals:                     217   BIC:                             364.5\n",
      "Df Model:                          10                                         \n",
      "Covariance Type:            nonrobust                                         \n",
      "=======================================================================================\n",
      "                          coef    std err          t      P>|t|      [0.025      0.975]\n",
      "---------------------------------------------------------------------------------------\n",
      "Intercept               0.7855      0.414      1.896      0.059      -0.031       1.602\n",
      "Age_donor              -0.0015      0.002     -0.688      0.492      -0.006       0.003\n",
      "Aspirations_donor      -0.0490      0.034     -1.451      0.148      -0.116       0.018\n",
      "BMI_donor               0.0059      0.008      0.692      0.489      -0.011       0.023\n",
      "Donneur_CPT          3.077e-05   3.07e-05      1.002      0.317   -2.97e-05    9.13e-05\n",
      "Insuffisance_renale    -0.0724      0.286     -0.253      0.800      -0.636       0.491\n",
      "LAS                    -0.0102      0.003     -3.281      0.001      -0.016      -0.004\n",
      "PAPS                   -0.0001      0.000     -0.947      0.345      -0.000       0.000\n",
      "PFO                    -0.0918      0.120     -0.766      0.445      -0.328       0.144\n",
      "PF_donor                0.0006      0.000      1.447      0.149      -0.000       0.001\n",
      "Poids                  -0.0054      0.002     -2.458      0.015      -0.010      -0.001\n",
      "==============================================================================\n",
      "Omnibus:                     1664.713   Durbin-Watson:                   1.918\n",
      "Prob(Omnibus):                  0.000   Jarque-Bera (JB):               28.554\n",
      "Skew:                           0.189   Prob(JB):                     6.30e-07\n",
      "Kurtosis:                       1.308   Cond. No.                     8.19e+04\n",
      "==============================================================================\n",
      "\n",
      "Warnings:\n",
      "[1] Standard Errors assume that the covariance matrix of the errors is correctly specified.\n",
      "[2] The condition number is large, 8.19e+04. This might indicate that there are\n",
      "strong multicollinearity or other numerical problems.\n"
     ]
    }
   ],
   "source": [
    "results = smf.ols('target ~ '+liste_10_premiers_static, data=X_train).fit()\n",
    "\n",
    "print(results.summary())"
   ]
  },
  {
   "cell_type": "code",
   "execution_count": null,
   "metadata": {},
   "outputs": [],
   "source": []
  }
 ],
 "metadata": {
  "kernelspec": {
   "display_name": "Python 3",
   "language": "python",
   "name": "python3"
  },
  "language_info": {
   "codemirror_mode": {
    "name": "ipython",
    "version": 3
   },
   "file_extension": ".py",
   "mimetype": "text/x-python",
   "name": "python",
   "nbconvert_exporter": "python",
   "pygments_lexer": "ipython3",
   "version": "3.6.8"
  }
 },
 "nbformat": 4,
 "nbformat_minor": 2
}
