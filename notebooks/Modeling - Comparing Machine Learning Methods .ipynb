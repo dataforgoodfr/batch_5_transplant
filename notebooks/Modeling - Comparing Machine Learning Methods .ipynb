{
 "cells": [
  {
   "cell_type": "code",
   "execution_count": 1,
   "metadata": {},
   "outputs": [
    {
     "data": {
      "text/html": [
       "<div id=\"my_id_menu_nb\">run previous cell, wait for 2 seconds</div>\n",
       "<script>\n",
       "function repeat_indent_string(n){\n",
       "    var a = \"\" ;\n",
       "    for ( ; n > 0 ; --n)\n",
       "        a += \"    \";\n",
       "    return a;\n",
       "}\n",
       "// look up into all sections and builds an automated menu //\n",
       "var update_menu_string = function(begin, lfirst, llast, sformat, send, keep_item, begin_format, end_format) {\n",
       "    var anchors = document.getElementsByClassName(\"section\");\n",
       "    if (anchors.length == 0) {\n",
       "        anchors = document.getElementsByClassName(\"text_cell_render rendered_html\");\n",
       "    }\n",
       "    var i,t;\n",
       "    var text_menu = begin;\n",
       "    var text_memo = \"<pre>\\nlength:\" + anchors.length + \"\\n\";\n",
       "    var ind = \"\";\n",
       "    var memo_level = 1;\n",
       "    var href;\n",
       "    var tags = [];\n",
       "    var main_item = 0;\n",
       "    var format_open = 0;\n",
       "    for (i = 0; i <= llast; i++)\n",
       "        tags.push(\"h\" + i);\n",
       "\n",
       "    for (i = 0; i < anchors.length; i++) {\n",
       "        text_memo += \"**\" + anchors[i].id + \"--\\n\";\n",
       "\n",
       "        var child = null;\n",
       "        for(t = 0; t < tags.length; t++) {\n",
       "            var r = anchors[i].getElementsByTagName(tags[t]);\n",
       "            if (r.length > 0) {\n",
       "child = r[0];\n",
       "break;\n",
       "            }\n",
       "        }\n",
       "        if (child == null) {\n",
       "            text_memo += \"null\\n\";\n",
       "            continue;\n",
       "        }\n",
       "        if (anchors[i].hasAttribute(\"id\")) {\n",
       "            // when converted in RST\n",
       "            href = anchors[i].id;\n",
       "            text_memo += \"#1-\" + href;\n",
       "            // passer à child suivant (le chercher)\n",
       "        }\n",
       "        else if (child.hasAttribute(\"id\")) {\n",
       "            // in a notebook\n",
       "            href = child.id;\n",
       "            text_memo += \"#2-\" + href;\n",
       "        }\n",
       "        else {\n",
       "            text_memo += \"#3-\" + \"*\" + \"\\n\";\n",
       "            continue;\n",
       "        }\n",
       "        var title = child.textContent;\n",
       "        var level = parseInt(child.tagName.substring(1,2));\n",
       "\n",
       "        text_memo += \"--\" + level + \"?\" + lfirst + \"--\" + title + \"\\n\";\n",
       "\n",
       "        if ((level < lfirst) || (level > llast)) {\n",
       "            continue ;\n",
       "        }\n",
       "        if (title.endsWith('¶')) {\n",
       "            title = title.substring(0,title.length-1).replace(\"<\", \"&lt;\")\n",
       "         .replace(\">\", \"&gt;\").replace(\"&\", \"&amp;\");\n",
       "        }\n",
       "        if (title.length == 0) {\n",
       "            continue;\n",
       "        }\n",
       "\n",
       "        while (level < memo_level) {\n",
       "            text_menu += end_format + \"</ul>\\n\";\n",
       "            format_open -= 1;\n",
       "            memo_level -= 1;\n",
       "        }\n",
       "        if (level == lfirst) {\n",
       "            main_item += 1;\n",
       "        }\n",
       "        if (keep_item != -1 && main_item != keep_item + 1) {\n",
       "            // alert(main_item + \" - \" + level + \" - \" + keep_item);\n",
       "            continue;\n",
       "        }\n",
       "        while (level > memo_level) {\n",
       "            text_menu += \"<ul>\\n\";\n",
       "            memo_level += 1;\n",
       "        }\n",
       "        text_menu += repeat_indent_string(level-2);\n",
       "        text_menu += begin_format + sformat.replace(\"__HREF__\", href).replace(\"__TITLE__\", title);\n",
       "        format_open += 1;\n",
       "    }\n",
       "    while (1 < memo_level) {\n",
       "        text_menu += end_format + \"</ul>\\n\";\n",
       "        memo_level -= 1;\n",
       "        format_open -= 1;\n",
       "    }\n",
       "    text_menu += send;\n",
       "    //text_menu += \"\\n\" + text_memo;\n",
       "\n",
       "    while (format_open > 0) {\n",
       "        text_menu += end_format;\n",
       "        format_open -= 1;\n",
       "    }\n",
       "    return text_menu;\n",
       "};\n",
       "var update_menu = function() {\n",
       "    var sbegin = \"\";\n",
       "    var sformat = '<a href=\"#__HREF__\">__TITLE__</a>';\n",
       "    var send = \"\";\n",
       "    var begin_format = '<li>';\n",
       "    var end_format = '</li>';\n",
       "    var keep_item = -1;\n",
       "    var text_menu = update_menu_string(sbegin, 2, 4, sformat, send, keep_item,\n",
       "       begin_format, end_format);\n",
       "    var menu = document.getElementById(\"my_id_menu_nb\");\n",
       "    menu.innerHTML=text_menu;\n",
       "};\n",
       "window.setTimeout(update_menu,2000);\n",
       "            </script>"
      ],
      "text/plain": [
       "<IPython.core.display.HTML object>"
      ]
     },
     "execution_count": 1,
     "metadata": {},
     "output_type": "execute_result"
    }
   ],
   "source": [
    "from jyquickhelper import add_notebook_menu\n",
    "add_notebook_menu()"
   ]
  },
  {
   "cell_type": "code",
   "execution_count": 2,
   "metadata": {},
   "outputs": [],
   "source": [
    "import warnings\n",
    "warnings.filterwarnings('ignore')"
   ]
  },
  {
   "cell_type": "markdown",
   "metadata": {},
   "source": [
    "## Let's try to do our best with a few ML model"
   ]
  },
  {
   "cell_type": "code",
   "execution_count": 3,
   "metadata": {
    "scrolled": true
   },
   "outputs": [
    {
     "data": {
      "text/html": [
       "<script type=\"text/javascript\">window.PlotlyConfig = {MathJaxConfig: 'local'};</script><script type=\"text/javascript\">if (window.MathJax) {MathJax.Hub.Config({SVG: {font: \"STIX-Web\"}});}</script><script>requirejs.config({paths: { 'plotly': ['https://cdn.plot.ly/plotly-latest.min']},});if(!window._Plotly) {require(['plotly'],function(plotly) {window._Plotly=plotly;});}</script>"
      ],
      "text/vnd.plotly.v1+html": [
       "<script type=\"text/javascript\">window.PlotlyConfig = {MathJaxConfig: 'local'};</script><script type=\"text/javascript\">if (window.MathJax) {MathJax.Hub.Config({SVG: {font: \"STIX-Web\"}});}</script><script>requirejs.config({paths: { 'plotly': ['https://cdn.plot.ly/plotly-latest.min']},});if(!window._Plotly) {require(['plotly'],function(plotly) {window._Plotly=plotly;});}</script>"
      ]
     },
     "metadata": {},
     "output_type": "display_data"
    }
   ],
   "source": [
    "import pandas as pd\n",
    "import numpy as np\n",
    "import sklearn\n",
    "from sklearn.model_selection import train_test_split\n",
    "from sklearn import metrics\n",
    "from sklearn.metrics import confusion_matrix\n",
    "\n",
    "import seaborn as sns\n",
    "import matplotlib.pyplot as plt\n",
    "%matplotlib inline\n",
    "\n",
    "import plotly.offline as py\n",
    "py.init_notebook_mode(connected=True)\n",
    "import plotly.graph_objs as go\n",
    "import plotly.tools as tls\n"
   ]
  },
  {
   "cell_type": "code",
   "execution_count": 4,
   "metadata": {},
   "outputs": [
    {
     "data": {
      "text/plain": [
       "'0.20.2'"
      ]
     },
     "execution_count": 4,
     "metadata": {},
     "output_type": "execute_result"
    }
   ],
   "source": [
    "sklearn.__version__"
   ]
  },
  {
   "cell_type": "code",
   "execution_count": 5,
   "metadata": {},
   "outputs": [],
   "source": [
    "from sklearn.ensemble import (RandomForestClassifier, AdaBoostClassifier,\n",
    "                              GradientBoostingClassifier, ExtraTreesClassifier)\n",
    "\n",
    "from sklearn.model_selection import KFold"
   ]
  },
  {
   "cell_type": "markdown",
   "metadata": {},
   "source": [
    "## Data Preparation"
   ]
  },
  {
   "cell_type": "markdown",
   "metadata": {},
   "source": [
    "We use the data preparation explained in the notebook called \"Data Preparation for our studies \"\n"
   ]
  },
  {
   "cell_type": "markdown",
   "metadata": {},
   "source": [
    "import pandas as pd\n",
    "import numpy as np\n",
    "from transplant.config import *\n",
    "\n",
    "df = pd.read_csv(PATH_STATIC_CLEAN)[STATIC_CATEGORIES['patient_intraoperative']]\n",
    "declampage_col = list(df.filter(like='declampage_cote_2').columns)\n",
    "declampage_col.append('id_patient')\n",
    "\n",
    "X_intra=df[declampage_col].apply(pd.to_numeric, errors='coerce').dropna(1, how=\"all\")\n",
    "\n",
    "from transplant.data.dataset import Dataset\n",
    "dataset = Dataset()\n",
    "\n",
    "train, test = dataset.get_static()\n",
    "X_train=train[['id_patient', 'target']]\n",
    "X_test=test[['id_patient', 'target']]\n",
    "\n",
    "X_train_intra_with_targ=pd.merge(X_train, X_intra, on='id_patient')\n",
    "X_test_intra_with_targ=pd.merge(X_test, X_intra, on='id_patient')\n",
    "\n",
    "mean_train = X_train_intra_with_targ.mean()\n",
    "\n",
    "train_filled = X_train_intra_with_targ.fillna(mean_train)\n",
    "test_filled = X_test_intra_with_targ.fillna(mean_train)\n",
    "\n",
    "\n",
    "\n",
    "X_train = np.array(train_filled.drop(['target','id_patient'], axis=1))\n",
    "X_test = np.array(test_filled.drop(['target','id_patient'], axis=1))\n",
    "y_train = np.array(train_filled['target'])\n",
    "y_test = np.array(test_filled['target'])\n",
    "X_col = train_filled.drop(['target','id_patient'], axis=1).columns"
   ]
  },
  {
   "cell_type": "markdown",
   "metadata": {},
   "source": [
    "def armand_funct():\n",
    "    \"\"\"\n",
    "    How to : X_train, X_test, y_train ,Y_test, col = armand_funct()\n",
    "    \"\"\"\n",
    "    from transplant.data.dataset import Dataset\n",
    "    \n",
    "    \n",
    "    # To get Target\n",
    "    dataset = Dataset()\n",
    "\n",
    "    train, test = dataset.get_static()\n",
    "    train['is_train'] = 1\n",
    "    test['is_train'] = 0\n",
    "    all_stat = pd.concat([train, test])\n",
    "    all_stat = all_stat[['id_patient', 'target', 'is_train']].copy()\n",
    "    \n",
    "    # Intra\n",
    "    df = pd.read_csv(PATH_STATIC_CLEAN)[STATIC_CATEGORIES['patient_intraoperative']]\n",
    "    declampage = list(df.filter(like='declampage_cote_2').columns)\n",
    "    declampage.append('id_patient')\n",
    "    df = df[declampage]\n",
    "    \n",
    "    # Intra Num\n",
    "    df_num = df.apply(pd.to_numeric, errors='coerce')\n",
    "    \n",
    "    # Merge with all_statto get target \n",
    "    df_num = df_num.merge(all_stat, on='id_patient')\n",
    "    \n",
    "    # Feature engi\n",
    "    df_num['nb_nan_feature'] = pd.isnull(df_num).sum(axis=1)\n",
    "    \n",
    "    df_num = df_num.fillna(-99) # \n",
    "    \n",
    "    \n",
    "    # Split \n",
    "    \n",
    "    y_train = np.array(df_num[df_num['is_train'] == 1]['target'])\n",
    "    y_test = np.array(df_num[df_num['is_train'] == 0]['target'])\n",
    "    \n",
    "    X_train = df_num[df_num['is_train'] == 1].drop(['target', 'id_patient', 'is_train'], axis=1)\n",
    "    X_test = df_num[df_num['is_train'] == 0].drop(['target', 'id_patient', 'is_train'], axis=1)\n",
    "    col = X_train.columns\n",
    "    \n",
    "    return X_train.values, X_test.values, y_train ,y_test, col"
   ]
  },
  {
   "cell_type": "code",
   "execution_count": 6,
   "metadata": {},
   "outputs": [],
   "source": [
    "from transplant.data.learningset import Learningset\n",
    "#from transplant.config import *\n",
    "learningset = Learningset()\n",
    "\n",
    "#X_train, X_test, y_train, y_test, X_col = learningset.get_static_filled(to_train=True)\n",
    "#X_train, X_test, y_train, y_test, X_col = learningset.get_data_merged_dynamic_flatten_full(\"cls\", False)\n",
    "#X_train, X_test, y_train, y_test, X_col = armand_funct()\n",
    "\n",
    "train, test = learningset.get_data_merged_dynamic_flatten_full(full_df=True)"
   ]
  },
  {
   "cell_type": "markdown",
   "metadata": {},
   "source": [
    "Choix des features : "
   ]
  },
  {
   "cell_type": "code",
   "execution_count": 7,
   "metadata": {},
   "outputs": [],
   "source": [
    "## RFE avec 4 modèles d'ensemble\n",
    "choix_features_1=['PEEPtotal_std',\n",
    " 'Temp_mean',\n",
    " 'ETCO2_mean',\n",
    " 'FiO2_std',\n",
    " 'LAS',\n",
    " 'Poids',\n",
    " 'SpO2_mean',\n",
    " 'BIS SR_std']\n",
    "\n",
    "## Variables Antoine avec perspective résultats RFE\n",
    "choix_features_4=['FiO2_std','FiO2_mean',\n",
    "                  'SpO2_mean','SpO2_std',\n",
    "                  'PEEPtotal_mean',\n",
    "                  'BIS SR_std',\n",
    "                  'PAPsys_max','PAPsys_std',\n",
    "                  'PASs_mean','PASm_max',\n",
    "                  'LAS',\n",
    "                  'FC_std'\n",
    "                 ]\n",
    "\n",
    "choix_features_5=set(choix_features_4 + choix_features_1)\n",
    "\n",
    "\n",
    "choix_features_6=['B.I.S_std',\n",
    " 'ETCO2_max',\n",
    " 'ETCO2_mean',\n",
    " 'FC_mean',\n",
    " 'FR_max',\n",
    " 'FR_mean',\n",
    " 'FiO2_mean',\n",
    " 'FiO2_std',\n",
    " 'LAS',\n",
    " 'PAPmoy_mean',\n",
    " 'PAPsys_max',\n",
    " 'PASd_mean',\n",
    " 'PASs_mean',\n",
    " 'PEEPtotal_mean',\n",
    " 'PEEPtotal_std',\n",
    " 'PF_donor',\n",
    " 'Poids',\n",
    " 'SpO2_std',\n",
    " 'Temp_mean',\n",
    " 'VT_max',\n",
    " 'VT_std',\n",
    " 'body_mass_index',\n",
    " 'declampage_cote2_done_std',\n",
    " 'oto_score']\n",
    "\n",
    "choix_features_7=set(choix_features_4 + choix_features_6)\n",
    "\n",
    "choix_features_8=['BMI_donor', 'LAS', 'PF_donor', 'Poids', 'Poids_donor', 'Taille', 'age',\n",
    "       'body_mass_index', 'oto_score', 'start_operation_month',\n",
    "       'start_operation_day', 'ends_operation_day', 'ETCO2_mean', 'FC_mean',\n",
    "       'FR_mean', 'FiO2_mean', 'PAPdia_mean', 'PAPmoy_mean', 'PASd_mean',\n",
    "       'PASs_mean', 'PEEPtotal_mean', 'PNIm_mean', 'PNIs_mean', 'Pmax_mean',\n",
    "       'Pmean_mean', 'SpO2_mean', 'Temp_mean', 'VT_mean',\n",
    "       'declampage_cote2_done_mean', 'B.I.S_std', 'ETCO2_std', 'FC_std',\n",
    "       'FiO2_std', 'PAPmoy_std', 'PASd_std', 'PASm_std', 'PASs_std',\n",
    "       'PEEPtotal_std', 'PNIs_std', 'Pmax_std', 'Pmean_std', 'SpO2_std',\n",
    "       'SvO2 (m)_std', 'Temp_std', 'VT_std', 'declampage_cote2_done_std',\n",
    "       'ETCO2_max', 'FR_max', 'PAPmoy_max', 'PAPsys_max', 'PASd_max',\n",
    "       'PASm_max', 'PASs_max', 'PEEPtotal_max', 'PNId_max', 'PNIm_max',\n",
    "       'Pmax_max', 'Pmean_max', 'Temp_max', 'VT_max']\n",
    "\n",
    "choix_features_9=set(choix_features_4 + choix_features_8)\n",
    "\n",
    "choix_features_10=['Poids', 'ends_operation_day', 'ETCO2_mean', 'PASs_mean',\n",
    "       'PEEPtotal_mean', 'Pmax_mean', 'Pmean_mean', 'SpO2_mean', 'Temp_mean',\n",
    "       'VT_mean', 'declampage_cote2_done_mean', 'PASd_std', 'VT_std',\n",
    "       'PASm_max', 'Temp_max']\n",
    "\n",
    "choix_features_11=set(choix_features_4 + choix_features_10)"
   ]
  },
  {
   "cell_type": "code",
   "execution_count": 8,
   "metadata": {},
   "outputs": [],
   "source": [
    "Choix_Features=choix_features_8"
   ]
  },
  {
   "cell_type": "code",
   "execution_count": 9,
   "metadata": {},
   "outputs": [
    {
     "data": {
      "text/plain": [
       "60"
      ]
     },
     "execution_count": 9,
     "metadata": {},
     "output_type": "execute_result"
    }
   ],
   "source": [
    "len(Choix_Features)"
   ]
  },
  {
   "cell_type": "code",
   "execution_count": 10,
   "metadata": {},
   "outputs": [],
   "source": [
    "X_train=train[Choix_Features].values \n",
    "X_test=test[Choix_Features].values\n",
    "y_train=train['target'].values\n",
    "y_test=test['target'].values"
   ]
  },
  {
   "cell_type": "code",
   "execution_count": 11,
   "metadata": {},
   "outputs": [],
   "source": [
    "X_col=train[Choix_Features].columns"
   ]
  },
  {
   "cell_type": "code",
   "execution_count": 12,
   "metadata": {},
   "outputs": [
    {
     "data": {
      "text/plain": [
       "((228, 60), (102, 60), (228,), (102,))"
      ]
     },
     "execution_count": 12,
     "metadata": {},
     "output_type": "execute_result"
    }
   ],
   "source": [
    "X_train.shape, X_test.shape, y_train.shape, y_test.shape"
   ]
  },
  {
   "cell_type": "markdown",
   "metadata": {},
   "source": [
    "We need to change the y format in order to make our models work"
   ]
  },
  {
   "cell_type": "code",
   "execution_count": 13,
   "metadata": {},
   "outputs": [],
   "source": [
    "y_train, y_test = y_train.reshape(-1, 1).ravel() , y_test.reshape(-1, 1).ravel()"
   ]
  },
  {
   "cell_type": "code",
   "execution_count": 14,
   "metadata": {},
   "outputs": [
    {
     "data": {
      "text/plain": [
       "((228, 60), (102, 60), (228,), (102,))"
      ]
     },
     "execution_count": 14,
     "metadata": {},
     "output_type": "execute_result"
    }
   ],
   "source": [
    "X_train.shape, X_test.shape, y_train.shape, y_test.shape"
   ]
  },
  {
   "cell_type": "markdown",
   "metadata": {},
   "source": [
    "## ML Tuning"
   ]
  },
  {
   "cell_type": "code",
   "execution_count": 15,
   "metadata": {},
   "outputs": [],
   "source": [
    "cols = X_col  # On a besoin des colonnes pour plus tard\n",
    "# On observe le grand X et pas le petit x ...\n",
    "\n",
    "ntrain = X_train.shape[0]\n",
    "\n",
    "ntest = X_test.shape[0]\n",
    "\n",
    "seed_fix = 5                   # Pour reproduire les résultats"
   ]
  },
  {
   "cell_type": "code",
   "execution_count": 16,
   "metadata": {},
   "outputs": [
    {
     "data": {
      "text/plain": [
       "(228, 102)"
      ]
     },
     "execution_count": 16,
     "metadata": {},
     "output_type": "execute_result"
    }
   ],
   "source": [
    "ntrain, ntest"
   ]
  },
  {
   "cell_type": "code",
   "execution_count": 17,
   "metadata": {},
   "outputs": [],
   "source": [
    "class SklearnHelper(object):\n",
    "    def __init__(self, clf, seed=0, params=None):\n",
    "        params['random_state'] = seed\n",
    "        self.clf = clf(**params)\n",
    "\n",
    "    def train(self, x_train, y_train):\n",
    "        self.clf.fit(x_train, y_train)\n",
    "\n",
    "    def predict(self, x):\n",
    "        return self.clf.predict(x)\n",
    "\n",
    "    def fit(self, x, y):\n",
    "        return self.clf.fit(x, y)\n",
    "\n",
    "    def feature_importances(self, x, y):\n",
    "        return self.clf.fit(x, y).feature_importances_"
   ]
  },
  {
   "cell_type": "code",
   "execution_count": 18,
   "metadata": {},
   "outputs": [],
   "source": [
    "NFOLDS = 5\n",
    "kf = KFold(n_splits=NFOLDS, random_state=seed_fix)\n",
    "\n",
    "\n",
    "def get_oof(clf, x_train, y_train, x_test):\n",
    "    oof_train = np.zeros((ntrain,))\n",
    "    oof_test = np.zeros((ntest,))\n",
    "    oof_test_skf = np.empty((NFOLDS, ntest))\n",
    "\n",
    "    for i, (train_index, test_index) in enumerate(kf.split(x_train)):\n",
    "        x_tr = x_train[train_index]\n",
    "        y_tr = y_train[train_index]\n",
    "        x_te = x_train[test_index]\n",
    "\n",
    "        clf.train(x_tr, y_tr)\n",
    "\n",
    "        oof_train[test_index] = clf.predict(x_te)\n",
    "        oof_test_skf[i, :] = clf.predict(x_test)\n",
    "\n",
    "    oof_test[:] = oof_test_skf.mean(axis=0)\n",
    "    return oof_train.reshape(-1, 1), oof_test.reshape(-1, 1)"
   ]
  },
  {
   "cell_type": "code",
   "execution_count": 19,
   "metadata": {},
   "outputs": [],
   "source": [
    "rf_params = {\n",
    "    'n_jobs': -1,\n",
    "    'n_estimators': 500,\n",
    "    #'warm_start': True,\n",
    "    # 'max_features': 0.2,\n",
    "    'max_depth': 6,\n",
    "    'min_samples_leaf': 2,\n",
    "    'max_features': 'sqrt',\n",
    "    'verbose': 0\n",
    "}"
   ]
  },
  {
   "cell_type": "code",
   "execution_count": 20,
   "metadata": {},
   "outputs": [],
   "source": [
    "et_params = {\n",
    "    'n_jobs': -1,\n",
    "    'n_estimators': 500,\n",
    "    # 'max_features': 0.5,\n",
    "    'max_depth': 8,\n",
    "    'min_samples_leaf': 2,\n",
    "    'verbose': 0\n",
    "}"
   ]
  },
  {
   "cell_type": "code",
   "execution_count": 21,
   "metadata": {},
   "outputs": [],
   "source": [
    "ada_params = {\n",
    "    'n_estimators': 500,\n",
    "    'learning_rate': 0.75\n",
    "}"
   ]
  },
  {
   "cell_type": "code",
   "execution_count": 22,
   "metadata": {},
   "outputs": [],
   "source": [
    "gb_params = {\n",
    "    'n_estimators': 500,\n",
    "    # 'max_features': 0.2,\n",
    "    'max_depth': 5,\n",
    "    'min_samples_leaf': 2,\n",
    "    'verbose': 0\n",
    "}"
   ]
  },
  {
   "cell_type": "code",
   "execution_count": 23,
   "metadata": {},
   "outputs": [],
   "source": [
    "rf = SklearnHelper(clf=RandomForestClassifier, seed=seed_fix, params=rf_params)\n",
    "et = SklearnHelper(clf=ExtraTreesClassifier, seed=seed_fix, params=et_params)\n",
    "ada = SklearnHelper(clf=AdaBoostClassifier, seed=seed_fix, params=ada_params)\n",
    "gb = SklearnHelper(clf=GradientBoostingClassifier,\n",
    "                   seed=seed_fix, params=gb_params)"
   ]
  },
  {
   "cell_type": "code",
   "execution_count": 24,
   "metadata": {},
   "outputs": [
    {
     "data": {
      "text/plain": [
       "((228, 60), (228,), (102, 60))"
      ]
     },
     "execution_count": 24,
     "metadata": {},
     "output_type": "execute_result"
    }
   ],
   "source": [
    "X_train.shape, y_train.shape, X_test.shape"
   ]
  },
  {
   "cell_type": "markdown",
   "metadata": {},
   "source": [
    "## Learning zone"
   ]
  },
  {
   "cell_type": "code",
   "execution_count": 25,
   "metadata": {},
   "outputs": [
    {
     "name": "stdout",
     "output_type": "stream",
     "text": [
      "I am done learning :D\n",
      "Wall time: 31.8 s\n"
     ]
    }
   ],
   "source": [
    "%%time\n",
    "et_oof_train, et_oof_test = get_oof(\n",
    "    et, X_train, y_train, X_test)  # Extra Trees\n",
    "rf_oof_train, rf_oof_test = get_oof(\n",
    "    rf, X_train, y_train, X_test)  # Random Forest\n",
    "ada_oof_train, ada_oof_test = get_oof(\n",
    "    ada, X_train, y_train, X_test)  # AdaBoost\n",
    "gb_oof_train, gb_oof_test = get_oof(\n",
    "    gb, X_train, y_train, X_test)  # Gradient Boost\n",
    "\n",
    "print(\"I am done learning :D\")"
   ]
  },
  {
   "cell_type": "code",
   "execution_count": 26,
   "metadata": {},
   "outputs": [],
   "source": [
    "rf_feature = rf.feature_importances(X_train, y_train)\n",
    "et_feature = et.feature_importances(X_train, y_train)\n",
    "ada_feature = ada.feature_importances(X_train, y_train)\n",
    "gb_feature = gb.feature_importances(X_train, y_train)\n",
    "\n",
    "# On met plutot dans un dataFrame\n",
    "feature_dataframe = pd.DataFrame({'features': cols,\n",
    "                                  'Random Forest Importance des features': rf_feature,\n",
    "                                  'Extra Trees Importance des features': et_feature,\n",
    "                                  'AdaBoost Importance des features': ada_feature,\n",
    "                                  'Gradient Boost Importance des features': gb_feature\n",
    "                                  })"
   ]
  },
  {
   "cell_type": "code",
   "execution_count": 27,
   "metadata": {},
   "outputs": [],
   "source": [
    "rf_pred = rf.predict(X_test)\n",
    "et_pred = et.predict(X_test)\n",
    "ada_pred = ada.predict(X_test)\n",
    "gb_pred = gb.predict(X_test)"
   ]
  },
  {
   "cell_type": "code",
   "execution_count": 28,
   "metadata": {},
   "outputs": [],
   "source": [
    "accu_comparaison={} ## To compare performances at the end"
   ]
  },
  {
   "cell_type": "code",
   "execution_count": 29,
   "metadata": {},
   "outputs": [
    {
     "data": {
      "text/plain": [
       "{}"
      ]
     },
     "execution_count": 29,
     "metadata": {},
     "output_type": "execute_result"
    }
   ],
   "source": [
    "accu_comparaison"
   ]
  },
  {
   "cell_type": "markdown",
   "metadata": {},
   "source": [
    "## Résultats"
   ]
  },
  {
   "cell_type": "markdown",
   "metadata": {},
   "source": [
    "#### For the ones who forgot : \n",
    "\n",
    "##### Compute the precision\n",
    "\n",
    "The precision is the ratio tp / (tp + fp) where tp is the number of true positives and fp the number of false positives. The precision is intuitively the ability of the classifier not to label as positive a sample that is negative.\n",
    "\n",
    "The best value is 1 and the worst value is 0.\n",
    "\n",
    "##### Compute the recall\n",
    "\n",
    "The recall is the ratio tp / (tp + fn) where tp is the number of true positives and fn the number of false negatives. The recall is intuitively the ability of the classifier to find all the positive samples.\n",
    "\n",
    "The best value is 1 and the worst value is 0.\n",
    "\n",
    "##### F1 score\n",
    "The F1 score can be interpreted as a weighted average of the precision and recall, where an F1 score reaches its best value at 1 and worst score at 0. The relative contribution of precision and recall to the F1 score are equal. The formula for the F1 score is:\n",
    "\n",
    "F1 = 2 (precision recall) / (precision + recall)\n",
    "\n",
    "The support is the number of occurrences of each class in y_true"
   ]
  },
  {
   "cell_type": "markdown",
   "metadata": {},
   "source": [
    "### Random Forest"
   ]
  },
  {
   "cell_type": "code",
   "execution_count": 30,
   "metadata": {
    "scrolled": false
   },
   "outputs": [
    {
     "name": "stdout",
     "output_type": "stream",
     "text": [
      "Accuracy :\n",
      "0.7058823529411765\n"
     ]
    }
   ],
   "source": [
    "print(\"Accuracy :\")\n",
    "rf_accu=metrics.accuracy_score(y_test,rf_pred)\n",
    "accu_comparaison['Random Forest']=rf_accu\n",
    "print(rf_accu)"
   ]
  },
  {
   "cell_type": "code",
   "execution_count": 31,
   "metadata": {},
   "outputs": [
    {
     "data": {
      "text/plain": [
       "{'Random Forest': 0.7058823529411765}"
      ]
     },
     "execution_count": 31,
     "metadata": {},
     "output_type": "execute_result"
    }
   ],
   "source": [
    "accu_comparaison"
   ]
  },
  {
   "cell_type": "code",
   "execution_count": 32,
   "metadata": {},
   "outputs": [
    {
     "name": "stdout",
     "output_type": "stream",
     "text": [
      "              precision    recall  f1-score   support\n",
      "\n",
      "           0       0.86      0.70      0.77        73\n",
      "           1       0.49      0.72      0.58        29\n",
      "\n",
      "   micro avg       0.71      0.71      0.71       102\n",
      "   macro avg       0.68      0.71      0.68       102\n",
      "weighted avg       0.76      0.71      0.72       102\n",
      "\n"
     ]
    }
   ],
   "source": [
    "print(metrics.classification_report(rf_pred, y_test))"
   ]
  },
  {
   "cell_type": "code",
   "execution_count": 33,
   "metadata": {
    "scrolled": false
   },
   "outputs": [
    {
     "data": {
      "text/plain": [
       "<matplotlib.axes._subplots.AxesSubplot at 0x194e6d71e80>"
      ]
     },
     "execution_count": 33,
     "metadata": {},
     "output_type": "execute_result"
    },
    {
     "data": {
      "image/png": "[encoded data removed]",
      "text/plain": [
       "<Figure size 504x432 with 2 Axes>"
      ]
     },
     "metadata": {
      "needs_background": "light"
     },
     "output_type": "display_data"
    }
   ],
   "source": [
    "colormap = plt.cm.Purples\n",
    "plt.figure(figsize=(7,6))\n",
    "plt.title('Matrice de confusion Proba Random Forest', y=1.05, size=15)\n",
    "sns.heatmap(confusion_matrix(y_test, rf_pred)/ntest,linewidths=0.1, \n",
    "            square=True, cmap=colormap, linecolor='white', annot=True,\n",
    "           vmin=0, vmax=0.6)"
   ]
  },
  {
   "cell_type": "code",
   "execution_count": 34,
   "metadata": {},
   "outputs": [
    {
     "data": {
      "application/vnd.plotly.v1+json": {
       "config": {
        "linkText": "Export to plot.ly",
        "plotlyServerURL": "https://plot.ly",
        "showLink": false
       },
       "data": [
        {
         "marker": {
          "color": [
           0.012558962975209231,
           0.017537599479512108,
           0.016881150203723203,
           0.028738527878757303,
           0.009099740278189994,
           0.01155700428443913,
           0.01195901954352661,
           0.03098341951723969,
           0.014850454127648306,
           0.0080870274712622,
           0.014914806466358782,
           0.016391207723401222,
           0.041333148596938804,
           0.011566531139236976,
           0.017780021161448514,
           0.026310063609788405,
           0.010718167519254272,
           0.011612559465381625,
           0.016331616893431763,
           0.032185289827667114,
           0.016970821165275346,
           0.012774867854519107,
           0.012462944207922742,
           0.014183569941856869,
           0.018726438896279844,
           0.025712920980472648,
           0.03395286256314199,
           0.02224493325677133,
           0.01985041569010113,
           0.014164200887380077,
           0.012741450751245711,
           0.014042746984648663,
           0.015558924521670792,
           0.01158669494385531,
           0.0125574656626801,
           0.014315280682543683,
           0.020563263130985256,
           0.025161177761478234,
           0.015573979545912237,
           0.012819851031532244,
           0.012762817825622993,
           0.020675597716582575,
           0.014468353699388403,
           0.016530161260772093,
           0.02211032018259162,
           0.018524518515393263,
           0.018325609566432435,
           0.010287441597369908,
           0.010185801724929885,
           0.01711177951886284,
           0.014803383591472534,
           0.017135042490893728,
           0.015771411680141147,
           0.010213311551067014,
           0.010195892511133507,
           0.012456297082961688,
           0.011840114504870958,
           0.010354021475166422,
           0.016209376054735877,
           0.012677618826922497
          ],
          "colorscale": "Portland",
          "showscale": true,
          "size": 25,
          "sizemode": "diameter",
          "sizeref": 1
         },
         "mode": "markers",
         "text": [
          "BMI_donor",
          "LAS",
          "PF_donor",
          "Poids",
          "Poids_donor",
          "Taille",
          "age",
          "body_mass_index",
          "oto_score",
          "start_operation_month",
          "start_operation_day",
          "ends_operation_day",
          "ETCO2_mean",
          "FC_mean",
          "FR_mean",
          "FiO2_mean",
          "PAPdia_mean",
          "PAPmoy_mean",
          "PASd_mean",
          "PASs_mean",
          "PEEPtotal_mean",
          "PNIm_mean",
          "PNIs_mean",
          "Pmax_mean",
          "Pmean_mean",
          "SpO2_mean",
          "Temp_mean",
          "VT_mean",
          "declampage_cote2_done_mean",
          "B.I.S_std",
          "ETCO2_std",
          "FC_std",
          "FiO2_std",
          "PAPmoy_std",
          "PASd_std",
          "PASm_std",
          "PASs_std",
          "PEEPtotal_std",
          "PNIs_std",
          "Pmax_std",
          "Pmean_std",
          "SpO2_std",
          "SvO2 (m)_std",
          "Temp_std",
          "VT_std",
          "declampage_cote2_done_std",
          "ETCO2_max",
          "FR_max",
          "PAPmoy_max",
          "PAPsys_max",
          "PASd_max",
          "PASm_max",
          "PASs_max",
          "PEEPtotal_max",
          "PNId_max",
          "PNIm_max",
          "Pmax_max",
          "Pmean_max",
          "Temp_max",
          "VT_max"
         ],
         "type": "scatter",
         "uid": "7ad4f3ab-2a1e-4f52-8160-c4974f54b72e",
         "x": [
          "BMI_donor",
          "LAS",
          "PF_donor",
          "Poids",
          "Poids_donor",
          "Taille",
          "age",
          "body_mass_index",
          "oto_score",
          "start_operation_month",
          "start_operation_day",
          "ends_operation_day",
          "ETCO2_mean",
          "FC_mean",
          "FR_mean",
          "FiO2_mean",
          "PAPdia_mean",
          "PAPmoy_mean",
          "PASd_mean",
          "PASs_mean",
          "PEEPtotal_mean",
          "PNIm_mean",
          "PNIs_mean",
          "Pmax_mean",
          "Pmean_mean",
          "SpO2_mean",
          "Temp_mean",
          "VT_mean",
          "declampage_cote2_done_mean",
          "B.I.S_std",
          "ETCO2_std",
          "FC_std",
          "FiO2_std",
          "PAPmoy_std",
          "PASd_std",
          "PASm_std",
          "PASs_std",
          "PEEPtotal_std",
          "PNIs_std",
          "Pmax_std",
          "Pmean_std",
          "SpO2_std",
          "SvO2 (m)_std",
          "Temp_std",
          "VT_std",
          "declampage_cote2_done_std",
          "ETCO2_max",
          "FR_max",
          "PAPmoy_max",
          "PAPsys_max",
          "PASd_max",
          "PASm_max",
          "PASs_max",
          "PEEPtotal_max",
          "PNId_max",
          "PNIm_max",
          "Pmax_max",
          "Pmean_max",
          "Temp_max",
          "VT_max"
         ],
         "y": [
          0.012558962975209231,
          0.017537599479512108,
          0.016881150203723203,
          0.028738527878757303,
          0.009099740278189994,
          0.01155700428443913,
          0.01195901954352661,
          0.03098341951723969,
          0.014850454127648306,
          0.0080870274712622,
          0.014914806466358782,
          0.016391207723401222,
          0.041333148596938804,
          0.011566531139236976,
          0.017780021161448514,
          0.026310063609788405,
          0.010718167519254272,
          0.011612559465381625,
          0.016331616893431763,
          0.032185289827667114,
          0.016970821165275346,
          0.012774867854519107,
          0.012462944207922742,
          0.014183569941856869,
          0.018726438896279844,
          0.025712920980472648,
          0.03395286256314199,
          0.02224493325677133,
          0.01985041569010113,
          0.014164200887380077,
          0.012741450751245711,
          0.014042746984648663,
          0.015558924521670792,
          0.01158669494385531,
          0.0125574656626801,
          0.014315280682543683,
          0.020563263130985256,
          0.025161177761478234,
          0.015573979545912237,
          0.012819851031532244,
          0.012762817825622993,
          0.020675597716582575,
          0.014468353699388403,
          0.016530161260772093,
          0.02211032018259162,
          0.018524518515393263,
          0.018325609566432435,
          0.010287441597369908,
          0.010185801724929885,
          0.01711177951886284,
          0.014803383591472534,
          0.017135042490893728,
          0.015771411680141147,
          0.010213311551067014,
          0.010195892511133507,
          0.012456297082961688,
          0.011840114504870958,
          0.010354021475166422,
          0.016209376054735877,
          0.012677618826922497
         ]
        }
       ],
       "layout": {
        "autosize": true,
        "hovermode": "closest",
        "showlegend": false,
        "title": {
         "text": "Random Forest Importance des features"
        },
        "yaxis": {
         "gridwidth": 2,
         "ticklen": 5,
         "title": {
          "text": "Importance des features"
         }
        }
       }
      },
      "text/html": [
       "<div id=\"db490c92-b420-4197-9bf7-568a11fae61f\" style=\"height: 525px; width: 100%;\" class=\"plotly-graph-div\"></div><script type=\"text/javascript\">require([\"plotly\"], function(Plotly) { window.PLOTLYENV=window.PLOTLYENV || {};window.PLOTLYENV.BASE_URL=\"https://plot.ly\";Plotly.newPlot(\"db490c92-b420-4197-9bf7-568a11fae61f\", [{\"marker\": {\"color\": [0.012558962975209231, 0.017537599479512108, 0.016881150203723203, 0.028738527878757303, 0.009099740278189994, 0.01155700428443913, 0.01195901954352661, 0.03098341951723969, 0.014850454127648306, 0.0080870274712622, 0.014914806466358782, 0.016391207723401222, 0.041333148596938804, 0.011566531139236976, 0.017780021161448514, 0.026310063609788405, 0.010718167519254272, 0.011612559465381625, 0.016331616893431763, 0.032185289827667114, 0.016970821165275346, 0.012774867854519107, 0.012462944207922742, 0.014183569941856869, 0.018726438896279844, 0.025712920980472648, 0.03395286256314199, 0.02224493325677133, 0.01985041569010113, 0.014164200887380077, 0.012741450751245711, 0.014042746984648663, 0.015558924521670792, 0.01158669494385531, 0.0125574656626801, 0.014315280682543683, 0.020563263130985256, 0.025161177761478234, 0.015573979545912237, 0.012819851031532244, 0.012762817825622993, 0.020675597716582575, 0.014468353699388403, 0.016530161260772093, 0.02211032018259162, 0.018524518515393263, 0.018325609566432435, 0.010287441597369908, 0.010185801724929885, 0.01711177951886284, 0.014803383591472534, 0.017135042490893728, 0.015771411680141147, 0.010213311551067014, 0.010195892511133507, 0.012456297082961688, 0.011840114504870958, 0.010354021475166422, 0.016209376054735877, 0.012677618826922497], \"colorscale\": \"Portland\", \"showscale\": true, \"size\": 25, \"sizemode\": \"diameter\", \"sizeref\": 1}, \"mode\": \"markers\", \"text\": [\"BMI_donor\", \"LAS\", \"PF_donor\", \"Poids\", \"Poids_donor\", \"Taille\", \"age\", \"body_mass_index\", \"oto_score\", \"start_operation_month\", \"start_operation_day\", \"ends_operation_day\", \"ETCO2_mean\", \"FC_mean\", \"FR_mean\", \"FiO2_mean\", \"PAPdia_mean\", \"PAPmoy_mean\", \"PASd_mean\", \"PASs_mean\", \"PEEPtotal_mean\", \"PNIm_mean\", \"PNIs_mean\", \"Pmax_mean\", \"Pmean_mean\", \"SpO2_mean\", \"Temp_mean\", \"VT_mean\", \"declampage_cote2_done_mean\", \"B.I.S_std\", \"ETCO2_std\", \"FC_std\", \"FiO2_std\", \"PAPmoy_std\", \"PASd_std\", \"PASm_std\", \"PASs_std\", \"PEEPtotal_std\", \"PNIs_std\", \"Pmax_std\", \"Pmean_std\", \"SpO2_std\", \"SvO2 (m)_std\", \"Temp_std\", \"VT_std\", \"declampage_cote2_done_std\", \"ETCO2_max\", \"FR_max\", \"PAPmoy_max\", \"PAPsys_max\", \"PASd_max\", \"PASm_max\", \"PASs_max\", \"PEEPtotal_max\", \"PNId_max\", \"PNIm_max\", \"Pmax_max\", \"Pmean_max\", \"Temp_max\", \"VT_max\"], \"x\": [\"BMI_donor\", \"LAS\", \"PF_donor\", \"Poids\", \"Poids_donor\", \"Taille\", \"age\", \"body_mass_index\", \"oto_score\", \"start_operation_month\", \"start_operation_day\", \"ends_operation_day\", \"ETCO2_mean\", \"FC_mean\", \"FR_mean\", \"FiO2_mean\", \"PAPdia_mean\", \"PAPmoy_mean\", \"PASd_mean\", \"PASs_mean\", \"PEEPtotal_mean\", \"PNIm_mean\", \"PNIs_mean\", \"Pmax_mean\", \"Pmean_mean\", \"SpO2_mean\", \"Temp_mean\", \"VT_mean\", \"declampage_cote2_done_mean\", \"B.I.S_std\", \"ETCO2_std\", \"FC_std\", \"FiO2_std\", \"PAPmoy_std\", \"PASd_std\", \"PASm_std\", \"PASs_std\", \"PEEPtotal_std\", \"PNIs_std\", \"Pmax_std\", \"Pmean_std\", \"SpO2_std\", \"SvO2 (m)_std\", \"Temp_std\", \"VT_std\", \"declampage_cote2_done_std\", \"ETCO2_max\", \"FR_max\", \"PAPmoy_max\", \"PAPsys_max\", \"PASd_max\", \"PASm_max\", \"PASs_max\", \"PEEPtotal_max\", \"PNId_max\", \"PNIm_max\", \"Pmax_max\", \"Pmean_max\", \"Temp_max\", \"VT_max\"], \"y\": [0.012558962975209231, 0.017537599479512108, 0.016881150203723203, 0.028738527878757303, 0.009099740278189994, 0.01155700428443913, 0.01195901954352661, 0.03098341951723969, 0.014850454127648306, 0.0080870274712622, 0.014914806466358782, 0.016391207723401222, 0.041333148596938804, 0.011566531139236976, 0.017780021161448514, 0.026310063609788405, 0.010718167519254272, 0.011612559465381625, 0.016331616893431763, 0.032185289827667114, 0.016970821165275346, 0.012774867854519107, 0.012462944207922742, 0.014183569941856869, 0.018726438896279844, 0.025712920980472648, 0.03395286256314199, 0.02224493325677133, 0.01985041569010113, 0.014164200887380077, 0.012741450751245711, 0.014042746984648663, 0.015558924521670792, 0.01158669494385531, 0.0125574656626801, 0.014315280682543683, 0.020563263130985256, 0.025161177761478234, 0.015573979545912237, 0.012819851031532244, 0.012762817825622993, 0.020675597716582575, 0.014468353699388403, 0.016530161260772093, 0.02211032018259162, 0.018524518515393263, 0.018325609566432435, 0.010287441597369908, 0.010185801724929885, 0.01711177951886284, 0.014803383591472534, 0.017135042490893728, 0.015771411680141147, 0.010213311551067014, 0.010195892511133507, 0.012456297082961688, 0.011840114504870958, 0.010354021475166422, 0.016209376054735877, 0.012677618826922497], \"type\": \"scatter\", \"uid\": \"7ad4f3ab-2a1e-4f52-8160-c4974f54b72e\"}], {\"autosize\": true, \"hovermode\": \"closest\", \"showlegend\": false, \"title\": {\"text\": \"Random Forest Importance des features\"}, \"yaxis\": {\"gridwidth\": 2, \"ticklen\": 5, \"title\": {\"text\": \"Importance des features\"}}}, {\"showLink\": false, \"linkText\": \"Export to plot.ly\", \"plotlyServerURL\": \"https://plot.ly\"})});</script><script type=\"text/javascript\">window.addEventListener(\"resize\", function(){window._Plotly.Plots.resize(document.getElementById(\"db490c92-b420-4197-9bf7-568a11fae61f\"));});</script>"
      ],
      "text/vnd.plotly.v1+html": [
       "<div id=\"db490c92-b420-4197-9bf7-568a11fae61f\" style=\"height: 525px; width: 100%;\" class=\"plotly-graph-div\"></div><script type=\"text/javascript\">require([\"plotly\"], function(Plotly) { window.PLOTLYENV=window.PLOTLYENV || {};window.PLOTLYENV.BASE_URL=\"https://plot.ly\";Plotly.newPlot(\"db490c92-b420-4197-9bf7-568a11fae61f\", [{\"marker\": {\"color\": [0.012558962975209231, 0.017537599479512108, 0.016881150203723203, 0.028738527878757303, 0.009099740278189994, 0.01155700428443913, 0.01195901954352661, 0.03098341951723969, 0.014850454127648306, 0.0080870274712622, 0.014914806466358782, 0.016391207723401222, 0.041333148596938804, 0.011566531139236976, 0.017780021161448514, 0.026310063609788405, 0.010718167519254272, 0.011612559465381625, 0.016331616893431763, 0.032185289827667114, 0.016970821165275346, 0.012774867854519107, 0.012462944207922742, 0.014183569941856869, 0.018726438896279844, 0.025712920980472648, 0.03395286256314199, 0.02224493325677133, 0.01985041569010113, 0.014164200887380077, 0.012741450751245711, 0.014042746984648663, 0.015558924521670792, 0.01158669494385531, 0.0125574656626801, 0.014315280682543683, 0.020563263130985256, 0.025161177761478234, 0.015573979545912237, 0.012819851031532244, 0.012762817825622993, 0.020675597716582575, 0.014468353699388403, 0.016530161260772093, 0.02211032018259162, 0.018524518515393263, 0.018325609566432435, 0.010287441597369908, 0.010185801724929885, 0.01711177951886284, 0.014803383591472534, 0.017135042490893728, 0.015771411680141147, 0.010213311551067014, 0.010195892511133507, 0.012456297082961688, 0.011840114504870958, 0.010354021475166422, 0.016209376054735877, 0.012677618826922497], \"colorscale\": \"Portland\", \"showscale\": true, \"size\": 25, \"sizemode\": \"diameter\", \"sizeref\": 1}, \"mode\": \"markers\", \"text\": [\"BMI_donor\", \"LAS\", \"PF_donor\", \"Poids\", \"Poids_donor\", \"Taille\", \"age\", \"body_mass_index\", \"oto_score\", \"start_operation_month\", \"start_operation_day\", \"ends_operation_day\", \"ETCO2_mean\", \"FC_mean\", \"FR_mean\", \"FiO2_mean\", \"PAPdia_mean\", \"PAPmoy_mean\", \"PASd_mean\", \"PASs_mean\", \"PEEPtotal_mean\", \"PNIm_mean\", \"PNIs_mean\", \"Pmax_mean\", \"Pmean_mean\", \"SpO2_mean\", \"Temp_mean\", \"VT_mean\", \"declampage_cote2_done_mean\", \"B.I.S_std\", \"ETCO2_std\", \"FC_std\", \"FiO2_std\", \"PAPmoy_std\", \"PASd_std\", \"PASm_std\", \"PASs_std\", \"PEEPtotal_std\", \"PNIs_std\", \"Pmax_std\", \"Pmean_std\", \"SpO2_std\", \"SvO2 (m)_std\", \"Temp_std\", \"VT_std\", \"declampage_cote2_done_std\", \"ETCO2_max\", \"FR_max\", \"PAPmoy_max\", \"PAPsys_max\", \"PASd_max\", \"PASm_max\", \"PASs_max\", \"PEEPtotal_max\", \"PNId_max\", \"PNIm_max\", \"Pmax_max\", \"Pmean_max\", \"Temp_max\", \"VT_max\"], \"x\": [\"BMI_donor\", \"LAS\", \"PF_donor\", \"Poids\", \"Poids_donor\", \"Taille\", \"age\", \"body_mass_index\", \"oto_score\", \"start_operation_month\", \"start_operation_day\", \"ends_operation_day\", \"ETCO2_mean\", \"FC_mean\", \"FR_mean\", \"FiO2_mean\", \"PAPdia_mean\", \"PAPmoy_mean\", \"PASd_mean\", \"PASs_mean\", \"PEEPtotal_mean\", \"PNIm_mean\", \"PNIs_mean\", \"Pmax_mean\", \"Pmean_mean\", \"SpO2_mean\", \"Temp_mean\", \"VT_mean\", \"declampage_cote2_done_mean\", \"B.I.S_std\", \"ETCO2_std\", \"FC_std\", \"FiO2_std\", \"PAPmoy_std\", \"PASd_std\", \"PASm_std\", \"PASs_std\", \"PEEPtotal_std\", \"PNIs_std\", \"Pmax_std\", \"Pmean_std\", \"SpO2_std\", \"SvO2 (m)_std\", \"Temp_std\", \"VT_std\", \"declampage_cote2_done_std\", \"ETCO2_max\", \"FR_max\", \"PAPmoy_max\", \"PAPsys_max\", \"PASd_max\", \"PASm_max\", \"PASs_max\", \"PEEPtotal_max\", \"PNId_max\", \"PNIm_max\", \"Pmax_max\", \"Pmean_max\", \"Temp_max\", \"VT_max\"], \"y\": [0.012558962975209231, 0.017537599479512108, 0.016881150203723203, 0.028738527878757303, 0.009099740278189994, 0.01155700428443913, 0.01195901954352661, 0.03098341951723969, 0.014850454127648306, 0.0080870274712622, 0.014914806466358782, 0.016391207723401222, 0.041333148596938804, 0.011566531139236976, 0.017780021161448514, 0.026310063609788405, 0.010718167519254272, 0.011612559465381625, 0.016331616893431763, 0.032185289827667114, 0.016970821165275346, 0.012774867854519107, 0.012462944207922742, 0.014183569941856869, 0.018726438896279844, 0.025712920980472648, 0.03395286256314199, 0.02224493325677133, 0.01985041569010113, 0.014164200887380077, 0.012741450751245711, 0.014042746984648663, 0.015558924521670792, 0.01158669494385531, 0.0125574656626801, 0.014315280682543683, 0.020563263130985256, 0.025161177761478234, 0.015573979545912237, 0.012819851031532244, 0.012762817825622993, 0.020675597716582575, 0.014468353699388403, 0.016530161260772093, 0.02211032018259162, 0.018524518515393263, 0.018325609566432435, 0.010287441597369908, 0.010185801724929885, 0.01711177951886284, 0.014803383591472534, 0.017135042490893728, 0.015771411680141147, 0.010213311551067014, 0.010195892511133507, 0.012456297082961688, 0.011840114504870958, 0.010354021475166422, 0.016209376054735877, 0.012677618826922497], \"type\": \"scatter\", \"uid\": \"7ad4f3ab-2a1e-4f52-8160-c4974f54b72e\"}], {\"autosize\": true, \"hovermode\": \"closest\", \"showlegend\": false, \"title\": {\"text\": \"Random Forest Importance des features\"}, \"yaxis\": {\"gridwidth\": 2, \"ticklen\": 5, \"title\": {\"text\": \"Importance des features\"}}}, {\"showLink\": false, \"linkText\": \"Export to plot.ly\", \"plotlyServerURL\": \"https://plot.ly\"})});</script><script type=\"text/javascript\">window.addEventListener(\"resize\", function(){window._Plotly.Plots.resize(document.getElementById(\"db490c92-b420-4197-9bf7-568a11fae61f\"));});</script>"
      ]
     },
     "metadata": {},
     "output_type": "display_data"
    }
   ],
   "source": [
    "trace = go.Scatter(x=feature_dataframe['features'].values,\n",
    "                   y=feature_dataframe['Random Forest Importance des features'].values,\n",
    "\n",
    "                   mode='markers',\n",
    "                   marker=dict(\n",
    "    sizemode='diameter',\n",
    "    sizeref=1,\n",
    "    size=25,\n",
    "    # color = np.random.randn(500), #set color equal to a variable\n",
    "    color=feature_dataframe['Random Forest Importance des features'].values,\n",
    "    colorscale='Portland',\n",
    "    showscale=True\n",
    "),\n",
    "    text=feature_dataframe['features'].values\n",
    ")\n",
    "\n",
    "data = [trace]\n",
    "\n",
    "layout = go.Layout(\n",
    "    autosize=True,\n",
    "    title='Random Forest Importance des features',\n",
    "    hovermode='closest',\n",
    "    yaxis=dict(\n",
    "        title='Importance des features',\n",
    "        ticklen=5,\n",
    "        gridwidth=2\n",
    "    ),\n",
    "    showlegend=False\n",
    ")\n",
    "\n",
    "fig = go.Figure(data=data, layout=layout)\n",
    "\n",
    "py.iplot(fig, filename='scatter2010')"
   ]
  },
  {
   "cell_type": "markdown",
   "metadata": {},
   "source": [
    "### Extra Tree"
   ]
  },
  {
   "cell_type": "code",
   "execution_count": 35,
   "metadata": {},
   "outputs": [
    {
     "name": "stdout",
     "output_type": "stream",
     "text": [
      "Accuracy :\n",
      "0.6470588235294118\n"
     ]
    }
   ],
   "source": [
    "print(\"Accuracy :\")\n",
    "et_accu=metrics.accuracy_score(y_test,et_pred)\n",
    "accu_comparaison['Extra Tree']=et_accu\n",
    "print(et_accu)"
   ]
  },
  {
   "cell_type": "code",
   "execution_count": 36,
   "metadata": {},
   "outputs": [
    {
     "name": "stdout",
     "output_type": "stream",
     "text": [
      "              precision    recall  f1-score   support\n",
      "\n",
      "           0       0.90      0.64      0.75        83\n",
      "           1       0.30      0.68      0.42        19\n",
      "\n",
      "   micro avg       0.65      0.65      0.65       102\n",
      "   macro avg       0.60      0.66      0.58       102\n",
      "weighted avg       0.79      0.65      0.69       102\n",
      "\n"
     ]
    }
   ],
   "source": [
    "print(metrics.classification_report(et_pred, y_test))"
   ]
  },
  {
   "cell_type": "code",
   "execution_count": 37,
   "metadata": {
    "scrolled": true
   },
   "outputs": [
    {
     "data": {
      "text/plain": [
       "<matplotlib.axes._subplots.AxesSubplot at 0x194e72547b8>"
      ]
     },
     "execution_count": 37,
     "metadata": {},
     "output_type": "execute_result"
    },
    {
     "data": {
      "image/png": "[encoded data removed]",
      "text/plain": [
       "<Figure size 504x432 with 2 Axes>"
      ]
     },
     "metadata": {
      "needs_background": "light"
     },
     "output_type": "display_data"
    }
   ],
   "source": [
    "colormap = plt.cm.Purples\n",
    "plt.figure(figsize=(7,6))\n",
    "plt.title('Matrice de confusion Proba Extra Tree', y=1.05, size=15)\n",
    "sns.heatmap(confusion_matrix(y_test, et_pred)/ntest,linewidths=0.1, \n",
    "            square=True, cmap=colormap, linecolor='white', annot=True,\n",
    "           vmin=0, vmax=0.6)"
   ]
  },
  {
   "cell_type": "code",
   "execution_count": 38,
   "metadata": {},
   "outputs": [
    {
     "data": {
      "application/vnd.plotly.v1+json": {
       "config": {
        "linkText": "Export to plot.ly",
        "plotlyServerURL": "https://plot.ly",
        "showLink": false
       },
       "data": [
        {
         "marker": {
          "color": [
           0.015497103059579458,
           0.03276124631779871,
           0.014836810474768057,
           0.02628340567925162,
           0.013461843883269797,
           0.013425916259265893,
           0.012490767843703404,
           0.029366251770136513,
           0.020755405741138558,
           0.01904083396840451,
           0.01915877064034347,
           0.0172798721054234,
           0.02907051296206054,
           0.012626196606345405,
           0.01615731268516695,
           0.020443745921147786,
           0.01210009315952742,
           0.011090642986858934,
           0.013317543470921891,
           0.02104134060878663,
           0.018862051839705463,
           0.013595802247940717,
           0.013862355478199542,
           0.013555211416351558,
           0.019833675027620328,
           0.018682082621384658,
           0.026073067034342857,
           0.021356158512100324,
           0.02054416469637544,
           0.02490311726674872,
           0.012448121989318202,
           0.015437274098003191,
           0.01576395153857026,
           0.009826876866633529,
           0.01278573156146453,
           0.012105496173728436,
           0.012848184707561024,
           0.02364837799261723,
           0.013285996292233598,
           0.012726797481949942,
           0.014600806006022506,
           0.0193609934524745,
           0.018479127517677635,
           0.0166548069969912,
           0.01826633437026334,
           0.02013933536221683,
           0.01637939421462692,
           0.01125417690959109,
           0.013443150635851567,
           0.016483184365544478,
           0.013902070267264975,
           0.015331938954299438,
           0.015375468336869296,
           0.014975314092294096,
           0.012174292296464807,
           0.01034640078979455,
           0.01278942009343867,
           0.016373016721607767,
           0.012434238746522011,
           0.008886418883435799
          ],
          "colorscale": "Portland",
          "showscale": true,
          "size": 25,
          "sizemode": "diameter",
          "sizeref": 1
         },
         "mode": "markers",
         "text": [
          "BMI_donor",
          "LAS",
          "PF_donor",
          "Poids",
          "Poids_donor",
          "Taille",
          "age",
          "body_mass_index",
          "oto_score",
          "start_operation_month",
          "start_operation_day",
          "ends_operation_day",
          "ETCO2_mean",
          "FC_mean",
          "FR_mean",
          "FiO2_mean",
          "PAPdia_mean",
          "PAPmoy_mean",
          "PASd_mean",
          "PASs_mean",
          "PEEPtotal_mean",
          "PNIm_mean",
          "PNIs_mean",
          "Pmax_mean",
          "Pmean_mean",
          "SpO2_mean",
          "Temp_mean",
          "VT_mean",
          "declampage_cote2_done_mean",
          "B.I.S_std",
          "ETCO2_std",
          "FC_std",
          "FiO2_std",
          "PAPmoy_std",
          "PASd_std",
          "PASm_std",
          "PASs_std",
          "PEEPtotal_std",
          "PNIs_std",
          "Pmax_std",
          "Pmean_std",
          "SpO2_std",
          "SvO2 (m)_std",
          "Temp_std",
          "VT_std",
          "declampage_cote2_done_std",
          "ETCO2_max",
          "FR_max",
          "PAPmoy_max",
          "PAPsys_max",
          "PASd_max",
          "PASm_max",
          "PASs_max",
          "PEEPtotal_max",
          "PNId_max",
          "PNIm_max",
          "Pmax_max",
          "Pmean_max",
          "Temp_max",
          "VT_max"
         ],
         "type": "scatter",
         "uid": "6cd7adb9-67ec-478a-a807-57e38604b07b",
         "x": [
          "BMI_donor",
          "LAS",
          "PF_donor",
          "Poids",
          "Poids_donor",
          "Taille",
          "age",
          "body_mass_index",
          "oto_score",
          "start_operation_month",
          "start_operation_day",
          "ends_operation_day",
          "ETCO2_mean",
          "FC_mean",
          "FR_mean",
          "FiO2_mean",
          "PAPdia_mean",
          "PAPmoy_mean",
          "PASd_mean",
          "PASs_mean",
          "PEEPtotal_mean",
          "PNIm_mean",
          "PNIs_mean",
          "Pmax_mean",
          "Pmean_mean",
          "SpO2_mean",
          "Temp_mean",
          "VT_mean",
          "declampage_cote2_done_mean",
          "B.I.S_std",
          "ETCO2_std",
          "FC_std",
          "FiO2_std",
          "PAPmoy_std",
          "PASd_std",
          "PASm_std",
          "PASs_std",
          "PEEPtotal_std",
          "PNIs_std",
          "Pmax_std",
          "Pmean_std",
          "SpO2_std",
          "SvO2 (m)_std",
          "Temp_std",
          "VT_std",
          "declampage_cote2_done_std",
          "ETCO2_max",
          "FR_max",
          "PAPmoy_max",
          "PAPsys_max",
          "PASd_max",
          "PASm_max",
          "PASs_max",
          "PEEPtotal_max",
          "PNId_max",
          "PNIm_max",
          "Pmax_max",
          "Pmean_max",
          "Temp_max",
          "VT_max"
         ],
         "y": [
          0.015497103059579458,
          0.03276124631779871,
          0.014836810474768057,
          0.02628340567925162,
          0.013461843883269797,
          0.013425916259265893,
          0.012490767843703404,
          0.029366251770136513,
          0.020755405741138558,
          0.01904083396840451,
          0.01915877064034347,
          0.0172798721054234,
          0.02907051296206054,
          0.012626196606345405,
          0.01615731268516695,
          0.020443745921147786,
          0.01210009315952742,
          0.011090642986858934,
          0.013317543470921891,
          0.02104134060878663,
          0.018862051839705463,
          0.013595802247940717,
          0.013862355478199542,
          0.013555211416351558,
          0.019833675027620328,
          0.018682082621384658,
          0.026073067034342857,
          0.021356158512100324,
          0.02054416469637544,
          0.02490311726674872,
          0.012448121989318202,
          0.015437274098003191,
          0.01576395153857026,
          0.009826876866633529,
          0.01278573156146453,
          0.012105496173728436,
          0.012848184707561024,
          0.02364837799261723,
          0.013285996292233598,
          0.012726797481949942,
          0.014600806006022506,
          0.0193609934524745,
          0.018479127517677635,
          0.0166548069969912,
          0.01826633437026334,
          0.02013933536221683,
          0.01637939421462692,
          0.01125417690959109,
          0.013443150635851567,
          0.016483184365544478,
          0.013902070267264975,
          0.015331938954299438,
          0.015375468336869296,
          0.014975314092294096,
          0.012174292296464807,
          0.01034640078979455,
          0.01278942009343867,
          0.016373016721607767,
          0.012434238746522011,
          0.008886418883435799
         ]
        }
       ],
       "layout": {
        "autosize": true,
        "hovermode": "closest",
        "showlegend": false,
        "title": {
         "text": "Extra Trees Importance des features"
        },
        "yaxis": {
         "gridwidth": 2,
         "ticklen": 5,
         "title": {
          "text": "Importance des features"
         }
        }
       }
      },
      "text/html": [
       "<div id=\"e1c16299-b741-4a91-9368-03ef255e74ec\" style=\"height: 525px; width: 100%;\" class=\"plotly-graph-div\"></div><script type=\"text/javascript\">require([\"plotly\"], function(Plotly) { window.PLOTLYENV=window.PLOTLYENV || {};window.PLOTLYENV.BASE_URL=\"https://plot.ly\";Plotly.newPlot(\"e1c16299-b741-4a91-9368-03ef255e74ec\", [{\"marker\": {\"color\": [0.015497103059579458, 0.03276124631779871, 0.014836810474768057, 0.02628340567925162, 0.013461843883269797, 0.013425916259265893, 0.012490767843703404, 0.029366251770136513, 0.020755405741138558, 0.01904083396840451, 0.01915877064034347, 0.0172798721054234, 0.02907051296206054, 0.012626196606345405, 0.01615731268516695, 0.020443745921147786, 0.01210009315952742, 0.011090642986858934, 0.013317543470921891, 0.02104134060878663, 0.018862051839705463, 0.013595802247940717, 0.013862355478199542, 0.013555211416351558, 0.019833675027620328, 0.018682082621384658, 0.026073067034342857, 0.021356158512100324, 0.02054416469637544, 0.02490311726674872, 0.012448121989318202, 0.015437274098003191, 0.01576395153857026, 0.009826876866633529, 0.01278573156146453, 0.012105496173728436, 0.012848184707561024, 0.02364837799261723, 0.013285996292233598, 0.012726797481949942, 0.014600806006022506, 0.0193609934524745, 0.018479127517677635, 0.0166548069969912, 0.01826633437026334, 0.02013933536221683, 0.01637939421462692, 0.01125417690959109, 0.013443150635851567, 0.016483184365544478, 0.013902070267264975, 0.015331938954299438, 0.015375468336869296, 0.014975314092294096, 0.012174292296464807, 0.01034640078979455, 0.01278942009343867, 0.016373016721607767, 0.012434238746522011, 0.008886418883435799], \"colorscale\": \"Portland\", \"showscale\": true, \"size\": 25, \"sizemode\": \"diameter\", \"sizeref\": 1}, \"mode\": \"markers\", \"text\": [\"BMI_donor\", \"LAS\", \"PF_donor\", \"Poids\", \"Poids_donor\", \"Taille\", \"age\", \"body_mass_index\", \"oto_score\", \"start_operation_month\", \"start_operation_day\", \"ends_operation_day\", \"ETCO2_mean\", \"FC_mean\", \"FR_mean\", \"FiO2_mean\", \"PAPdia_mean\", \"PAPmoy_mean\", \"PASd_mean\", \"PASs_mean\", \"PEEPtotal_mean\", \"PNIm_mean\", \"PNIs_mean\", \"Pmax_mean\", \"Pmean_mean\", \"SpO2_mean\", \"Temp_mean\", \"VT_mean\", \"declampage_cote2_done_mean\", \"B.I.S_std\", \"ETCO2_std\", \"FC_std\", \"FiO2_std\", \"PAPmoy_std\", \"PASd_std\", \"PASm_std\", \"PASs_std\", \"PEEPtotal_std\", \"PNIs_std\", \"Pmax_std\", \"Pmean_std\", \"SpO2_std\", \"SvO2 (m)_std\", \"Temp_std\", \"VT_std\", \"declampage_cote2_done_std\", \"ETCO2_max\", \"FR_max\", \"PAPmoy_max\", \"PAPsys_max\", \"PASd_max\", \"PASm_max\", \"PASs_max\", \"PEEPtotal_max\", \"PNId_max\", \"PNIm_max\", \"Pmax_max\", \"Pmean_max\", \"Temp_max\", \"VT_max\"], \"x\": [\"BMI_donor\", \"LAS\", \"PF_donor\", \"Poids\", \"Poids_donor\", \"Taille\", \"age\", \"body_mass_index\", \"oto_score\", \"start_operation_month\", \"start_operation_day\", \"ends_operation_day\", \"ETCO2_mean\", \"FC_mean\", \"FR_mean\", \"FiO2_mean\", \"PAPdia_mean\", \"PAPmoy_mean\", \"PASd_mean\", \"PASs_mean\", \"PEEPtotal_mean\", \"PNIm_mean\", \"PNIs_mean\", \"Pmax_mean\", \"Pmean_mean\", \"SpO2_mean\", \"Temp_mean\", \"VT_mean\", \"declampage_cote2_done_mean\", \"B.I.S_std\", \"ETCO2_std\", \"FC_std\", \"FiO2_std\", \"PAPmoy_std\", \"PASd_std\", \"PASm_std\", \"PASs_std\", \"PEEPtotal_std\", \"PNIs_std\", \"Pmax_std\", \"Pmean_std\", \"SpO2_std\", \"SvO2 (m)_std\", \"Temp_std\", \"VT_std\", \"declampage_cote2_done_std\", \"ETCO2_max\", \"FR_max\", \"PAPmoy_max\", \"PAPsys_max\", \"PASd_max\", \"PASm_max\", \"PASs_max\", \"PEEPtotal_max\", \"PNId_max\", \"PNIm_max\", \"Pmax_max\", \"Pmean_max\", \"Temp_max\", \"VT_max\"], \"y\": [0.015497103059579458, 0.03276124631779871, 0.014836810474768057, 0.02628340567925162, 0.013461843883269797, 0.013425916259265893, 0.012490767843703404, 0.029366251770136513, 0.020755405741138558, 0.01904083396840451, 0.01915877064034347, 0.0172798721054234, 0.02907051296206054, 0.012626196606345405, 0.01615731268516695, 0.020443745921147786, 0.01210009315952742, 0.011090642986858934, 0.013317543470921891, 0.02104134060878663, 0.018862051839705463, 0.013595802247940717, 0.013862355478199542, 0.013555211416351558, 0.019833675027620328, 0.018682082621384658, 0.026073067034342857, 0.021356158512100324, 0.02054416469637544, 0.02490311726674872, 0.012448121989318202, 0.015437274098003191, 0.01576395153857026, 0.009826876866633529, 0.01278573156146453, 0.012105496173728436, 0.012848184707561024, 0.02364837799261723, 0.013285996292233598, 0.012726797481949942, 0.014600806006022506, 0.0193609934524745, 0.018479127517677635, 0.0166548069969912, 0.01826633437026334, 0.02013933536221683, 0.01637939421462692, 0.01125417690959109, 0.013443150635851567, 0.016483184365544478, 0.013902070267264975, 0.015331938954299438, 0.015375468336869296, 0.014975314092294096, 0.012174292296464807, 0.01034640078979455, 0.01278942009343867, 0.016373016721607767, 0.012434238746522011, 0.008886418883435799], \"type\": \"scatter\", \"uid\": \"6cd7adb9-67ec-478a-a807-57e38604b07b\"}], {\"autosize\": true, \"hovermode\": \"closest\", \"showlegend\": false, \"title\": {\"text\": \"Extra Trees Importance des features\"}, \"yaxis\": {\"gridwidth\": 2, \"ticklen\": 5, \"title\": {\"text\": \"Importance des features\"}}}, {\"showLink\": false, \"linkText\": \"Export to plot.ly\", \"plotlyServerURL\": \"https://plot.ly\"})});</script><script type=\"text/javascript\">window.addEventListener(\"resize\", function(){window._Plotly.Plots.resize(document.getElementById(\"e1c16299-b741-4a91-9368-03ef255e74ec\"));});</script>"
      ],
      "text/vnd.plotly.v1+html": [
       "<div id=\"e1c16299-b741-4a91-9368-03ef255e74ec\" style=\"height: 525px; width: 100%;\" class=\"plotly-graph-div\"></div><script type=\"text/javascript\">require([\"plotly\"], function(Plotly) { window.PLOTLYENV=window.PLOTLYENV || {};window.PLOTLYENV.BASE_URL=\"https://plot.ly\";Plotly.newPlot(\"e1c16299-b741-4a91-9368-03ef255e74ec\", [{\"marker\": {\"color\": [0.015497103059579458, 0.03276124631779871, 0.014836810474768057, 0.02628340567925162, 0.013461843883269797, 0.013425916259265893, 0.012490767843703404, 0.029366251770136513, 0.020755405741138558, 0.01904083396840451, 0.01915877064034347, 0.0172798721054234, 0.02907051296206054, 0.012626196606345405, 0.01615731268516695, 0.020443745921147786, 0.01210009315952742, 0.011090642986858934, 0.013317543470921891, 0.02104134060878663, 0.018862051839705463, 0.013595802247940717, 0.013862355478199542, 0.013555211416351558, 0.019833675027620328, 0.018682082621384658, 0.026073067034342857, 0.021356158512100324, 0.02054416469637544, 0.02490311726674872, 0.012448121989318202, 0.015437274098003191, 0.01576395153857026, 0.009826876866633529, 0.01278573156146453, 0.012105496173728436, 0.012848184707561024, 0.02364837799261723, 0.013285996292233598, 0.012726797481949942, 0.014600806006022506, 0.0193609934524745, 0.018479127517677635, 0.0166548069969912, 0.01826633437026334, 0.02013933536221683, 0.01637939421462692, 0.01125417690959109, 0.013443150635851567, 0.016483184365544478, 0.013902070267264975, 0.015331938954299438, 0.015375468336869296, 0.014975314092294096, 0.012174292296464807, 0.01034640078979455, 0.01278942009343867, 0.016373016721607767, 0.012434238746522011, 0.008886418883435799], \"colorscale\": \"Portland\", \"showscale\": true, \"size\": 25, \"sizemode\": \"diameter\", \"sizeref\": 1}, \"mode\": \"markers\", \"text\": [\"BMI_donor\", \"LAS\", \"PF_donor\", \"Poids\", \"Poids_donor\", \"Taille\", \"age\", \"body_mass_index\", \"oto_score\", \"start_operation_month\", \"start_operation_day\", \"ends_operation_day\", \"ETCO2_mean\", \"FC_mean\", \"FR_mean\", \"FiO2_mean\", \"PAPdia_mean\", \"PAPmoy_mean\", \"PASd_mean\", \"PASs_mean\", \"PEEPtotal_mean\", \"PNIm_mean\", \"PNIs_mean\", \"Pmax_mean\", \"Pmean_mean\", \"SpO2_mean\", \"Temp_mean\", \"VT_mean\", \"declampage_cote2_done_mean\", \"B.I.S_std\", \"ETCO2_std\", \"FC_std\", \"FiO2_std\", \"PAPmoy_std\", \"PASd_std\", \"PASm_std\", \"PASs_std\", \"PEEPtotal_std\", \"PNIs_std\", \"Pmax_std\", \"Pmean_std\", \"SpO2_std\", \"SvO2 (m)_std\", \"Temp_std\", \"VT_std\", \"declampage_cote2_done_std\", \"ETCO2_max\", \"FR_max\", \"PAPmoy_max\", \"PAPsys_max\", \"PASd_max\", \"PASm_max\", \"PASs_max\", \"PEEPtotal_max\", \"PNId_max\", \"PNIm_max\", \"Pmax_max\", \"Pmean_max\", \"Temp_max\", \"VT_max\"], \"x\": [\"BMI_donor\", \"LAS\", \"PF_donor\", \"Poids\", \"Poids_donor\", \"Taille\", \"age\", \"body_mass_index\", \"oto_score\", \"start_operation_month\", \"start_operation_day\", \"ends_operation_day\", \"ETCO2_mean\", \"FC_mean\", \"FR_mean\", \"FiO2_mean\", \"PAPdia_mean\", \"PAPmoy_mean\", \"PASd_mean\", \"PASs_mean\", \"PEEPtotal_mean\", \"PNIm_mean\", \"PNIs_mean\", \"Pmax_mean\", \"Pmean_mean\", \"SpO2_mean\", \"Temp_mean\", \"VT_mean\", \"declampage_cote2_done_mean\", \"B.I.S_std\", \"ETCO2_std\", \"FC_std\", \"FiO2_std\", \"PAPmoy_std\", \"PASd_std\", \"PASm_std\", \"PASs_std\", \"PEEPtotal_std\", \"PNIs_std\", \"Pmax_std\", \"Pmean_std\", \"SpO2_std\", \"SvO2 (m)_std\", \"Temp_std\", \"VT_std\", \"declampage_cote2_done_std\", \"ETCO2_max\", \"FR_max\", \"PAPmoy_max\", \"PAPsys_max\", \"PASd_max\", \"PASm_max\", \"PASs_max\", \"PEEPtotal_max\", \"PNId_max\", \"PNIm_max\", \"Pmax_max\", \"Pmean_max\", \"Temp_max\", \"VT_max\"], \"y\": [0.015497103059579458, 0.03276124631779871, 0.014836810474768057, 0.02628340567925162, 0.013461843883269797, 0.013425916259265893, 0.012490767843703404, 0.029366251770136513, 0.020755405741138558, 0.01904083396840451, 0.01915877064034347, 0.0172798721054234, 0.02907051296206054, 0.012626196606345405, 0.01615731268516695, 0.020443745921147786, 0.01210009315952742, 0.011090642986858934, 0.013317543470921891, 0.02104134060878663, 0.018862051839705463, 0.013595802247940717, 0.013862355478199542, 0.013555211416351558, 0.019833675027620328, 0.018682082621384658, 0.026073067034342857, 0.021356158512100324, 0.02054416469637544, 0.02490311726674872, 0.012448121989318202, 0.015437274098003191, 0.01576395153857026, 0.009826876866633529, 0.01278573156146453, 0.012105496173728436, 0.012848184707561024, 0.02364837799261723, 0.013285996292233598, 0.012726797481949942, 0.014600806006022506, 0.0193609934524745, 0.018479127517677635, 0.0166548069969912, 0.01826633437026334, 0.02013933536221683, 0.01637939421462692, 0.01125417690959109, 0.013443150635851567, 0.016483184365544478, 0.013902070267264975, 0.015331938954299438, 0.015375468336869296, 0.014975314092294096, 0.012174292296464807, 0.01034640078979455, 0.01278942009343867, 0.016373016721607767, 0.012434238746522011, 0.008886418883435799], \"type\": \"scatter\", \"uid\": \"6cd7adb9-67ec-478a-a807-57e38604b07b\"}], {\"autosize\": true, \"hovermode\": \"closest\", \"showlegend\": false, \"title\": {\"text\": \"Extra Trees Importance des features\"}, \"yaxis\": {\"gridwidth\": 2, \"ticklen\": 5, \"title\": {\"text\": \"Importance des features\"}}}, {\"showLink\": false, \"linkText\": \"Export to plot.ly\", \"plotlyServerURL\": \"https://plot.ly\"})});</script><script type=\"text/javascript\">window.addEventListener(\"resize\", function(){window._Plotly.Plots.resize(document.getElementById(\"e1c16299-b741-4a91-9368-03ef255e74ec\"));});</script>"
      ]
     },
     "metadata": {},
     "output_type": "display_data"
    }
   ],
   "source": [
    "trace = go.Scatter(\n",
    "    y=feature_dataframe['Extra Trees Importance des features'].values,\n",
    "    x=feature_dataframe['features'].values,\n",
    "    mode='markers',\n",
    "    marker=dict(\n",
    "        sizemode='diameter',\n",
    "        sizeref=1,\n",
    "        size=25,\n",
    "        color=feature_dataframe['Extra Trees Importance des features'].values,\n",
    "        colorscale='Portland',\n",
    "        showscale=True\n",
    "    ),\n",
    "    text=feature_dataframe['features'].values\n",
    ")\n",
    "data = [trace]\n",
    "\n",
    "layout = go.Layout(\n",
    "    autosize=True,\n",
    "    title='Extra Trees Importance des features',\n",
    "    hovermode='closest',\n",
    "\n",
    "    yaxis=dict(\n",
    "        title='Importance des features',\n",
    "        ticklen=5,\n",
    "        gridwidth=2\n",
    "    ),\n",
    "    showlegend=False\n",
    ")\n",
    "fig = go.Figure(data=data, layout=layout)\n",
    "py.iplot(fig, filename='scatter2010')"
   ]
  },
  {
   "cell_type": "markdown",
   "metadata": {},
   "source": [
    "### Ada Boost"
   ]
  },
  {
   "cell_type": "code",
   "execution_count": 39,
   "metadata": {},
   "outputs": [
    {
     "name": "stdout",
     "output_type": "stream",
     "text": [
      "Accuracy :\n",
      "0.6176470588235294\n"
     ]
    }
   ],
   "source": [
    "print(\"Accuracy :\")\n",
    "ada_accu=metrics.accuracy_score(y_test,ada_pred)\n",
    "accu_comparaison['Ada Boost']=ada_accu\n",
    "print(ada_accu)"
   ]
  },
  {
   "cell_type": "code",
   "execution_count": 40,
   "metadata": {},
   "outputs": [
    {
     "name": "stdout",
     "output_type": "stream",
     "text": [
      "              precision    recall  f1-score   support\n",
      "\n",
      "           0       0.66      0.67      0.67        58\n",
      "           1       0.56      0.55      0.55        44\n",
      "\n",
      "   micro avg       0.62      0.62      0.62       102\n",
      "   macro avg       0.61      0.61      0.61       102\n",
      "weighted avg       0.62      0.62      0.62       102\n",
      "\n"
     ]
    }
   ],
   "source": [
    "print(metrics.classification_report(ada_pred, y_test))"
   ]
  },
  {
   "cell_type": "code",
   "execution_count": 41,
   "metadata": {
    "scrolled": true
   },
   "outputs": [
    {
     "data": {
      "text/plain": [
       "<matplotlib.axes._subplots.AxesSubplot at 0x194e784f0f0>"
      ]
     },
     "execution_count": 41,
     "metadata": {},
     "output_type": "execute_result"
    },
    {
     "data": {
      "image/png": "[encoded data removed]",
      "text/plain": [
       "<Figure size 504x432 with 2 Axes>"
      ]
     },
     "metadata": {
      "needs_background": "light"
     },
     "output_type": "display_data"
    }
   ],
   "source": [
    "colormap = plt.cm.Purples\n",
    "plt.figure(figsize=(7,6))\n",
    "plt.title('Matrice de confusion Proba Ada Boost', y=1.05, size=15)\n",
    "sns.heatmap(confusion_matrix(y_test, ada_pred)/ntest,linewidths=0.1, \n",
    "            square=True, cmap=colormap, linecolor='white', annot=True,\n",
    "           vmin=0, vmax=0.6)"
   ]
  },
  {
   "cell_type": "code",
   "execution_count": 42,
   "metadata": {},
   "outputs": [
    {
     "data": {
      "application/vnd.plotly.v1+json": {
       "config": {
        "linkText": "Export to plot.ly",
        "plotlyServerURL": "https://plot.ly",
        "showLink": false
       },
       "data": [
        {
         "marker": {
          "color": [
           0.028,
           0.06,
           0.024,
           0.024,
           0.008,
           0,
           0.02,
           0.02,
           0.022,
           0.002,
           0.008,
           0.006,
           0.046,
           0.018,
           0.006,
           0.014,
           0.006,
           0.03,
           0.012,
           0.054,
           0.008,
           0.026,
           0.004,
           0.016,
           0.014,
           0.024,
           0.026,
           0.02,
           0.006,
           0.012,
           0.008,
           0.024,
           0.012,
           0.012,
           0.01,
           0.01,
           0.012,
           0.026,
           0.022,
           0.02,
           0.018,
           0.028,
           0.024,
           0.018,
           0.026,
           0.02,
           0.002,
           0.008,
           0.006,
           0.014,
           0.008,
           0.038,
           0.018,
           0,
           0.006,
           0,
           0.002,
           0.01,
           0.01,
           0.024
          ],
          "colorscale": "Portland",
          "showscale": true,
          "size": 25,
          "sizemode": "diameter",
          "sizeref": 1
         },
         "mode": "markers",
         "text": [
          "BMI_donor",
          "LAS",
          "PF_donor",
          "Poids",
          "Poids_donor",
          "Taille",
          "age",
          "body_mass_index",
          "oto_score",
          "start_operation_month",
          "start_operation_day",
          "ends_operation_day",
          "ETCO2_mean",
          "FC_mean",
          "FR_mean",
          "FiO2_mean",
          "PAPdia_mean",
          "PAPmoy_mean",
          "PASd_mean",
          "PASs_mean",
          "PEEPtotal_mean",
          "PNIm_mean",
          "PNIs_mean",
          "Pmax_mean",
          "Pmean_mean",
          "SpO2_mean",
          "Temp_mean",
          "VT_mean",
          "declampage_cote2_done_mean",
          "B.I.S_std",
          "ETCO2_std",
          "FC_std",
          "FiO2_std",
          "PAPmoy_std",
          "PASd_std",
          "PASm_std",
          "PASs_std",
          "PEEPtotal_std",
          "PNIs_std",
          "Pmax_std",
          "Pmean_std",
          "SpO2_std",
          "SvO2 (m)_std",
          "Temp_std",
          "VT_std",
          "declampage_cote2_done_std",
          "ETCO2_max",
          "FR_max",
          "PAPmoy_max",
          "PAPsys_max",
          "PASd_max",
          "PASm_max",
          "PASs_max",
          "PEEPtotal_max",
          "PNId_max",
          "PNIm_max",
          "Pmax_max",
          "Pmean_max",
          "Temp_max",
          "VT_max"
         ],
         "type": "scatter",
         "uid": "77444ee8-6489-478a-8d6e-c952873f95ba",
         "x": [
          "BMI_donor",
          "LAS",
          "PF_donor",
          "Poids",
          "Poids_donor",
          "Taille",
          "age",
          "body_mass_index",
          "oto_score",
          "start_operation_month",
          "start_operation_day",
          "ends_operation_day",
          "ETCO2_mean",
          "FC_mean",
          "FR_mean",
          "FiO2_mean",
          "PAPdia_mean",
          "PAPmoy_mean",
          "PASd_mean",
          "PASs_mean",
          "PEEPtotal_mean",
          "PNIm_mean",
          "PNIs_mean",
          "Pmax_mean",
          "Pmean_mean",
          "SpO2_mean",
          "Temp_mean",
          "VT_mean",
          "declampage_cote2_done_mean",
          "B.I.S_std",
          "ETCO2_std",
          "FC_std",
          "FiO2_std",
          "PAPmoy_std",
          "PASd_std",
          "PASm_std",
          "PASs_std",
          "PEEPtotal_std",
          "PNIs_std",
          "Pmax_std",
          "Pmean_std",
          "SpO2_std",
          "SvO2 (m)_std",
          "Temp_std",
          "VT_std",
          "declampage_cote2_done_std",
          "ETCO2_max",
          "FR_max",
          "PAPmoy_max",
          "PAPsys_max",
          "PASd_max",
          "PASm_max",
          "PASs_max",
          "PEEPtotal_max",
          "PNId_max",
          "PNIm_max",
          "Pmax_max",
          "Pmean_max",
          "Temp_max",
          "VT_max"
         ],
         "y": [
          0.028,
          0.06,
          0.024,
          0.024,
          0.008,
          0,
          0.02,
          0.02,
          0.022,
          0.002,
          0.008,
          0.006,
          0.046,
          0.018,
          0.006,
          0.014,
          0.006,
          0.03,
          0.012,
          0.054,
          0.008,
          0.026,
          0.004,
          0.016,
          0.014,
          0.024,
          0.026,
          0.02,
          0.006,
          0.012,
          0.008,
          0.024,
          0.012,
          0.012,
          0.01,
          0.01,
          0.012,
          0.026,
          0.022,
          0.02,
          0.018,
          0.028,
          0.024,
          0.018,
          0.026,
          0.02,
          0.002,
          0.008,
          0.006,
          0.014,
          0.008,
          0.038,
          0.018,
          0,
          0.006,
          0,
          0.002,
          0.01,
          0.01,
          0.024
         ]
        }
       ],
       "layout": {
        "autosize": true,
        "hovermode": "closest",
        "showlegend": false,
        "title": {
         "text": "AdaBoost Importance des features"
        },
        "yaxis": {
         "gridwidth": 2,
         "ticklen": 5,
         "title": {
          "text": "Importance des features"
         }
        }
       }
      },
      "text/html": [
       "<div id=\"33732f55-9705-4fa5-9415-73b5ad588c64\" style=\"height: 525px; width: 100%;\" class=\"plotly-graph-div\"></div><script type=\"text/javascript\">require([\"plotly\"], function(Plotly) { window.PLOTLYENV=window.PLOTLYENV || {};window.PLOTLYENV.BASE_URL=\"https://plot.ly\";Plotly.newPlot(\"33732f55-9705-4fa5-9415-73b5ad588c64\", [{\"marker\": {\"color\": [0.028, 0.06, 0.024, 0.024, 0.008, 0.0, 0.02, 0.02, 0.022, 0.002, 0.008, 0.006, 0.046, 0.018, 0.006, 0.014, 0.006, 0.03, 0.012, 0.054, 0.008, 0.026, 0.004, 0.016, 0.014, 0.024, 0.026, 0.02, 0.006, 0.012, 0.008, 0.024, 0.012, 0.012, 0.01, 0.01, 0.012, 0.026, 0.022, 0.02, 0.018, 0.028, 0.024, 0.018, 0.026, 0.02, 0.002, 0.008, 0.006, 0.014, 0.008, 0.038, 0.018, 0.0, 0.006, 0.0, 0.002, 0.01, 0.01, 0.024], \"colorscale\": \"Portland\", \"showscale\": true, \"size\": 25, \"sizemode\": \"diameter\", \"sizeref\": 1}, \"mode\": \"markers\", \"text\": [\"BMI_donor\", \"LAS\", \"PF_donor\", \"Poids\", \"Poids_donor\", \"Taille\", \"age\", \"body_mass_index\", \"oto_score\", \"start_operation_month\", \"start_operation_day\", \"ends_operation_day\", \"ETCO2_mean\", \"FC_mean\", \"FR_mean\", \"FiO2_mean\", \"PAPdia_mean\", \"PAPmoy_mean\", \"PASd_mean\", \"PASs_mean\", \"PEEPtotal_mean\", \"PNIm_mean\", \"PNIs_mean\", \"Pmax_mean\", \"Pmean_mean\", \"SpO2_mean\", \"Temp_mean\", \"VT_mean\", \"declampage_cote2_done_mean\", \"B.I.S_std\", \"ETCO2_std\", \"FC_std\", \"FiO2_std\", \"PAPmoy_std\", \"PASd_std\", \"PASm_std\", \"PASs_std\", \"PEEPtotal_std\", \"PNIs_std\", \"Pmax_std\", \"Pmean_std\", \"SpO2_std\", \"SvO2 (m)_std\", \"Temp_std\", \"VT_std\", \"declampage_cote2_done_std\", \"ETCO2_max\", \"FR_max\", \"PAPmoy_max\", \"PAPsys_max\", \"PASd_max\", \"PASm_max\", \"PASs_max\", \"PEEPtotal_max\", \"PNId_max\", \"PNIm_max\", \"Pmax_max\", \"Pmean_max\", \"Temp_max\", \"VT_max\"], \"x\": [\"BMI_donor\", \"LAS\", \"PF_donor\", \"Poids\", \"Poids_donor\", \"Taille\", \"age\", \"body_mass_index\", \"oto_score\", \"start_operation_month\", \"start_operation_day\", \"ends_operation_day\", \"ETCO2_mean\", \"FC_mean\", \"FR_mean\", \"FiO2_mean\", \"PAPdia_mean\", \"PAPmoy_mean\", \"PASd_mean\", \"PASs_mean\", \"PEEPtotal_mean\", \"PNIm_mean\", \"PNIs_mean\", \"Pmax_mean\", \"Pmean_mean\", \"SpO2_mean\", \"Temp_mean\", \"VT_mean\", \"declampage_cote2_done_mean\", \"B.I.S_std\", \"ETCO2_std\", \"FC_std\", \"FiO2_std\", \"PAPmoy_std\", \"PASd_std\", \"PASm_std\", \"PASs_std\", \"PEEPtotal_std\", \"PNIs_std\", \"Pmax_std\", \"Pmean_std\", \"SpO2_std\", \"SvO2 (m)_std\", \"Temp_std\", \"VT_std\", \"declampage_cote2_done_std\", \"ETCO2_max\", \"FR_max\", \"PAPmoy_max\", \"PAPsys_max\", \"PASd_max\", \"PASm_max\", \"PASs_max\", \"PEEPtotal_max\", \"PNId_max\", \"PNIm_max\", \"Pmax_max\", \"Pmean_max\", \"Temp_max\", \"VT_max\"], \"y\": [0.028, 0.06, 0.024, 0.024, 0.008, 0.0, 0.02, 0.02, 0.022, 0.002, 0.008, 0.006, 0.046, 0.018, 0.006, 0.014, 0.006, 0.03, 0.012, 0.054, 0.008, 0.026, 0.004, 0.016, 0.014, 0.024, 0.026, 0.02, 0.006, 0.012, 0.008, 0.024, 0.012, 0.012, 0.01, 0.01, 0.012, 0.026, 0.022, 0.02, 0.018, 0.028, 0.024, 0.018, 0.026, 0.02, 0.002, 0.008, 0.006, 0.014, 0.008, 0.038, 0.018, 0.0, 0.006, 0.0, 0.002, 0.01, 0.01, 0.024], \"type\": \"scatter\", \"uid\": \"77444ee8-6489-478a-8d6e-c952873f95ba\"}], {\"autosize\": true, \"hovermode\": \"closest\", \"showlegend\": false, \"title\": {\"text\": \"AdaBoost Importance des features\"}, \"yaxis\": {\"gridwidth\": 2, \"ticklen\": 5, \"title\": {\"text\": \"Importance des features\"}}}, {\"showLink\": false, \"linkText\": \"Export to plot.ly\", \"plotlyServerURL\": \"https://plot.ly\"})});</script><script type=\"text/javascript\">window.addEventListener(\"resize\", function(){window._Plotly.Plots.resize(document.getElementById(\"33732f55-9705-4fa5-9415-73b5ad588c64\"));});</script>"
      ],
      "text/vnd.plotly.v1+html": [
       "<div id=\"33732f55-9705-4fa5-9415-73b5ad588c64\" style=\"height: 525px; width: 100%;\" class=\"plotly-graph-div\"></div><script type=\"text/javascript\">require([\"plotly\"], function(Plotly) { window.PLOTLYENV=window.PLOTLYENV || {};window.PLOTLYENV.BASE_URL=\"https://plot.ly\";Plotly.newPlot(\"33732f55-9705-4fa5-9415-73b5ad588c64\", [{\"marker\": {\"color\": [0.028, 0.06, 0.024, 0.024, 0.008, 0.0, 0.02, 0.02, 0.022, 0.002, 0.008, 0.006, 0.046, 0.018, 0.006, 0.014, 0.006, 0.03, 0.012, 0.054, 0.008, 0.026, 0.004, 0.016, 0.014, 0.024, 0.026, 0.02, 0.006, 0.012, 0.008, 0.024, 0.012, 0.012, 0.01, 0.01, 0.012, 0.026, 0.022, 0.02, 0.018, 0.028, 0.024, 0.018, 0.026, 0.02, 0.002, 0.008, 0.006, 0.014, 0.008, 0.038, 0.018, 0.0, 0.006, 0.0, 0.002, 0.01, 0.01, 0.024], \"colorscale\": \"Portland\", \"showscale\": true, \"size\": 25, \"sizemode\": \"diameter\", \"sizeref\": 1}, \"mode\": \"markers\", \"text\": [\"BMI_donor\", \"LAS\", \"PF_donor\", \"Poids\", \"Poids_donor\", \"Taille\", \"age\", \"body_mass_index\", \"oto_score\", \"start_operation_month\", \"start_operation_day\", \"ends_operation_day\", \"ETCO2_mean\", \"FC_mean\", \"FR_mean\", \"FiO2_mean\", \"PAPdia_mean\", \"PAPmoy_mean\", \"PASd_mean\", \"PASs_mean\", \"PEEPtotal_mean\", \"PNIm_mean\", \"PNIs_mean\", \"Pmax_mean\", \"Pmean_mean\", \"SpO2_mean\", \"Temp_mean\", \"VT_mean\", \"declampage_cote2_done_mean\", \"B.I.S_std\", \"ETCO2_std\", \"FC_std\", \"FiO2_std\", \"PAPmoy_std\", \"PASd_std\", \"PASm_std\", \"PASs_std\", \"PEEPtotal_std\", \"PNIs_std\", \"Pmax_std\", \"Pmean_std\", \"SpO2_std\", \"SvO2 (m)_std\", \"Temp_std\", \"VT_std\", \"declampage_cote2_done_std\", \"ETCO2_max\", \"FR_max\", \"PAPmoy_max\", \"PAPsys_max\", \"PASd_max\", \"PASm_max\", \"PASs_max\", \"PEEPtotal_max\", \"PNId_max\", \"PNIm_max\", \"Pmax_max\", \"Pmean_max\", \"Temp_max\", \"VT_max\"], \"x\": [\"BMI_donor\", \"LAS\", \"PF_donor\", \"Poids\", \"Poids_donor\", \"Taille\", \"age\", \"body_mass_index\", \"oto_score\", \"start_operation_month\", \"start_operation_day\", \"ends_operation_day\", \"ETCO2_mean\", \"FC_mean\", \"FR_mean\", \"FiO2_mean\", \"PAPdia_mean\", \"PAPmoy_mean\", \"PASd_mean\", \"PASs_mean\", \"PEEPtotal_mean\", \"PNIm_mean\", \"PNIs_mean\", \"Pmax_mean\", \"Pmean_mean\", \"SpO2_mean\", \"Temp_mean\", \"VT_mean\", \"declampage_cote2_done_mean\", \"B.I.S_std\", \"ETCO2_std\", \"FC_std\", \"FiO2_std\", \"PAPmoy_std\", \"PASd_std\", \"PASm_std\", \"PASs_std\", \"PEEPtotal_std\", \"PNIs_std\", \"Pmax_std\", \"Pmean_std\", \"SpO2_std\", \"SvO2 (m)_std\", \"Temp_std\", \"VT_std\", \"declampage_cote2_done_std\", \"ETCO2_max\", \"FR_max\", \"PAPmoy_max\", \"PAPsys_max\", \"PASd_max\", \"PASm_max\", \"PASs_max\", \"PEEPtotal_max\", \"PNId_max\", \"PNIm_max\", \"Pmax_max\", \"Pmean_max\", \"Temp_max\", \"VT_max\"], \"y\": [0.028, 0.06, 0.024, 0.024, 0.008, 0.0, 0.02, 0.02, 0.022, 0.002, 0.008, 0.006, 0.046, 0.018, 0.006, 0.014, 0.006, 0.03, 0.012, 0.054, 0.008, 0.026, 0.004, 0.016, 0.014, 0.024, 0.026, 0.02, 0.006, 0.012, 0.008, 0.024, 0.012, 0.012, 0.01, 0.01, 0.012, 0.026, 0.022, 0.02, 0.018, 0.028, 0.024, 0.018, 0.026, 0.02, 0.002, 0.008, 0.006, 0.014, 0.008, 0.038, 0.018, 0.0, 0.006, 0.0, 0.002, 0.01, 0.01, 0.024], \"type\": \"scatter\", \"uid\": \"77444ee8-6489-478a-8d6e-c952873f95ba\"}], {\"autosize\": true, \"hovermode\": \"closest\", \"showlegend\": false, \"title\": {\"text\": \"AdaBoost Importance des features\"}, \"yaxis\": {\"gridwidth\": 2, \"ticklen\": 5, \"title\": {\"text\": \"Importance des features\"}}}, {\"showLink\": false, \"linkText\": \"Export to plot.ly\", \"plotlyServerURL\": \"https://plot.ly\"})});</script><script type=\"text/javascript\">window.addEventListener(\"resize\", function(){window._Plotly.Plots.resize(document.getElementById(\"33732f55-9705-4fa5-9415-73b5ad588c64\"));});</script>"
      ]
     },
     "metadata": {},
     "output_type": "display_data"
    }
   ],
   "source": [
    "trace = go.Scatter(\n",
    "    y=feature_dataframe['AdaBoost Importance des features'].values,\n",
    "    x=feature_dataframe['features'].values,\n",
    "    mode='markers',\n",
    "    marker=dict(\n",
    "        sizemode='diameter',\n",
    "        sizeref=1,\n",
    "        size=25,\n",
    "        color=feature_dataframe['AdaBoost Importance des features'].values,\n",
    "        colorscale='Portland',\n",
    "        showscale=True\n",
    "    ),\n",
    "    text=feature_dataframe['features'].values\n",
    ")\n",
    "data = [trace]\n",
    "\n",
    "layout = go.Layout(\n",
    "    autosize=True,\n",
    "    title='AdaBoost Importance des features',\n",
    "    hovermode='closest',\n",
    "    yaxis=dict(\n",
    "        title='Importance des features',\n",
    "        ticklen=5,\n",
    "        gridwidth=2\n",
    "    ),\n",
    "    showlegend=False\n",
    ")\n",
    "fig = go.Figure(data=data, layout=layout)\n",
    "py.iplot(fig, filename='scatter2010')"
   ]
  },
  {
   "cell_type": "markdown",
   "metadata": {},
   "source": [
    "### Gradient Boost"
   ]
  },
  {
   "cell_type": "code",
   "execution_count": 43,
   "metadata": {},
   "outputs": [
    {
     "name": "stdout",
     "output_type": "stream",
     "text": [
      "Accuracy :\n",
      "0.6470588235294118\n"
     ]
    }
   ],
   "source": [
    "print(\"Accuracy :\")\n",
    "gb_accu=metrics.accuracy_score(y_test,gb_pred)\n",
    "accu_comparaison['Gradient Boost']=gb_accu\n",
    "print(gb_accu)"
   ]
  },
  {
   "cell_type": "code",
   "execution_count": 44,
   "metadata": {},
   "outputs": [
    {
     "name": "stdout",
     "output_type": "stream",
     "text": [
      "              precision    recall  f1-score   support\n",
      "\n",
      "           0       0.71      0.69      0.70        61\n",
      "           1       0.56      0.59      0.57        41\n",
      "\n",
      "   micro avg       0.65      0.65      0.65       102\n",
      "   macro avg       0.64      0.64      0.64       102\n",
      "weighted avg       0.65      0.65      0.65       102\n",
      "\n"
     ]
    }
   ],
   "source": [
    "print(metrics.classification_report(gb_pred, y_test))"
   ]
  },
  {
   "cell_type": "code",
   "execution_count": 45,
   "metadata": {
    "scrolled": true
   },
   "outputs": [
    {
     "data": {
      "text/plain": [
       "<matplotlib.axes._subplots.AxesSubplot at 0x194e7a45978>"
      ]
     },
     "execution_count": 45,
     "metadata": {},
     "output_type": "execute_result"
    },
    {
     "data": {
      "image/png": "[encoded data removed]",
      "text/plain": [
       "<Figure size 504x432 with 2 Axes>"
      ]
     },
     "metadata": {
      "needs_background": "light"
     },
     "output_type": "display_data"
    }
   ],
   "source": [
    "colormap = plt.cm.Purples\n",
    "plt.figure(figsize=(7,6))\n",
    "plt.title('Matrice de confusion Proba Gradient Boost', y=1.05, size=15)\n",
    "sns.heatmap(confusion_matrix(y_test, gb_pred)/ntest,linewidths=0.1, \n",
    "            square=True, cmap=colormap, linecolor='white', annot=True,\n",
    "           vmin=0, vmax=0.6)"
   ]
  },
  {
   "cell_type": "code",
   "execution_count": 46,
   "metadata": {},
   "outputs": [
    {
     "data": {
      "application/vnd.plotly.v1+json": {
       "config": {
        "linkText": "Export to plot.ly",
        "plotlyServerURL": "https://plot.ly",
        "showLink": false
       },
       "data": [
        {
         "marker": {
          "color": [
           0.021624774813776178,
           0.045951297236316226,
           0.0032107215328767355,
           0.02767917138457869,
           0.013884962566422705,
           0.0013384203806492008,
           0.017120192254476745,
           0.054892251008105755,
           0.038099051597905845,
           8.071995260211823e-06,
           0.0038776923433244815,
           0.006860435255701536,
           0.05723568552310294,
           0.0058249528141455465,
           0.02053990266628814,
           0.04310580248279041,
           0.008058003756373704,
           0.01994392259851442,
           0.00806024887367836,
           0.057433967696633705,
           0.009002799879604301,
           0.008430519944219112,
           0.002541454242710505,
           0.009948373837099353,
           0.0070544021898244005,
           0.027685778582729744,
           0.03919876568452454,
           0.023637102545276734,
           0.012915875289178622,
           0.007354237541427852,
           0.016495105041870104,
           0.009885307661633409,
           0.00839043058575581,
           0.0011942181505538718,
           0.0050952905856316835,
           0.016754522276539296,
           0.058463369179265784,
           0.053770079773812804,
           0.00541721102784985,
           0.010307595605770098,
           0.00899127250912973,
           0.012631753352211056,
           0.007051861711016695,
           0.023950246608751998,
           0.011855077603817423,
           0.012389088318177074,
           0.0012789451017434924,
           0.004315460735817264,
           0.006596619515099712,
           0.005490334317440806,
           0.010144801329010883,
           0.03186610023226667,
           0.003940997956068047,
           0.008829156600993714,
           0.007254945658384009,
           0.0016096186416023962,
           0.007492097735423468,
           0.009489135388562065,
           0.018276303720415676,
           0.018254214557868423
          ],
          "colorscale": "Portland",
          "showscale": true,
          "size": 25,
          "sizemode": "diameter",
          "sizeref": 1
         },
         "mode": "markers",
         "text": [
          "BMI_donor",
          "LAS",
          "PF_donor",
          "Poids",
          "Poids_donor",
          "Taille",
          "age",
          "body_mass_index",
          "oto_score",
          "start_operation_month",
          "start_operation_day",
          "ends_operation_day",
          "ETCO2_mean",
          "FC_mean",
          "FR_mean",
          "FiO2_mean",
          "PAPdia_mean",
          "PAPmoy_mean",
          "PASd_mean",
          "PASs_mean",
          "PEEPtotal_mean",
          "PNIm_mean",
          "PNIs_mean",
          "Pmax_mean",
          "Pmean_mean",
          "SpO2_mean",
          "Temp_mean",
          "VT_mean",
          "declampage_cote2_done_mean",
          "B.I.S_std",
          "ETCO2_std",
          "FC_std",
          "FiO2_std",
          "PAPmoy_std",
          "PASd_std",
          "PASm_std",
          "PASs_std",
          "PEEPtotal_std",
          "PNIs_std",
          "Pmax_std",
          "Pmean_std",
          "SpO2_std",
          "SvO2 (m)_std",
          "Temp_std",
          "VT_std",
          "declampage_cote2_done_std",
          "ETCO2_max",
          "FR_max",
          "PAPmoy_max",
          "PAPsys_max",
          "PASd_max",
          "PASm_max",
          "PASs_max",
          "PEEPtotal_max",
          "PNId_max",
          "PNIm_max",
          "Pmax_max",
          "Pmean_max",
          "Temp_max",
          "VT_max"
         ],
         "type": "scatter",
         "uid": "ae6ac1fc-e395-423e-8161-71071ca6278c",
         "x": [
          "BMI_donor",
          "LAS",
          "PF_donor",
          "Poids",
          "Poids_donor",
          "Taille",
          "age",
          "body_mass_index",
          "oto_score",
          "start_operation_month",
          "start_operation_day",
          "ends_operation_day",
          "ETCO2_mean",
          "FC_mean",
          "FR_mean",
          "FiO2_mean",
          "PAPdia_mean",
          "PAPmoy_mean",
          "PASd_mean",
          "PASs_mean",
          "PEEPtotal_mean",
          "PNIm_mean",
          "PNIs_mean",
          "Pmax_mean",
          "Pmean_mean",
          "SpO2_mean",
          "Temp_mean",
          "VT_mean",
          "declampage_cote2_done_mean",
          "B.I.S_std",
          "ETCO2_std",
          "FC_std",
          "FiO2_std",
          "PAPmoy_std",
          "PASd_std",
          "PASm_std",
          "PASs_std",
          "PEEPtotal_std",
          "PNIs_std",
          "Pmax_std",
          "Pmean_std",
          "SpO2_std",
          "SvO2 (m)_std",
          "Temp_std",
          "VT_std",
          "declampage_cote2_done_std",
          "ETCO2_max",
          "FR_max",
          "PAPmoy_max",
          "PAPsys_max",
          "PASd_max",
          "PASm_max",
          "PASs_max",
          "PEEPtotal_max",
          "PNId_max",
          "PNIm_max",
          "Pmax_max",
          "Pmean_max",
          "Temp_max",
          "VT_max"
         ],
         "y": [
          0.021624774813776178,
          0.045951297236316226,
          0.0032107215328767355,
          0.02767917138457869,
          0.013884962566422705,
          0.0013384203806492008,
          0.017120192254476745,
          0.054892251008105755,
          0.038099051597905845,
          8.071995260211823e-06,
          0.0038776923433244815,
          0.006860435255701536,
          0.05723568552310294,
          0.0058249528141455465,
          0.02053990266628814,
          0.04310580248279041,
          0.008058003756373704,
          0.01994392259851442,
          0.00806024887367836,
          0.057433967696633705,
          0.009002799879604301,
          0.008430519944219112,
          0.002541454242710505,
          0.009948373837099353,
          0.0070544021898244005,
          0.027685778582729744,
          0.03919876568452454,
          0.023637102545276734,
          0.012915875289178622,
          0.007354237541427852,
          0.016495105041870104,
          0.009885307661633409,
          0.00839043058575581,
          0.0011942181505538718,
          0.0050952905856316835,
          0.016754522276539296,
          0.058463369179265784,
          0.053770079773812804,
          0.00541721102784985,
          0.010307595605770098,
          0.00899127250912973,
          0.012631753352211056,
          0.007051861711016695,
          0.023950246608751998,
          0.011855077603817423,
          0.012389088318177074,
          0.0012789451017434924,
          0.004315460735817264,
          0.006596619515099712,
          0.005490334317440806,
          0.010144801329010883,
          0.03186610023226667,
          0.003940997956068047,
          0.008829156600993714,
          0.007254945658384009,
          0.0016096186416023962,
          0.007492097735423468,
          0.009489135388562065,
          0.018276303720415676,
          0.018254214557868423
         ]
        }
       ],
       "layout": {
        "autosize": true,
        "hovermode": "closest",
        "showlegend": false,
        "title": {
         "text": "Gradient Boosting Importance des features"
        },
        "yaxis": {
         "gridwidth": 2,
         "ticklen": 5,
         "title": {
          "text": "Importance des features"
         }
        }
       }
      },
      "text/html": [
       "<div id=\"efcdf8db-c6ff-41b2-8c1e-4c3b94afc429\" style=\"height: 525px; width: 100%;\" class=\"plotly-graph-div\"></div><script type=\"text/javascript\">require([\"plotly\"], function(Plotly) { window.PLOTLYENV=window.PLOTLYENV || {};window.PLOTLYENV.BASE_URL=\"https://plot.ly\";Plotly.newPlot(\"efcdf8db-c6ff-41b2-8c1e-4c3b94afc429\", [{\"marker\": {\"color\": [0.021624774813776178, 0.045951297236316226, 0.0032107215328767355, 0.02767917138457869, 0.013884962566422705, 0.0013384203806492008, 0.017120192254476745, 0.054892251008105755, 0.038099051597905845, 8.071995260211823e-06, 0.0038776923433244815, 0.006860435255701536, 0.05723568552310294, 0.0058249528141455465, 0.02053990266628814, 0.04310580248279041, 0.008058003756373704, 0.01994392259851442, 0.00806024887367836, 0.057433967696633705, 0.009002799879604301, 0.008430519944219112, 0.002541454242710505, 0.009948373837099353, 0.0070544021898244005, 0.027685778582729744, 0.03919876568452454, 0.023637102545276734, 0.012915875289178622, 0.007354237541427852, 0.016495105041870104, 0.009885307661633409, 0.00839043058575581, 0.0011942181505538718, 0.0050952905856316835, 0.016754522276539296, 0.058463369179265784, 0.053770079773812804, 0.00541721102784985, 0.010307595605770098, 0.00899127250912973, 0.012631753352211056, 0.007051861711016695, 0.023950246608751998, 0.011855077603817423, 0.012389088318177074, 0.0012789451017434924, 0.004315460735817264, 0.006596619515099712, 0.005490334317440806, 0.010144801329010883, 0.03186610023226667, 0.003940997956068047, 0.008829156600993714, 0.007254945658384009, 0.0016096186416023962, 0.007492097735423468, 0.009489135388562065, 0.018276303720415676, 0.018254214557868423], \"colorscale\": \"Portland\", \"showscale\": true, \"size\": 25, \"sizemode\": \"diameter\", \"sizeref\": 1}, \"mode\": \"markers\", \"text\": [\"BMI_donor\", \"LAS\", \"PF_donor\", \"Poids\", \"Poids_donor\", \"Taille\", \"age\", \"body_mass_index\", \"oto_score\", \"start_operation_month\", \"start_operation_day\", \"ends_operation_day\", \"ETCO2_mean\", \"FC_mean\", \"FR_mean\", \"FiO2_mean\", \"PAPdia_mean\", \"PAPmoy_mean\", \"PASd_mean\", \"PASs_mean\", \"PEEPtotal_mean\", \"PNIm_mean\", \"PNIs_mean\", \"Pmax_mean\", \"Pmean_mean\", \"SpO2_mean\", \"Temp_mean\", \"VT_mean\", \"declampage_cote2_done_mean\", \"B.I.S_std\", \"ETCO2_std\", \"FC_std\", \"FiO2_std\", \"PAPmoy_std\", \"PASd_std\", \"PASm_std\", \"PASs_std\", \"PEEPtotal_std\", \"PNIs_std\", \"Pmax_std\", \"Pmean_std\", \"SpO2_std\", \"SvO2 (m)_std\", \"Temp_std\", \"VT_std\", \"declampage_cote2_done_std\", \"ETCO2_max\", \"FR_max\", \"PAPmoy_max\", \"PAPsys_max\", \"PASd_max\", \"PASm_max\", \"PASs_max\", \"PEEPtotal_max\", \"PNId_max\", \"PNIm_max\", \"Pmax_max\", \"Pmean_max\", \"Temp_max\", \"VT_max\"], \"x\": [\"BMI_donor\", \"LAS\", \"PF_donor\", \"Poids\", \"Poids_donor\", \"Taille\", \"age\", \"body_mass_index\", \"oto_score\", \"start_operation_month\", \"start_operation_day\", \"ends_operation_day\", \"ETCO2_mean\", \"FC_mean\", \"FR_mean\", \"FiO2_mean\", \"PAPdia_mean\", \"PAPmoy_mean\", \"PASd_mean\", \"PASs_mean\", \"PEEPtotal_mean\", \"PNIm_mean\", \"PNIs_mean\", \"Pmax_mean\", \"Pmean_mean\", \"SpO2_mean\", \"Temp_mean\", \"VT_mean\", \"declampage_cote2_done_mean\", \"B.I.S_std\", \"ETCO2_std\", \"FC_std\", \"FiO2_std\", \"PAPmoy_std\", \"PASd_std\", \"PASm_std\", \"PASs_std\", \"PEEPtotal_std\", \"PNIs_std\", \"Pmax_std\", \"Pmean_std\", \"SpO2_std\", \"SvO2 (m)_std\", \"Temp_std\", \"VT_std\", \"declampage_cote2_done_std\", \"ETCO2_max\", \"FR_max\", \"PAPmoy_max\", \"PAPsys_max\", \"PASd_max\", \"PASm_max\", \"PASs_max\", \"PEEPtotal_max\", \"PNId_max\", \"PNIm_max\", \"Pmax_max\", \"Pmean_max\", \"Temp_max\", \"VT_max\"], \"y\": [0.021624774813776178, 0.045951297236316226, 0.0032107215328767355, 0.02767917138457869, 0.013884962566422705, 0.0013384203806492008, 0.017120192254476745, 0.054892251008105755, 0.038099051597905845, 8.071995260211823e-06, 0.0038776923433244815, 0.006860435255701536, 0.05723568552310294, 0.0058249528141455465, 0.02053990266628814, 0.04310580248279041, 0.008058003756373704, 0.01994392259851442, 0.00806024887367836, 0.057433967696633705, 0.009002799879604301, 0.008430519944219112, 0.002541454242710505, 0.009948373837099353, 0.0070544021898244005, 0.027685778582729744, 0.03919876568452454, 0.023637102545276734, 0.012915875289178622, 0.007354237541427852, 0.016495105041870104, 0.009885307661633409, 0.00839043058575581, 0.0011942181505538718, 0.0050952905856316835, 0.016754522276539296, 0.058463369179265784, 0.053770079773812804, 0.00541721102784985, 0.010307595605770098, 0.00899127250912973, 0.012631753352211056, 0.007051861711016695, 0.023950246608751998, 0.011855077603817423, 0.012389088318177074, 0.0012789451017434924, 0.004315460735817264, 0.006596619515099712, 0.005490334317440806, 0.010144801329010883, 0.03186610023226667, 0.003940997956068047, 0.008829156600993714, 0.007254945658384009, 0.0016096186416023962, 0.007492097735423468, 0.009489135388562065, 0.018276303720415676, 0.018254214557868423], \"type\": \"scatter\", \"uid\": \"ae6ac1fc-e395-423e-8161-71071ca6278c\"}], {\"autosize\": true, \"hovermode\": \"closest\", \"showlegend\": false, \"title\": {\"text\": \"Gradient Boosting Importance des features\"}, \"yaxis\": {\"gridwidth\": 2, \"ticklen\": 5, \"title\": {\"text\": \"Importance des features\"}}}, {\"showLink\": false, \"linkText\": \"Export to plot.ly\", \"plotlyServerURL\": \"https://plot.ly\"})});</script><script type=\"text/javascript\">window.addEventListener(\"resize\", function(){window._Plotly.Plots.resize(document.getElementById(\"efcdf8db-c6ff-41b2-8c1e-4c3b94afc429\"));});</script>"
      ],
      "text/vnd.plotly.v1+html": [
       "<div id=\"efcdf8db-c6ff-41b2-8c1e-4c3b94afc429\" style=\"height: 525px; width: 100%;\" class=\"plotly-graph-div\"></div><script type=\"text/javascript\">require([\"plotly\"], function(Plotly) { window.PLOTLYENV=window.PLOTLYENV || {};window.PLOTLYENV.BASE_URL=\"https://plot.ly\";Plotly.newPlot(\"efcdf8db-c6ff-41b2-8c1e-4c3b94afc429\", [{\"marker\": {\"color\": [0.021624774813776178, 0.045951297236316226, 0.0032107215328767355, 0.02767917138457869, 0.013884962566422705, 0.0013384203806492008, 0.017120192254476745, 0.054892251008105755, 0.038099051597905845, 8.071995260211823e-06, 0.0038776923433244815, 0.006860435255701536, 0.05723568552310294, 0.0058249528141455465, 0.02053990266628814, 0.04310580248279041, 0.008058003756373704, 0.01994392259851442, 0.00806024887367836, 0.057433967696633705, 0.009002799879604301, 0.008430519944219112, 0.002541454242710505, 0.009948373837099353, 0.0070544021898244005, 0.027685778582729744, 0.03919876568452454, 0.023637102545276734, 0.012915875289178622, 0.007354237541427852, 0.016495105041870104, 0.009885307661633409, 0.00839043058575581, 0.0011942181505538718, 0.0050952905856316835, 0.016754522276539296, 0.058463369179265784, 0.053770079773812804, 0.00541721102784985, 0.010307595605770098, 0.00899127250912973, 0.012631753352211056, 0.007051861711016695, 0.023950246608751998, 0.011855077603817423, 0.012389088318177074, 0.0012789451017434924, 0.004315460735817264, 0.006596619515099712, 0.005490334317440806, 0.010144801329010883, 0.03186610023226667, 0.003940997956068047, 0.008829156600993714, 0.007254945658384009, 0.0016096186416023962, 0.007492097735423468, 0.009489135388562065, 0.018276303720415676, 0.018254214557868423], \"colorscale\": \"Portland\", \"showscale\": true, \"size\": 25, \"sizemode\": \"diameter\", \"sizeref\": 1}, \"mode\": \"markers\", \"text\": [\"BMI_donor\", \"LAS\", \"PF_donor\", \"Poids\", \"Poids_donor\", \"Taille\", \"age\", \"body_mass_index\", \"oto_score\", \"start_operation_month\", \"start_operation_day\", \"ends_operation_day\", \"ETCO2_mean\", \"FC_mean\", \"FR_mean\", \"FiO2_mean\", \"PAPdia_mean\", \"PAPmoy_mean\", \"PASd_mean\", \"PASs_mean\", \"PEEPtotal_mean\", \"PNIm_mean\", \"PNIs_mean\", \"Pmax_mean\", \"Pmean_mean\", \"SpO2_mean\", \"Temp_mean\", \"VT_mean\", \"declampage_cote2_done_mean\", \"B.I.S_std\", \"ETCO2_std\", \"FC_std\", \"FiO2_std\", \"PAPmoy_std\", \"PASd_std\", \"PASm_std\", \"PASs_std\", \"PEEPtotal_std\", \"PNIs_std\", \"Pmax_std\", \"Pmean_std\", \"SpO2_std\", \"SvO2 (m)_std\", \"Temp_std\", \"VT_std\", \"declampage_cote2_done_std\", \"ETCO2_max\", \"FR_max\", \"PAPmoy_max\", \"PAPsys_max\", \"PASd_max\", \"PASm_max\", \"PASs_max\", \"PEEPtotal_max\", \"PNId_max\", \"PNIm_max\", \"Pmax_max\", \"Pmean_max\", \"Temp_max\", \"VT_max\"], \"x\": [\"BMI_donor\", \"LAS\", \"PF_donor\", \"Poids\", \"Poids_donor\", \"Taille\", \"age\", \"body_mass_index\", \"oto_score\", \"start_operation_month\", \"start_operation_day\", \"ends_operation_day\", \"ETCO2_mean\", \"FC_mean\", \"FR_mean\", \"FiO2_mean\", \"PAPdia_mean\", \"PAPmoy_mean\", \"PASd_mean\", \"PASs_mean\", \"PEEPtotal_mean\", \"PNIm_mean\", \"PNIs_mean\", \"Pmax_mean\", \"Pmean_mean\", \"SpO2_mean\", \"Temp_mean\", \"VT_mean\", \"declampage_cote2_done_mean\", \"B.I.S_std\", \"ETCO2_std\", \"FC_std\", \"FiO2_std\", \"PAPmoy_std\", \"PASd_std\", \"PASm_std\", \"PASs_std\", \"PEEPtotal_std\", \"PNIs_std\", \"Pmax_std\", \"Pmean_std\", \"SpO2_std\", \"SvO2 (m)_std\", \"Temp_std\", \"VT_std\", \"declampage_cote2_done_std\", \"ETCO2_max\", \"FR_max\", \"PAPmoy_max\", \"PAPsys_max\", \"PASd_max\", \"PASm_max\", \"PASs_max\", \"PEEPtotal_max\", \"PNId_max\", \"PNIm_max\", \"Pmax_max\", \"Pmean_max\", \"Temp_max\", \"VT_max\"], \"y\": [0.021624774813776178, 0.045951297236316226, 0.0032107215328767355, 0.02767917138457869, 0.013884962566422705, 0.0013384203806492008, 0.017120192254476745, 0.054892251008105755, 0.038099051597905845, 8.071995260211823e-06, 0.0038776923433244815, 0.006860435255701536, 0.05723568552310294, 0.0058249528141455465, 0.02053990266628814, 0.04310580248279041, 0.008058003756373704, 0.01994392259851442, 0.00806024887367836, 0.057433967696633705, 0.009002799879604301, 0.008430519944219112, 0.002541454242710505, 0.009948373837099353, 0.0070544021898244005, 0.027685778582729744, 0.03919876568452454, 0.023637102545276734, 0.012915875289178622, 0.007354237541427852, 0.016495105041870104, 0.009885307661633409, 0.00839043058575581, 0.0011942181505538718, 0.0050952905856316835, 0.016754522276539296, 0.058463369179265784, 0.053770079773812804, 0.00541721102784985, 0.010307595605770098, 0.00899127250912973, 0.012631753352211056, 0.007051861711016695, 0.023950246608751998, 0.011855077603817423, 0.012389088318177074, 0.0012789451017434924, 0.004315460735817264, 0.006596619515099712, 0.005490334317440806, 0.010144801329010883, 0.03186610023226667, 0.003940997956068047, 0.008829156600993714, 0.007254945658384009, 0.0016096186416023962, 0.007492097735423468, 0.009489135388562065, 0.018276303720415676, 0.018254214557868423], \"type\": \"scatter\", \"uid\": \"ae6ac1fc-e395-423e-8161-71071ca6278c\"}], {\"autosize\": true, \"hovermode\": \"closest\", \"showlegend\": false, \"title\": {\"text\": \"Gradient Boosting Importance des features\"}, \"yaxis\": {\"gridwidth\": 2, \"ticklen\": 5, \"title\": {\"text\": \"Importance des features\"}}}, {\"showLink\": false, \"linkText\": \"Export to plot.ly\", \"plotlyServerURL\": \"https://plot.ly\"})});</script><script type=\"text/javascript\">window.addEventListener(\"resize\", function(){window._Plotly.Plots.resize(document.getElementById(\"efcdf8db-c6ff-41b2-8c1e-4c3b94afc429\"));});</script>"
      ]
     },
     "metadata": {},
     "output_type": "display_data"
    }
   ],
   "source": [
    "trace = go.Scatter(\n",
    "    y=feature_dataframe['Gradient Boost Importance des features'].values,\n",
    "    x=feature_dataframe['features'].values,\n",
    "    mode='markers',\n",
    "    marker=dict(\n",
    "        sizemode='diameter',\n",
    "        sizeref=1,\n",
    "        size=25,\n",
    "        color=feature_dataframe['Gradient Boost Importance des features'].values,\n",
    "        colorscale='Portland',\n",
    "        showscale=True\n",
    "    ),\n",
    "    text=feature_dataframe['features'].values\n",
    ")\n",
    "data = [trace]\n",
    "\n",
    "layout = go.Layout(\n",
    "    autosize=True,\n",
    "    title='Gradient Boosting Importance des features',\n",
    "    hovermode='closest',\n",
    "    yaxis=dict(\n",
    "        title='Importance des features',\n",
    "        ticklen=5,\n",
    "        gridwidth=2\n",
    "    ),\n",
    "    showlegend=False\n",
    ")\n",
    "fig = go.Figure(data=data, layout=layout)\n",
    "py.iplot(fig, filename='scatter2010')"
   ]
  },
  {
   "cell_type": "markdown",
   "metadata": {},
   "source": [
    "## Stacking "
   ]
  },
  {
   "cell_type": "code",
   "execution_count": 47,
   "metadata": {},
   "outputs": [
    {
     "data": {
      "text/html": [
       "<div>\n",
       "<style scoped>\n",
       "    .dataframe tbody tr th:only-of-type {\n",
       "        vertical-align: middle;\n",
       "    }\n",
       "\n",
       "    .dataframe tbody tr th {\n",
       "        vertical-align: top;\n",
       "    }\n",
       "\n",
       "    .dataframe thead th {\n",
       "        text-align: right;\n",
       "    }\n",
       "</style>\n",
       "<table border=\"1\" class=\"dataframe\">\n",
       "  <thead>\n",
       "    <tr style=\"text-align: right;\">\n",
       "      <th></th>\n",
       "      <th>features</th>\n",
       "      <th>Random Forest Importance des features</th>\n",
       "      <th>Extra Trees Importance des features</th>\n",
       "      <th>AdaBoost Importance des features</th>\n",
       "      <th>Gradient Boost Importance des features</th>\n",
       "      <th>moyenne</th>\n",
       "    </tr>\n",
       "  </thead>\n",
       "  <tbody>\n",
       "    <tr>\n",
       "      <th>0</th>\n",
       "      <td>BMI_donor</td>\n",
       "      <td>0.012559</td>\n",
       "      <td>0.015497</td>\n",
       "      <td>0.028</td>\n",
       "      <td>0.021625</td>\n",
       "      <td>0.019420</td>\n",
       "    </tr>\n",
       "    <tr>\n",
       "      <th>1</th>\n",
       "      <td>LAS</td>\n",
       "      <td>0.017538</td>\n",
       "      <td>0.032761</td>\n",
       "      <td>0.060</td>\n",
       "      <td>0.045951</td>\n",
       "      <td>0.039063</td>\n",
       "    </tr>\n",
       "    <tr>\n",
       "      <th>2</th>\n",
       "      <td>PF_donor</td>\n",
       "      <td>0.016881</td>\n",
       "      <td>0.014837</td>\n",
       "      <td>0.024</td>\n",
       "      <td>0.003211</td>\n",
       "      <td>0.014732</td>\n",
       "    </tr>\n",
       "    <tr>\n",
       "      <th>3</th>\n",
       "      <td>Poids</td>\n",
       "      <td>0.028739</td>\n",
       "      <td>0.026283</td>\n",
       "      <td>0.024</td>\n",
       "      <td>0.027679</td>\n",
       "      <td>0.026675</td>\n",
       "    </tr>\n",
       "    <tr>\n",
       "      <th>4</th>\n",
       "      <td>Poids_donor</td>\n",
       "      <td>0.009100</td>\n",
       "      <td>0.013462</td>\n",
       "      <td>0.008</td>\n",
       "      <td>0.013885</td>\n",
       "      <td>0.011112</td>\n",
       "    </tr>\n",
       "  </tbody>\n",
       "</table>\n",
       "</div>"
      ],
      "text/plain": [
       "      features  Random Forest Importance des features  \\\n",
       "0    BMI_donor                               0.012559   \n",
       "1          LAS                               0.017538   \n",
       "2     PF_donor                               0.016881   \n",
       "3        Poids                               0.028739   \n",
       "4  Poids_donor                               0.009100   \n",
       "\n",
       "   Extra Trees Importance des features  AdaBoost Importance des features  \\\n",
       "0                             0.015497                             0.028   \n",
       "1                             0.032761                             0.060   \n",
       "2                             0.014837                             0.024   \n",
       "3                             0.026283                             0.024   \n",
       "4                             0.013462                             0.008   \n",
       "\n",
       "   Gradient Boost Importance des features   moyenne  \n",
       "0                                0.021625  0.019420  \n",
       "1                                0.045951  0.039063  \n",
       "2                                0.003211  0.014732  \n",
       "3                                0.027679  0.026675  \n",
       "4                                0.013885  0.011112  "
      ]
     },
     "execution_count": 47,
     "metadata": {},
     "output_type": "execute_result"
    }
   ],
   "source": [
    "feature_dataframe['moyenne'] = feature_dataframe.mean(axis= 1) \n",
    "feature_dataframe.head(5)"
   ]
  },
  {
   "cell_type": "code",
   "execution_count": 48,
   "metadata": {},
   "outputs": [
    {
     "data": {
      "application/vnd.plotly.v1+json": {
       "config": {
        "linkText": "Export to plot.ly",
        "plotlyServerURL": "https://plot.ly",
        "showLink": false
       },
       "data": [
        {
         "marker": {
          "color": [
           0.019420210212141215,
           0.03906253575840676,
           0.014732170552841999,
           0.026675276235646906,
           0.011111636681970623,
           0.006580335231088556,
           0.01539249491042669,
           0.03381048057387049,
           0.02392622786667318,
           0.007283983358731731,
           0.011487817362506684,
           0.01163287877113154,
           0.04340983677052557,
           0.012004420139931981,
           0.015119309128225901,
           0.02596490300343165,
           0.009219066108788847,
           0.018161781262688744,
           0.012427352309508002,
           0.04116514953327186,
           0.013208918221146278,
           0.015200297511669734,
           0.008216688482208197,
           0.013421788798826944,
           0.014903629028431143,
           0.02402019554614676,
           0.031306173820502346,
           0.021809548578537098,
           0.014827613918913799,
           0.014605388923889162,
           0.012421169445608504,
           0.015841332186071314,
           0.012928326661499213,
           0.008651947490260678,
           0.01010962195244408,
           0.013293824783202852,
           0.025968704254453016,
           0.03214490888197707,
           0.014069296716498921,
           0.01396356102981307,
           0.013588724085193807,
           0.020167086130317032,
           0.015999835732020684,
           0.018783803716628824,
           0.019557933039168095,
           0.017763235548946793,
           0.009495987220700712,
           0.008464269810694565,
           0.009056392968970291,
           0.013271324550462031,
           0.011712563796937098,
           0.02558327041936496,
           0.013271969493269621,
           0.008504445561088706,
           0.008906282616495582,
           0.006103079128589659,
           0.008530408083433274,
           0.011554043396334064,
           0.014229979630418391,
           0.015954563067056678
          ],
          "colorscale": "Portland",
          "showscale": true,
          "size": 25,
          "sizemode": "diameter",
          "sizeref": 1
         },
         "mode": "markers",
         "text": [
          "BMI_donor",
          "LAS",
          "PF_donor",
          "Poids",
          "Poids_donor",
          "Taille",
          "age",
          "body_mass_index",
          "oto_score",
          "start_operation_month",
          "start_operation_day",
          "ends_operation_day",
          "ETCO2_mean",
          "FC_mean",
          "FR_mean",
          "FiO2_mean",
          "PAPdia_mean",
          "PAPmoy_mean",
          "PASd_mean",
          "PASs_mean",
          "PEEPtotal_mean",
          "PNIm_mean",
          "PNIs_mean",
          "Pmax_mean",
          "Pmean_mean",
          "SpO2_mean",
          "Temp_mean",
          "VT_mean",
          "declampage_cote2_done_mean",
          "B.I.S_std",
          "ETCO2_std",
          "FC_std",
          "FiO2_std",
          "PAPmoy_std",
          "PASd_std",
          "PASm_std",
          "PASs_std",
          "PEEPtotal_std",
          "PNIs_std",
          "Pmax_std",
          "Pmean_std",
          "SpO2_std",
          "SvO2 (m)_std",
          "Temp_std",
          "VT_std",
          "declampage_cote2_done_std",
          "ETCO2_max",
          "FR_max",
          "PAPmoy_max",
          "PAPsys_max",
          "PASd_max",
          "PASm_max",
          "PASs_max",
          "PEEPtotal_max",
          "PNId_max",
          "PNIm_max",
          "Pmax_max",
          "Pmean_max",
          "Temp_max",
          "VT_max"
         ],
         "type": "scatter",
         "uid": "893c33aa-286c-408c-8fe6-4f2cc29bdc49",
         "x": [
          "BMI_donor",
          "LAS",
          "PF_donor",
          "Poids",
          "Poids_donor",
          "Taille",
          "age",
          "body_mass_index",
          "oto_score",
          "start_operation_month",
          "start_operation_day",
          "ends_operation_day",
          "ETCO2_mean",
          "FC_mean",
          "FR_mean",
          "FiO2_mean",
          "PAPdia_mean",
          "PAPmoy_mean",
          "PASd_mean",
          "PASs_mean",
          "PEEPtotal_mean",
          "PNIm_mean",
          "PNIs_mean",
          "Pmax_mean",
          "Pmean_mean",
          "SpO2_mean",
          "Temp_mean",
          "VT_mean",
          "declampage_cote2_done_mean",
          "B.I.S_std",
          "ETCO2_std",
          "FC_std",
          "FiO2_std",
          "PAPmoy_std",
          "PASd_std",
          "PASm_std",
          "PASs_std",
          "PEEPtotal_std",
          "PNIs_std",
          "Pmax_std",
          "Pmean_std",
          "SpO2_std",
          "SvO2 (m)_std",
          "Temp_std",
          "VT_std",
          "declampage_cote2_done_std",
          "ETCO2_max",
          "FR_max",
          "PAPmoy_max",
          "PAPsys_max",
          "PASd_max",
          "PASm_max",
          "PASs_max",
          "PEEPtotal_max",
          "PNId_max",
          "PNIm_max",
          "Pmax_max",
          "Pmean_max",
          "Temp_max",
          "VT_max"
         ],
         "y": [
          0.019420210212141215,
          0.03906253575840676,
          0.014732170552841999,
          0.026675276235646906,
          0.011111636681970623,
          0.006580335231088556,
          0.01539249491042669,
          0.03381048057387049,
          0.02392622786667318,
          0.007283983358731731,
          0.011487817362506684,
          0.01163287877113154,
          0.04340983677052557,
          0.012004420139931981,
          0.015119309128225901,
          0.02596490300343165,
          0.009219066108788847,
          0.018161781262688744,
          0.012427352309508002,
          0.04116514953327186,
          0.013208918221146278,
          0.015200297511669734,
          0.008216688482208197,
          0.013421788798826944,
          0.014903629028431143,
          0.02402019554614676,
          0.031306173820502346,
          0.021809548578537098,
          0.014827613918913799,
          0.014605388923889162,
          0.012421169445608504,
          0.015841332186071314,
          0.012928326661499213,
          0.008651947490260678,
          0.01010962195244408,
          0.013293824783202852,
          0.025968704254453016,
          0.03214490888197707,
          0.014069296716498921,
          0.01396356102981307,
          0.013588724085193807,
          0.020167086130317032,
          0.015999835732020684,
          0.018783803716628824,
          0.019557933039168095,
          0.017763235548946793,
          0.009495987220700712,
          0.008464269810694565,
          0.009056392968970291,
          0.013271324550462031,
          0.011712563796937098,
          0.02558327041936496,
          0.013271969493269621,
          0.008504445561088706,
          0.008906282616495582,
          0.006103079128589659,
          0.008530408083433274,
          0.011554043396334064,
          0.014229979630418391,
          0.015954563067056678
         ]
        }
       ],
       "layout": {
        "autosize": true,
        "hovermode": "closest",
        "showlegend": false,
        "title": {
         "text": "Moyenne de l'importance des features"
        },
        "yaxis": {
         "gridwidth": 2,
         "ticklen": 5,
         "title": {
          "text": "Importance des features"
         }
        }
       }
      },
      "text/html": [
       "<div id=\"a9238751-b0f8-4ab5-8f8d-efba5d3b6b6e\" style=\"height: 525px; width: 100%;\" class=\"plotly-graph-div\"></div><script type=\"text/javascript\">require([\"plotly\"], function(Plotly) { window.PLOTLYENV=window.PLOTLYENV || {};window.PLOTLYENV.BASE_URL=\"https://plot.ly\";Plotly.newPlot(\"a9238751-b0f8-4ab5-8f8d-efba5d3b6b6e\", [{\"marker\": {\"color\": [0.019420210212141215, 0.03906253575840676, 0.014732170552841999, 0.026675276235646906, 0.011111636681970623, 0.006580335231088556, 0.01539249491042669, 0.03381048057387049, 0.02392622786667318, 0.007283983358731731, 0.011487817362506684, 0.01163287877113154, 0.04340983677052557, 0.012004420139931981, 0.015119309128225901, 0.02596490300343165, 0.009219066108788847, 0.018161781262688744, 0.012427352309508002, 0.04116514953327186, 0.013208918221146278, 0.015200297511669734, 0.008216688482208197, 0.013421788798826944, 0.014903629028431143, 0.02402019554614676, 0.031306173820502346, 0.021809548578537098, 0.014827613918913799, 0.014605388923889162, 0.012421169445608504, 0.015841332186071314, 0.012928326661499213, 0.008651947490260678, 0.01010962195244408, 0.013293824783202852, 0.025968704254453016, 0.03214490888197707, 0.014069296716498921, 0.01396356102981307, 0.013588724085193807, 0.020167086130317032, 0.015999835732020684, 0.018783803716628824, 0.019557933039168095, 0.017763235548946793, 0.009495987220700712, 0.008464269810694565, 0.009056392968970291, 0.013271324550462031, 0.011712563796937098, 0.02558327041936496, 0.013271969493269621, 0.008504445561088706, 0.008906282616495582, 0.006103079128589659, 0.008530408083433274, 0.011554043396334064, 0.014229979630418391, 0.015954563067056678], \"colorscale\": \"Portland\", \"showscale\": true, \"size\": 25, \"sizemode\": \"diameter\", \"sizeref\": 1}, \"mode\": \"markers\", \"text\": [\"BMI_donor\", \"LAS\", \"PF_donor\", \"Poids\", \"Poids_donor\", \"Taille\", \"age\", \"body_mass_index\", \"oto_score\", \"start_operation_month\", \"start_operation_day\", \"ends_operation_day\", \"ETCO2_mean\", \"FC_mean\", \"FR_mean\", \"FiO2_mean\", \"PAPdia_mean\", \"PAPmoy_mean\", \"PASd_mean\", \"PASs_mean\", \"PEEPtotal_mean\", \"PNIm_mean\", \"PNIs_mean\", \"Pmax_mean\", \"Pmean_mean\", \"SpO2_mean\", \"Temp_mean\", \"VT_mean\", \"declampage_cote2_done_mean\", \"B.I.S_std\", \"ETCO2_std\", \"FC_std\", \"FiO2_std\", \"PAPmoy_std\", \"PASd_std\", \"PASm_std\", \"PASs_std\", \"PEEPtotal_std\", \"PNIs_std\", \"Pmax_std\", \"Pmean_std\", \"SpO2_std\", \"SvO2 (m)_std\", \"Temp_std\", \"VT_std\", \"declampage_cote2_done_std\", \"ETCO2_max\", \"FR_max\", \"PAPmoy_max\", \"PAPsys_max\", \"PASd_max\", \"PASm_max\", \"PASs_max\", \"PEEPtotal_max\", \"PNId_max\", \"PNIm_max\", \"Pmax_max\", \"Pmean_max\", \"Temp_max\", \"VT_max\"], \"x\": [\"BMI_donor\", \"LAS\", \"PF_donor\", \"Poids\", \"Poids_donor\", \"Taille\", \"age\", \"body_mass_index\", \"oto_score\", \"start_operation_month\", \"start_operation_day\", \"ends_operation_day\", \"ETCO2_mean\", \"FC_mean\", \"FR_mean\", \"FiO2_mean\", \"PAPdia_mean\", \"PAPmoy_mean\", \"PASd_mean\", \"PASs_mean\", \"PEEPtotal_mean\", \"PNIm_mean\", \"PNIs_mean\", \"Pmax_mean\", \"Pmean_mean\", \"SpO2_mean\", \"Temp_mean\", \"VT_mean\", \"declampage_cote2_done_mean\", \"B.I.S_std\", \"ETCO2_std\", \"FC_std\", \"FiO2_std\", \"PAPmoy_std\", \"PASd_std\", \"PASm_std\", \"PASs_std\", \"PEEPtotal_std\", \"PNIs_std\", \"Pmax_std\", \"Pmean_std\", \"SpO2_std\", \"SvO2 (m)_std\", \"Temp_std\", \"VT_std\", \"declampage_cote2_done_std\", \"ETCO2_max\", \"FR_max\", \"PAPmoy_max\", \"PAPsys_max\", \"PASd_max\", \"PASm_max\", \"PASs_max\", \"PEEPtotal_max\", \"PNId_max\", \"PNIm_max\", \"Pmax_max\", \"Pmean_max\", \"Temp_max\", \"VT_max\"], \"y\": [0.019420210212141215, 0.03906253575840676, 0.014732170552841999, 0.026675276235646906, 0.011111636681970623, 0.006580335231088556, 0.01539249491042669, 0.03381048057387049, 0.02392622786667318, 0.007283983358731731, 0.011487817362506684, 0.01163287877113154, 0.04340983677052557, 0.012004420139931981, 0.015119309128225901, 0.02596490300343165, 0.009219066108788847, 0.018161781262688744, 0.012427352309508002, 0.04116514953327186, 0.013208918221146278, 0.015200297511669734, 0.008216688482208197, 0.013421788798826944, 0.014903629028431143, 0.02402019554614676, 0.031306173820502346, 0.021809548578537098, 0.014827613918913799, 0.014605388923889162, 0.012421169445608504, 0.015841332186071314, 0.012928326661499213, 0.008651947490260678, 0.01010962195244408, 0.013293824783202852, 0.025968704254453016, 0.03214490888197707, 0.014069296716498921, 0.01396356102981307, 0.013588724085193807, 0.020167086130317032, 0.015999835732020684, 0.018783803716628824, 0.019557933039168095, 0.017763235548946793, 0.009495987220700712, 0.008464269810694565, 0.009056392968970291, 0.013271324550462031, 0.011712563796937098, 0.02558327041936496, 0.013271969493269621, 0.008504445561088706, 0.008906282616495582, 0.006103079128589659, 0.008530408083433274, 0.011554043396334064, 0.014229979630418391, 0.015954563067056678], \"type\": \"scatter\", \"uid\": \"893c33aa-286c-408c-8fe6-4f2cc29bdc49\"}], {\"autosize\": true, \"hovermode\": \"closest\", \"showlegend\": false, \"title\": {\"text\": \"Moyenne de l'importance des features\"}, \"yaxis\": {\"gridwidth\": 2, \"ticklen\": 5, \"title\": {\"text\": \"Importance des features\"}}}, {\"showLink\": false, \"linkText\": \"Export to plot.ly\", \"plotlyServerURL\": \"https://plot.ly\"})});</script><script type=\"text/javascript\">window.addEventListener(\"resize\", function(){window._Plotly.Plots.resize(document.getElementById(\"a9238751-b0f8-4ab5-8f8d-efba5d3b6b6e\"));});</script>"
      ],
      "text/vnd.plotly.v1+html": [
       "<div id=\"a9238751-b0f8-4ab5-8f8d-efba5d3b6b6e\" style=\"height: 525px; width: 100%;\" class=\"plotly-graph-div\"></div><script type=\"text/javascript\">require([\"plotly\"], function(Plotly) { window.PLOTLYENV=window.PLOTLYENV || {};window.PLOTLYENV.BASE_URL=\"https://plot.ly\";Plotly.newPlot(\"a9238751-b0f8-4ab5-8f8d-efba5d3b6b6e\", [{\"marker\": {\"color\": [0.019420210212141215, 0.03906253575840676, 0.014732170552841999, 0.026675276235646906, 0.011111636681970623, 0.006580335231088556, 0.01539249491042669, 0.03381048057387049, 0.02392622786667318, 0.007283983358731731, 0.011487817362506684, 0.01163287877113154, 0.04340983677052557, 0.012004420139931981, 0.015119309128225901, 0.02596490300343165, 0.009219066108788847, 0.018161781262688744, 0.012427352309508002, 0.04116514953327186, 0.013208918221146278, 0.015200297511669734, 0.008216688482208197, 0.013421788798826944, 0.014903629028431143, 0.02402019554614676, 0.031306173820502346, 0.021809548578537098, 0.014827613918913799, 0.014605388923889162, 0.012421169445608504, 0.015841332186071314, 0.012928326661499213, 0.008651947490260678, 0.01010962195244408, 0.013293824783202852, 0.025968704254453016, 0.03214490888197707, 0.014069296716498921, 0.01396356102981307, 0.013588724085193807, 0.020167086130317032, 0.015999835732020684, 0.018783803716628824, 0.019557933039168095, 0.017763235548946793, 0.009495987220700712, 0.008464269810694565, 0.009056392968970291, 0.013271324550462031, 0.011712563796937098, 0.02558327041936496, 0.013271969493269621, 0.008504445561088706, 0.008906282616495582, 0.006103079128589659, 0.008530408083433274, 0.011554043396334064, 0.014229979630418391, 0.015954563067056678], \"colorscale\": \"Portland\", \"showscale\": true, \"size\": 25, \"sizemode\": \"diameter\", \"sizeref\": 1}, \"mode\": \"markers\", \"text\": [\"BMI_donor\", \"LAS\", \"PF_donor\", \"Poids\", \"Poids_donor\", \"Taille\", \"age\", \"body_mass_index\", \"oto_score\", \"start_operation_month\", \"start_operation_day\", \"ends_operation_day\", \"ETCO2_mean\", \"FC_mean\", \"FR_mean\", \"FiO2_mean\", \"PAPdia_mean\", \"PAPmoy_mean\", \"PASd_mean\", \"PASs_mean\", \"PEEPtotal_mean\", \"PNIm_mean\", \"PNIs_mean\", \"Pmax_mean\", \"Pmean_mean\", \"SpO2_mean\", \"Temp_mean\", \"VT_mean\", \"declampage_cote2_done_mean\", \"B.I.S_std\", \"ETCO2_std\", \"FC_std\", \"FiO2_std\", \"PAPmoy_std\", \"PASd_std\", \"PASm_std\", \"PASs_std\", \"PEEPtotal_std\", \"PNIs_std\", \"Pmax_std\", \"Pmean_std\", \"SpO2_std\", \"SvO2 (m)_std\", \"Temp_std\", \"VT_std\", \"declampage_cote2_done_std\", \"ETCO2_max\", \"FR_max\", \"PAPmoy_max\", \"PAPsys_max\", \"PASd_max\", \"PASm_max\", \"PASs_max\", \"PEEPtotal_max\", \"PNId_max\", \"PNIm_max\", \"Pmax_max\", \"Pmean_max\", \"Temp_max\", \"VT_max\"], \"x\": [\"BMI_donor\", \"LAS\", \"PF_donor\", \"Poids\", \"Poids_donor\", \"Taille\", \"age\", \"body_mass_index\", \"oto_score\", \"start_operation_month\", \"start_operation_day\", \"ends_operation_day\", \"ETCO2_mean\", \"FC_mean\", \"FR_mean\", \"FiO2_mean\", \"PAPdia_mean\", \"PAPmoy_mean\", \"PASd_mean\", \"PASs_mean\", \"PEEPtotal_mean\", \"PNIm_mean\", \"PNIs_mean\", \"Pmax_mean\", \"Pmean_mean\", \"SpO2_mean\", \"Temp_mean\", \"VT_mean\", \"declampage_cote2_done_mean\", \"B.I.S_std\", \"ETCO2_std\", \"FC_std\", \"FiO2_std\", \"PAPmoy_std\", \"PASd_std\", \"PASm_std\", \"PASs_std\", \"PEEPtotal_std\", \"PNIs_std\", \"Pmax_std\", \"Pmean_std\", \"SpO2_std\", \"SvO2 (m)_std\", \"Temp_std\", \"VT_std\", \"declampage_cote2_done_std\", \"ETCO2_max\", \"FR_max\", \"PAPmoy_max\", \"PAPsys_max\", \"PASd_max\", \"PASm_max\", \"PASs_max\", \"PEEPtotal_max\", \"PNId_max\", \"PNIm_max\", \"Pmax_max\", \"Pmean_max\", \"Temp_max\", \"VT_max\"], \"y\": [0.019420210212141215, 0.03906253575840676, 0.014732170552841999, 0.026675276235646906, 0.011111636681970623, 0.006580335231088556, 0.01539249491042669, 0.03381048057387049, 0.02392622786667318, 0.007283983358731731, 0.011487817362506684, 0.01163287877113154, 0.04340983677052557, 0.012004420139931981, 0.015119309128225901, 0.02596490300343165, 0.009219066108788847, 0.018161781262688744, 0.012427352309508002, 0.04116514953327186, 0.013208918221146278, 0.015200297511669734, 0.008216688482208197, 0.013421788798826944, 0.014903629028431143, 0.02402019554614676, 0.031306173820502346, 0.021809548578537098, 0.014827613918913799, 0.014605388923889162, 0.012421169445608504, 0.015841332186071314, 0.012928326661499213, 0.008651947490260678, 0.01010962195244408, 0.013293824783202852, 0.025968704254453016, 0.03214490888197707, 0.014069296716498921, 0.01396356102981307, 0.013588724085193807, 0.020167086130317032, 0.015999835732020684, 0.018783803716628824, 0.019557933039168095, 0.017763235548946793, 0.009495987220700712, 0.008464269810694565, 0.009056392968970291, 0.013271324550462031, 0.011712563796937098, 0.02558327041936496, 0.013271969493269621, 0.008504445561088706, 0.008906282616495582, 0.006103079128589659, 0.008530408083433274, 0.011554043396334064, 0.014229979630418391, 0.015954563067056678], \"type\": \"scatter\", \"uid\": \"893c33aa-286c-408c-8fe6-4f2cc29bdc49\"}], {\"autosize\": true, \"hovermode\": \"closest\", \"showlegend\": false, \"title\": {\"text\": \"Moyenne de l'importance des features\"}, \"yaxis\": {\"gridwidth\": 2, \"ticklen\": 5, \"title\": {\"text\": \"Importance des features\"}}}, {\"showLink\": false, \"linkText\": \"Export to plot.ly\", \"plotlyServerURL\": \"https://plot.ly\"})});</script><script type=\"text/javascript\">window.addEventListener(\"resize\", function(){window._Plotly.Plots.resize(document.getElementById(\"a9238751-b0f8-4ab5-8f8d-efba5d3b6b6e\"));});</script>"
      ]
     },
     "metadata": {},
     "output_type": "display_data"
    }
   ],
   "source": [
    "trace = go.Scatter(\n",
    "    y=feature_dataframe['moyenne'].values,\n",
    "    x=feature_dataframe['features'].values,\n",
    "    mode='markers',\n",
    "    marker=dict(\n",
    "        sizemode='diameter',\n",
    "        sizeref=1,\n",
    "        size=25,\n",
    "        color=feature_dataframe['moyenne'].values,\n",
    "        colorscale='Portland',\n",
    "        showscale=True\n",
    "    ),\n",
    "    text=feature_dataframe['features'].values\n",
    ")\n",
    "data = [trace]\n",
    "\n",
    "layout = go.Layout(\n",
    "    autosize=True,\n",
    "    title=\"Moyenne de l'importance des features\",\n",
    "    hovermode='closest',\n",
    "    yaxis=dict(\n",
    "        title='Importance des features',\n",
    "        ticklen=5,\n",
    "        gridwidth=2\n",
    "    ),\n",
    "    showlegend=False\n",
    ")\n",
    "fig = go.Figure(data=data, layout=layout)\n",
    "py.iplot(fig, filename='scatter2010')"
   ]
  },
  {
   "cell_type": "code",
   "execution_count": 49,
   "metadata": {},
   "outputs": [
    {
     "data": {
      "text/html": [
       "<div>\n",
       "<style scoped>\n",
       "    .dataframe tbody tr th:only-of-type {\n",
       "        vertical-align: middle;\n",
       "    }\n",
       "\n",
       "    .dataframe tbody tr th {\n",
       "        vertical-align: top;\n",
       "    }\n",
       "\n",
       "    .dataframe thead th {\n",
       "        text-align: right;\n",
       "    }\n",
       "</style>\n",
       "<table border=\"1\" class=\"dataframe\">\n",
       "  <thead>\n",
       "    <tr style=\"text-align: right;\">\n",
       "      <th></th>\n",
       "      <th>RandomForest</th>\n",
       "      <th>ExtraTrees</th>\n",
       "      <th>AdaBoost</th>\n",
       "      <th>GradientBoost</th>\n",
       "    </tr>\n",
       "  </thead>\n",
       "  <tbody>\n",
       "    <tr>\n",
       "      <th>0</th>\n",
       "      <td>1.0</td>\n",
       "      <td>1.0</td>\n",
       "      <td>0.0</td>\n",
       "      <td>1.0</td>\n",
       "    </tr>\n",
       "    <tr>\n",
       "      <th>1</th>\n",
       "      <td>0.0</td>\n",
       "      <td>0.0</td>\n",
       "      <td>0.0</td>\n",
       "      <td>0.0</td>\n",
       "    </tr>\n",
       "    <tr>\n",
       "      <th>2</th>\n",
       "      <td>0.0</td>\n",
       "      <td>0.0</td>\n",
       "      <td>1.0</td>\n",
       "      <td>0.0</td>\n",
       "    </tr>\n",
       "    <tr>\n",
       "      <th>3</th>\n",
       "      <td>0.0</td>\n",
       "      <td>0.0</td>\n",
       "      <td>0.0</td>\n",
       "      <td>0.0</td>\n",
       "    </tr>\n",
       "    <tr>\n",
       "      <th>4</th>\n",
       "      <td>0.0</td>\n",
       "      <td>0.0</td>\n",
       "      <td>0.0</td>\n",
       "      <td>0.0</td>\n",
       "    </tr>\n",
       "  </tbody>\n",
       "</table>\n",
       "</div>"
      ],
      "text/plain": [
       "   RandomForest  ExtraTrees  AdaBoost  GradientBoost\n",
       "0           1.0         1.0       0.0            1.0\n",
       "1           0.0         0.0       0.0            0.0\n",
       "2           0.0         0.0       1.0            0.0\n",
       "3           0.0         0.0       0.0            0.0\n",
       "4           0.0         0.0       0.0            0.0"
      ]
     },
     "execution_count": 49,
     "metadata": {},
     "output_type": "execute_result"
    }
   ],
   "source": [
    "premieres_predictions_train = pd.DataFrame( {'RandomForest': rf_oof_train.ravel(),\n",
    "     'ExtraTrees': et_oof_train.ravel(),\n",
    "     'AdaBoost': ada_oof_train.ravel(),\n",
    "      'GradientBoost': gb_oof_train.ravel()\n",
    "    })\n",
    "premieres_predictions_train.head()"
   ]
  },
  {
   "cell_type": "code",
   "execution_count": 50,
   "metadata": {},
   "outputs": [
    {
     "data": {
      "text/plain": [
       "<matplotlib.axes._subplots.AxesSubplot at 0x194e8087320>"
      ]
     },
     "execution_count": 50,
     "metadata": {},
     "output_type": "execute_result"
    },
    {
     "data": {
      "image/png": "[encoded data removed]",
      "text/plain": [
       "<Figure size 720x720 with 2 Axes>"
      ]
     },
     "metadata": {
      "needs_background": "light"
     },
     "output_type": "display_data"
    }
   ],
   "source": [
    "colormap = plt.cm.YlOrRd\n",
    "plt.figure(figsize=(10,10))\n",
    "plt.title('Corrélation des prédictions des modèles', y=1.05, size=15)\n",
    "sns.heatmap(premieres_predictions_train.astype(float).corr().values, linewidths=0.1, \n",
    "            square=True, cmap=colormap, linecolor='white', annot=True,\n",
    "           vmin=0, vmax=1,\n",
    "           xticklabels=premieres_predictions_train.columns.values, yticklabels=premieres_predictions_train.columns.values)"
   ]
  },
  {
   "cell_type": "code",
   "execution_count": 51,
   "metadata": {},
   "outputs": [],
   "source": [
    "x_train_stack = np.concatenate(( et_oof_train, rf_oof_train, ada_oof_train, gb_oof_train), axis=1)\n",
    "x_test_stack = np.concatenate(( et_oof_test, rf_oof_test, ada_oof_test, gb_oof_test), axis=1)"
   ]
  },
  {
   "cell_type": "markdown",
   "metadata": {},
   "source": [
    "### GradientBoosting Stack"
   ]
  },
  {
   "cell_type": "code",
   "execution_count": 52,
   "metadata": {},
   "outputs": [],
   "source": [
    "GBC_stck=GradientBoostingClassifier()"
   ]
  },
  {
   "cell_type": "code",
   "execution_count": 53,
   "metadata": {},
   "outputs": [],
   "source": [
    "GBC_stck.fit(x_train_stack,y_train)\n",
    "y_test_GBC_stack=GBC_stck.predict(x_test_stack)"
   ]
  },
  {
   "cell_type": "code",
   "execution_count": 54,
   "metadata": {},
   "outputs": [
    {
     "name": "stdout",
     "output_type": "stream",
     "text": [
      "Accuracy :\n",
      "0.7254901960784313\n"
     ]
    }
   ],
   "source": [
    "print(\"Accuracy :\")\n",
    "GBC_stack_accu=metrics.accuracy_score(y_test,y_test_GBC_stack)\n",
    "accu_comparaison['Gradient Boosting Stacked']=GBC_stack_accu\n",
    "print(GBC_stack_accu)"
   ]
  },
  {
   "cell_type": "code",
   "execution_count": 55,
   "metadata": {},
   "outputs": [
    {
     "name": "stdout",
     "output_type": "stream",
     "text": [
      "              precision    recall  f1-score   support\n",
      "\n",
      "           0       0.70      0.93      0.80        59\n",
      "           1       0.83      0.44      0.58        43\n",
      "\n",
      "   micro avg       0.73      0.73      0.73       102\n",
      "   macro avg       0.76      0.69      0.69       102\n",
      "weighted avg       0.75      0.73      0.70       102\n",
      "\n"
     ]
    }
   ],
   "source": [
    "print(metrics.classification_report(y_test,y_test_GBC_stack))"
   ]
  },
  {
   "cell_type": "code",
   "execution_count": 56,
   "metadata": {
    "scrolled": true
   },
   "outputs": [
    {
     "data": {
      "text/plain": [
       "<matplotlib.axes._subplots.AxesSubplot at 0x194e83445f8>"
      ]
     },
     "execution_count": 56,
     "metadata": {},
     "output_type": "execute_result"
    },
    {
     "data": {
      "image/png": "[encoded data removed]",
      "text/plain": [
       "<Figure size 504x432 with 2 Axes>"
      ]
     },
     "metadata": {
      "needs_background": "light"
     },
     "output_type": "display_data"
    }
   ],
   "source": [
    "colormap = plt.cm.PuRd\n",
    "plt.figure(figsize=(7,6))\n",
    "plt.title('Matrice de confusion Proba Gradient Boost Stacked', y=1.05, size=15)\n",
    "sns.heatmap(confusion_matrix(y_test,y_test_GBC_stack)/ntest,linewidths=0.1, \n",
    "            square=True, cmap=colormap, linecolor='white', annot=True,\n",
    "           vmin=0, vmax=0.6)"
   ]
  },
  {
   "cell_type": "markdown",
   "metadata": {},
   "source": [
    "### Random Forest Stack"
   ]
  },
  {
   "cell_type": "code",
   "execution_count": 57,
   "metadata": {},
   "outputs": [],
   "source": [
    "RF_stck=RandomForestClassifier()"
   ]
  },
  {
   "cell_type": "code",
   "execution_count": 58,
   "metadata": {},
   "outputs": [],
   "source": [
    "RF_stck.fit(x_train_stack,y_train)\n",
    "y_test_RF_stack=RF_stck.predict(x_test_stack)"
   ]
  },
  {
   "cell_type": "code",
   "execution_count": 59,
   "metadata": {},
   "outputs": [
    {
     "name": "stdout",
     "output_type": "stream",
     "text": [
      "Accuracy :\n",
      "0.6568627450980392\n"
     ]
    }
   ],
   "source": [
    "print(\"Accuracy :\")\n",
    "RF_stack_accu=metrics.accuracy_score(y_test,y_test_RF_stack)\n",
    "accu_comparaison['Random Forest Stacked']=RF_stack_accu\n",
    "print(RF_stack_accu)"
   ]
  },
  {
   "cell_type": "code",
   "execution_count": 60,
   "metadata": {},
   "outputs": [
    {
     "name": "stdout",
     "output_type": "stream",
     "text": [
      "              precision    recall  f1-score   support\n",
      "\n",
      "           0       0.68      0.78      0.72        59\n",
      "           1       0.62      0.49      0.55        43\n",
      "\n",
      "   micro avg       0.66      0.66      0.66       102\n",
      "   macro avg       0.65      0.63      0.63       102\n",
      "weighted avg       0.65      0.66      0.65       102\n",
      "\n"
     ]
    }
   ],
   "source": [
    "print(metrics.classification_report(y_test,y_test_RF_stack))"
   ]
  },
  {
   "cell_type": "code",
   "execution_count": 61,
   "metadata": {
    "scrolled": true
   },
   "outputs": [
    {
     "data": {
      "text/plain": [
       "<matplotlib.axes._subplots.AxesSubplot at 0x194e8181208>"
      ]
     },
     "execution_count": 61,
     "metadata": {},
     "output_type": "execute_result"
    },
    {
     "data": {
      "image/png": "[encoded data removed]",
      "text/plain": [
       "<Figure size 504x432 with 2 Axes>"
      ]
     },
     "metadata": {
      "needs_background": "light"
     },
     "output_type": "display_data"
    }
   ],
   "source": [
    "colormap = plt.cm.PuRd\n",
    "plt.figure(figsize=(7,6))\n",
    "plt.title('Matrice de confusion Proba Random Forest Stacked', y=1.05, size=15)\n",
    "sns.heatmap(confusion_matrix(y_test,y_test_RF_stack)/ntest,linewidths=0.1, \n",
    "            square=True, cmap=colormap, linecolor='white', annot=True,\n",
    "           vmin=0, vmax=0.6)"
   ]
  },
  {
   "cell_type": "markdown",
   "metadata": {},
   "source": [
    "## Comparaison Résultats"
   ]
  },
  {
   "cell_type": "code",
   "execution_count": 62,
   "metadata": {},
   "outputs": [
    {
     "data": {
      "text/plain": [
       "{'Random Forest': 0.7058823529411765,\n",
       " 'Extra Tree': 0.6470588235294118,\n",
       " 'Ada Boost': 0.6176470588235294,\n",
       " 'Gradient Boost': 0.6470588235294118,\n",
       " 'Gradient Boosting Stacked': 0.7254901960784313,\n",
       " 'Random Forest Stacked': 0.6568627450980392}"
      ]
     },
     "execution_count": 62,
     "metadata": {},
     "output_type": "execute_result"
    }
   ],
   "source": [
    "accu_comparaison"
   ]
  },
  {
   "cell_type": "code",
   "execution_count": 63,
   "metadata": {
    "scrolled": false
   },
   "outputs": [],
   "source": [
    "accu_comparaison_df=pd.DataFrame(accu_comparaison,index=[0])"
   ]
  },
  {
   "cell_type": "code",
   "execution_count": 64,
   "metadata": {},
   "outputs": [
    {
     "data": {
      "text/plain": [
       "array([4, 1, 0, 2, 5, 3], dtype=int64)"
      ]
     },
     "execution_count": 64,
     "metadata": {},
     "output_type": "execute_result"
    }
   ],
   "source": [
    "index_asc=accu_comparaison_df.values.ravel().argsort().argsort()\n",
    "index_asc"
   ]
  },
  {
   "cell_type": "code",
   "execution_count": 65,
   "metadata": {},
   "outputs": [
    {
     "data": {
      "text/plain": [
       "<matplotlib.axes._subplots.AxesSubplot at 0x194e7684e10>"
      ]
     },
     "execution_count": 65,
     "metadata": {},
     "output_type": "execute_result"
    },
    {
     "data": {
      "image/png": "[encoded data removed]",
      "text/plain": [
       "<Figure size 504x432 with 1 Axes>"
      ]
     },
     "metadata": {
      "needs_background": "light"
     },
     "output_type": "display_data"
    }
   ],
   "source": [
    "plt.figure(figsize=(7,6))\n",
    "plt.title('Comparing performances', y=1.05, size=20)\n",
    "sns.barplot(accu_comparaison_df.values.ravel(),\n",
    "            accu_comparaison_df.columns,\n",
    "            palette=np.array((sns.color_palette(\"Reds\", n_colors=len(index_asc))))[list(index_asc)])"
   ]
  },
  {
   "cell_type": "code",
   "execution_count": 66,
   "metadata": {},
   "outputs": [
    {
     "data": {
      "text/html": [
       "<div>\n",
       "<style scoped>\n",
       "    .dataframe tbody tr th:only-of-type {\n",
       "        vertical-align: middle;\n",
       "    }\n",
       "\n",
       "    .dataframe tbody tr th {\n",
       "        vertical-align: top;\n",
       "    }\n",
       "\n",
       "    .dataframe thead th {\n",
       "        text-align: right;\n",
       "    }\n",
       "</style>\n",
       "<table border=\"1\" class=\"dataframe\">\n",
       "  <thead>\n",
       "    <tr style=\"text-align: right;\">\n",
       "      <th></th>\n",
       "      <th>Random Forest</th>\n",
       "      <th>Extra Tree</th>\n",
       "      <th>Ada Boost</th>\n",
       "      <th>Gradient Boost</th>\n",
       "      <th>Gradient Boosting Stacked</th>\n",
       "      <th>Random Forest Stacked</th>\n",
       "    </tr>\n",
       "  </thead>\n",
       "  <tbody>\n",
       "    <tr>\n",
       "      <th>0</th>\n",
       "      <td>0.705882</td>\n",
       "      <td>0.647059</td>\n",
       "      <td>0.617647</td>\n",
       "      <td>0.647059</td>\n",
       "      <td>0.72549</td>\n",
       "      <td>0.656863</td>\n",
       "    </tr>\n",
       "  </tbody>\n",
       "</table>\n",
       "</div>"
      ],
      "text/plain": [
       "   Random Forest  Extra Tree  Ada Boost  Gradient Boost  \\\n",
       "0       0.705882    0.647059   0.617647        0.647059   \n",
       "\n",
       "   Gradient Boosting Stacked  Random Forest Stacked  \n",
       "0                    0.72549               0.656863  "
      ]
     },
     "execution_count": 66,
     "metadata": {},
     "output_type": "execute_result"
    }
   ],
   "source": [
    "accu_comparaison_df"
   ]
  },
  {
   "cell_type": "code",
   "execution_count": null,
   "metadata": {},
   "outputs": [],
   "source": []
  }
 ],
 "metadata": {
  "kernelspec": {
   "display_name": "Python 3",
   "language": "python",
   "name": "python3"
  },
  "language_info": {
   "codemirror_mode": {
    "name": "ipython",
    "version": 3
   },
   "file_extension": ".py",
   "mimetype": "text/x-python",
   "name": "python",
   "nbconvert_exporter": "python",
   "pygments_lexer": "ipython3",
   "version": "3.6.8"
  },
  "varInspector": {
   "cols": {
    "lenName": 16,
    "lenType": 16,
    "lenVar": 40
   },
   "kernels_config": {
    "python": {
     "delete_cmd_postfix": "",
     "delete_cmd_prefix": "del ",
     "library": "var_list.py",
     "varRefreshCmd": "print(var_dic_list())"
    },
    "r": {
     "delete_cmd_postfix": ") ",
     "delete_cmd_prefix": "rm(",
     "library": "var_list.r",
     "varRefreshCmd": "cat(var_dic_list()) "
    }
   },
   "position": {
    "height": "650px",
    "left": "574.924px",
    "right": "20px",
    "top": "65.9848px",
    "width": "690px"
   },
   "types_to_exclude": [
    "module",
    "function",
    "builtin_function_or_method",
    "instance",
    "_Feature"
   ],
   "window_display": false
  }
 },
 "nbformat": 4,
 "nbformat_minor": 2
}
