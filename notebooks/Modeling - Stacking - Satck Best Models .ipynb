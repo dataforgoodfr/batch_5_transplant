{
 "cells": [
  {
   "cell_type": "code",
   "execution_count": 1,
   "metadata": {},
   "outputs": [
    {
     "data": {
      "text/html": [
       "<div id=\"my_id_menu_nb\">run previous cell, wait for 2 seconds</div>\n",
       "<script>\n",
       "function repeat_indent_string(n){\n",
       "    var a = \"\" ;\n",
       "    for ( ; n > 0 ; --n)\n",
       "        a += \"    \";\n",
       "    return a;\n",
       "}\n",
       "// look up into all sections and builds an automated menu //\n",
       "var update_menu_string = function(begin, lfirst, llast, sformat, send, keep_item, begin_format, end_format) {\n",
       "    var anchors = document.getElementsByClassName(\"section\");\n",
       "    if (anchors.length == 0) {\n",
       "        anchors = document.getElementsByClassName(\"text_cell_render rendered_html\");\n",
       "    }\n",
       "    var i,t;\n",
       "    var text_menu = begin;\n",
       "    var text_memo = \"<pre>\\nlength:\" + anchors.length + \"\\n\";\n",
       "    var ind = \"\";\n",
       "    var memo_level = 1;\n",
       "    var href;\n",
       "    var tags = [];\n",
       "    var main_item = 0;\n",
       "    var format_open = 0;\n",
       "    for (i = 0; i <= llast; i++)\n",
       "        tags.push(\"h\" + i);\n",
       "\n",
       "    for (i = 0; i < anchors.length; i++) {\n",
       "        text_memo += \"**\" + anchors[i].id + \"--\\n\";\n",
       "\n",
       "        var child = null;\n",
       "        for(t = 0; t < tags.length; t++) {\n",
       "            var r = anchors[i].getElementsByTagName(tags[t]);\n",
       "            if (r.length > 0) {\n",
       "child = r[0];\n",
       "break;\n",
       "            }\n",
       "        }\n",
       "        if (child == null) {\n",
       "            text_memo += \"null\\n\";\n",
       "            continue;\n",
       "        }\n",
       "        if (anchors[i].hasAttribute(\"id\")) {\n",
       "            // when converted in RST\n",
       "            href = anchors[i].id;\n",
       "            text_memo += \"#1-\" + href;\n",
       "            // passer à child suivant (le chercher)\n",
       "        }\n",
       "        else if (child.hasAttribute(\"id\")) {\n",
       "            // in a notebook\n",
       "            href = child.id;\n",
       "            text_memo += \"#2-\" + href;\n",
       "        }\n",
       "        else {\n",
       "            text_memo += \"#3-\" + \"*\" + \"\\n\";\n",
       "            continue;\n",
       "        }\n",
       "        var title = child.textContent;\n",
       "        var level = parseInt(child.tagName.substring(1,2));\n",
       "\n",
       "        text_memo += \"--\" + level + \"?\" + lfirst + \"--\" + title + \"\\n\";\n",
       "\n",
       "        if ((level < lfirst) || (level > llast)) {\n",
       "            continue ;\n",
       "        }\n",
       "        if (title.endsWith('¶')) {\n",
       "            title = title.substring(0,title.length-1).replace(\"<\", \"&lt;\")\n",
       "         .replace(\">\", \"&gt;\").replace(\"&\", \"&amp;\");\n",
       "        }\n",
       "        if (title.length == 0) {\n",
       "            continue;\n",
       "        }\n",
       "\n",
       "        while (level < memo_level) {\n",
       "            text_menu += end_format + \"</ul>\\n\";\n",
       "            format_open -= 1;\n",
       "            memo_level -= 1;\n",
       "        }\n",
       "        if (level == lfirst) {\n",
       "            main_item += 1;\n",
       "        }\n",
       "        if (keep_item != -1 && main_item != keep_item + 1) {\n",
       "            // alert(main_item + \" - \" + level + \" - \" + keep_item);\n",
       "            continue;\n",
       "        }\n",
       "        while (level > memo_level) {\n",
       "            text_menu += \"<ul>\\n\";\n",
       "            memo_level += 1;\n",
       "        }\n",
       "        text_menu += repeat_indent_string(level-2);\n",
       "        text_menu += begin_format + sformat.replace(\"__HREF__\", href).replace(\"__TITLE__\", title);\n",
       "        format_open += 1;\n",
       "    }\n",
       "    while (1 < memo_level) {\n",
       "        text_menu += end_format + \"</ul>\\n\";\n",
       "        memo_level -= 1;\n",
       "        format_open -= 1;\n",
       "    }\n",
       "    text_menu += send;\n",
       "    //text_menu += \"\\n\" + text_memo;\n",
       "\n",
       "    while (format_open > 0) {\n",
       "        text_menu += end_format;\n",
       "        format_open -= 1;\n",
       "    }\n",
       "    return text_menu;\n",
       "};\n",
       "var update_menu = function() {\n",
       "    var sbegin = \"\";\n",
       "    var sformat = '<a href=\"#__HREF__\">__TITLE__</a>';\n",
       "    var send = \"\";\n",
       "    var begin_format = '<li>';\n",
       "    var end_format = '</li>';\n",
       "    var keep_item = -1;\n",
       "    var text_menu = update_menu_string(sbegin, 2, 4, sformat, send, keep_item,\n",
       "       begin_format, end_format);\n",
       "    var menu = document.getElementById(\"my_id_menu_nb\");\n",
       "    menu.innerHTML=text_menu;\n",
       "};\n",
       "window.setTimeout(update_menu,2000);\n",
       "            </script>"
      ],
      "text/plain": [
       "<IPython.core.display.HTML object>"
      ]
     },
     "execution_count": 1,
     "metadata": {},
     "output_type": "execute_result"
    }
   ],
   "source": [
    "from jyquickhelper import add_notebook_menu\n",
    "add_notebook_menu()"
   ]
  },
  {
   "cell_type": "code",
   "execution_count": 2,
   "metadata": {},
   "outputs": [],
   "source": [
    "import warnings\n",
    "warnings.filterwarnings('ignore')"
   ]
  },
  {
   "cell_type": "markdown",
   "metadata": {},
   "source": [
    "## Let's try to do our best with a few ML model"
   ]
  },
  {
   "cell_type": "code",
   "execution_count": 3,
   "metadata": {
    "scrolled": true
   },
   "outputs": [
    {
     "data": {
      "text/html": [
       "<script type=\"text/javascript\">window.PlotlyConfig = {MathJaxConfig: 'local'};</script><script type=\"text/javascript\">if (window.MathJax) {MathJax.Hub.Config({SVG: {font: \"STIX-Web\"}});}</script><script>requirejs.config({paths: { 'plotly': ['https://cdn.plot.ly/plotly-latest.min']},});if(!window._Plotly) {require(['plotly'],function(plotly) {window._Plotly=plotly;});}</script>"
      ],
      "text/vnd.plotly.v1+html": [
       "<script type=\"text/javascript\">window.PlotlyConfig = {MathJaxConfig: 'local'};</script><script type=\"text/javascript\">if (window.MathJax) {MathJax.Hub.Config({SVG: {font: \"STIX-Web\"}});}</script><script>requirejs.config({paths: { 'plotly': ['https://cdn.plot.ly/plotly-latest.min']},});if(!window._Plotly) {require(['plotly'],function(plotly) {window._Plotly=plotly;});}</script>"
      ]
     },
     "metadata": {},
     "output_type": "display_data"
    },
    {
     "name": "stderr",
     "output_type": "stream",
     "text": [
      "Using TensorFlow backend.\n"
     ]
    }
   ],
   "source": [
    "import pandas as pd\n",
    "import numpy as np\n",
    "import sklearn\n",
    "from sklearn.model_selection import train_test_split\n",
    "from sklearn import metrics\n",
    "from sklearn.metrics import confusion_matrix\n",
    "\n",
    "import seaborn as sns\n",
    "import matplotlib.pyplot as plt\n",
    "%matplotlib inline\n",
    "\n",
    "import plotly.offline as py\n",
    "py.init_notebook_mode(connected=True)\n",
    "import plotly.graph_objs as go\n",
    "import plotly.tools as tls\n",
    "\n",
    "import tensorflow as tf\n",
    "import keras\n",
    "from keras.models import Sequential\n",
    "from keras.layers import Dense, Dropout, Activation\n",
    "from keras.optimizers import SGD\n"
   ]
  },
  {
   "cell_type": "code",
   "execution_count": 4,
   "metadata": {},
   "outputs": [
    {
     "data": {
      "text/plain": [
       "'0.20.2'"
      ]
     },
     "execution_count": 4,
     "metadata": {},
     "output_type": "execute_result"
    }
   ],
   "source": [
    "sklearn.__version__"
   ]
  },
  {
   "cell_type": "code",
   "execution_count": 5,
   "metadata": {},
   "outputs": [],
   "source": [
    "from sklearn.ensemble import (RandomForestClassifier, AdaBoostClassifier,\n",
    "                              GradientBoostingClassifier, ExtraTreesClassifier)\n",
    "\n",
    "from sklearn.model_selection import KFold"
   ]
  },
  {
   "cell_type": "markdown",
   "metadata": {},
   "source": [
    "## Data Preparation"
   ]
  },
  {
   "cell_type": "code",
   "execution_count": 6,
   "metadata": {},
   "outputs": [],
   "source": [
    "from transplant.data.learningset import Learningset\n",
    "#from transplant.config import *\n",
    "learningset = Learningset()\n",
    "\n",
    "#X_train, X_test, y_train, y_test, X_col = learningset.get_static_filled(to_train=True)\n",
    "#X_train, X_test, y_train, y_test, X_col = learningset.get_data_merged_dynamic_flatten_full(\"cls\", False)\n",
    "#X_train, X_test, y_train, y_test, X_col = armand_funct()\n",
    "\n",
    "train, test = learningset.get_data_merged_dynamic_flatten_full(full_df=True)"
   ]
  },
  {
   "cell_type": "markdown",
   "metadata": {},
   "source": [
    "Choix des features : "
   ]
  },
  {
   "cell_type": "code",
   "execution_count": 7,
   "metadata": {},
   "outputs": [],
   "source": [
    "## RFE avec 4 modèles d'ensemble\n",
    "choix_features_1=['PEEPtotal_std',\n",
    " 'Temp_mean',\n",
    " 'ETCO2_mean',\n",
    " 'FiO2_std',\n",
    " 'LAS',\n",
    " 'Poids',\n",
    " 'SpO2_mean',\n",
    " 'BIS SR_std']\n",
    "\n",
    "## Variables Antoine avec perspective résultats RFE\n",
    "choix_features_4=['FiO2_std','FiO2_mean',\n",
    "                  'SpO2_mean','SpO2_std',\n",
    "                  'PEEPtotal_mean',\n",
    "                  'BIS SR_std',\n",
    "                  'PAPsys_max','PAPsys_std',\n",
    "                  'PASs_mean','PASm_max',\n",
    "                  'LAS',\n",
    "                  'FC_std'\n",
    "                 ]\n",
    "\n",
    "choix_features_5=set(choix_features_4 + choix_features_1)\n",
    "\n",
    "\n",
    "choix_features_6=['B.I.S_std',\n",
    " 'ETCO2_max',\n",
    " 'ETCO2_mean',\n",
    " 'FC_mean',\n",
    " 'FR_max',\n",
    " 'FR_mean',\n",
    " 'FiO2_mean',\n",
    " 'FiO2_std',\n",
    " 'LAS',\n",
    " 'PAPmoy_mean',\n",
    " 'PAPsys_max',\n",
    " 'PASd_mean',\n",
    " 'PASs_mean',\n",
    " 'PEEPtotal_mean',\n",
    " 'PEEPtotal_std',\n",
    " 'PF_donor',\n",
    " 'Poids',\n",
    " 'SpO2_std',\n",
    " 'Temp_mean',\n",
    " 'VT_max',\n",
    " 'VT_std',\n",
    " 'body_mass_index',\n",
    " 'declampage_cote2_done_std',\n",
    " 'oto_score']\n",
    "\n",
    "choix_features_7=set(choix_features_4 + choix_features_6)\n",
    "\n",
    "choix_features_8=['BMI_donor', 'LAS', 'PF_donor', 'Poids', 'Poids_donor', 'Taille', 'age',\n",
    "       'body_mass_index', 'oto_score', 'start_operation_month',\n",
    "       'start_operation_day', 'ends_operation_day', 'ETCO2_mean', 'FC_mean',\n",
    "       'FR_mean', 'FiO2_mean', 'PAPdia_mean', 'PAPmoy_mean', 'PASd_mean',\n",
    "       'PASs_mean', 'PEEPtotal_mean', 'PNIm_mean', 'PNIs_mean', 'Pmax_mean',\n",
    "       'Pmean_mean', 'SpO2_mean', 'Temp_mean', 'VT_mean',\n",
    "       'declampage_cote2_done_mean', 'B.I.S_std', 'ETCO2_std', 'FC_std',\n",
    "       'FiO2_std', 'PAPmoy_std', 'PASd_std', 'PASm_std', 'PASs_std',\n",
    "       'PEEPtotal_std', 'PNIs_std', 'Pmax_std', 'Pmean_std', 'SpO2_std',\n",
    "       'SvO2 (m)_std', 'Temp_std', 'VT_std', 'declampage_cote2_done_std',\n",
    "       'ETCO2_max', 'FR_max', 'PAPmoy_max', 'PAPsys_max', 'PASd_max',\n",
    "       'PASm_max', 'PASs_max', 'PEEPtotal_max', 'PNId_max', 'PNIm_max',\n",
    "       'Pmax_max', 'Pmean_max', 'Temp_max', 'VT_max']\n",
    "\n",
    "choix_features_9=set(choix_features_4 + choix_features_8)\n",
    "\n",
    "choix_features_10=['Poids', 'ends_operation_day', 'ETCO2_mean', 'PASs_mean',\n",
    "       'PEEPtotal_mean', 'Pmax_mean', 'Pmean_mean', 'SpO2_mean', 'Temp_mean',\n",
    "       'VT_mean', 'declampage_cote2_done_mean', 'PASd_std', 'VT_std',\n",
    "       'PASm_max', 'Temp_max']\n",
    "\n",
    "choix_features_11=set(choix_features_4 + choix_features_10)"
   ]
  },
  {
   "cell_type": "code",
   "execution_count": 8,
   "metadata": {},
   "outputs": [],
   "source": [
    "Choix_Features=choix_features_4"
   ]
  },
  {
   "cell_type": "code",
   "execution_count": 9,
   "metadata": {},
   "outputs": [],
   "source": [
    "num_feat=len(Choix_Features)"
   ]
  },
  {
   "cell_type": "code",
   "execution_count": 10,
   "metadata": {},
   "outputs": [],
   "source": [
    "X_train=train[Choix_Features].values \n",
    "X_test=test[Choix_Features].values\n",
    "y_train=train['target'].values\n",
    "y_test=test['target'].values"
   ]
  },
  {
   "cell_type": "code",
   "execution_count": 11,
   "metadata": {},
   "outputs": [],
   "source": [
    "X_col=train[Choix_Features].columns"
   ]
  },
  {
   "cell_type": "code",
   "execution_count": 12,
   "metadata": {},
   "outputs": [
    {
     "data": {
      "text/plain": [
       "((228, 12), (102, 12), (228,), (102,))"
      ]
     },
     "execution_count": 12,
     "metadata": {},
     "output_type": "execute_result"
    }
   ],
   "source": [
    "X_train.shape, X_test.shape, y_train.shape, y_test.shape"
   ]
  },
  {
   "cell_type": "markdown",
   "metadata": {},
   "source": [
    "We need to change the y format in order to make our models work"
   ]
  },
  {
   "cell_type": "code",
   "execution_count": 13,
   "metadata": {},
   "outputs": [],
   "source": [
    "y_train, y_test = y_train.reshape(-1, 1).ravel() , y_test.reshape(-1, 1).ravel()"
   ]
  },
  {
   "cell_type": "code",
   "execution_count": 14,
   "metadata": {},
   "outputs": [
    {
     "data": {
      "text/plain": [
       "((228, 12), (102, 12), (228,), (102,))"
      ]
     },
     "execution_count": 14,
     "metadata": {},
     "output_type": "execute_result"
    }
   ],
   "source": [
    "X_train.shape, X_test.shape, y_train.shape, y_test.shape"
   ]
  },
  {
   "cell_type": "markdown",
   "metadata": {},
   "source": [
    "## Models d'Ensembles"
   ]
  },
  {
   "cell_type": "code",
   "execution_count": 15,
   "metadata": {},
   "outputs": [],
   "source": [
    "cols = X_col  # On a besoin des colonnes pour plus tard\n",
    "# On observe le grand X et pas le petit x ...\n",
    "\n",
    "ntrain = X_train.shape[0]\n",
    "\n",
    "ntest = X_test.shape[0]\n",
    "\n",
    "seed = 5                   # Pour reproduire les résultats"
   ]
  },
  {
   "cell_type": "code",
   "execution_count": 16,
   "metadata": {},
   "outputs": [
    {
     "data": {
      "text/plain": [
       "(228, 102)"
      ]
     },
     "execution_count": 16,
     "metadata": {},
     "output_type": "execute_result"
    }
   ],
   "source": [
    "ntrain, ntest"
   ]
  },
  {
   "cell_type": "code",
   "execution_count": 17,
   "metadata": {},
   "outputs": [],
   "source": [
    "class SklearnHelper(object):\n",
    "    def __init__(self, clf, seed=0, params=None):\n",
    "        params['random_state'] = seed\n",
    "        self.clf = clf(**params)\n",
    "\n",
    "    def train(self, x_train, y_train):\n",
    "        self.clf.fit(x_train, y_train)\n",
    "\n",
    "    def predict(self, x):\n",
    "        return self.clf.predict(x)\n",
    "\n",
    "    def fit(self, x, y):\n",
    "        return self.clf.fit(x, y)\n",
    "\n",
    "    def feature_importances(self, x, y):\n",
    "        return self.clf.fit(x, y).feature_importances_"
   ]
  },
  {
   "cell_type": "code",
   "execution_count": 18,
   "metadata": {},
   "outputs": [],
   "source": [
    "NFOLDS = 5\n",
    "kf = KFold(n_splits=NFOLDS, random_state=seed)\n",
    "\n",
    "\n",
    "def get_oof(clf, x_train, y_train, x_test):\n",
    "    oof_train = np.zeros((ntrain,))\n",
    "    oof_test = np.zeros((ntest,))\n",
    "    oof_test_skf = np.empty((NFOLDS, ntest))\n",
    "\n",
    "    for i, (train_index, test_index) in enumerate(kf.split(x_train)):\n",
    "        x_tr = x_train[train_index]\n",
    "        y_tr = y_train[train_index]\n",
    "        x_te = x_train[test_index]\n",
    "\n",
    "        clf.train(x_tr, y_tr)\n",
    "\n",
    "        oof_train[test_index] = clf.predict(x_te)\n",
    "        oof_test_skf[i, :] = clf.predict(x_test)\n",
    "\n",
    "    oof_test[:] = oof_test_skf.mean(axis=0)\n",
    "    return oof_train.reshape(-1, 1), oof_test.reshape(-1, 1)"
   ]
  },
  {
   "cell_type": "code",
   "execution_count": 19,
   "metadata": {},
   "outputs": [],
   "source": [
    "rf_params = {\n",
    "    'n_jobs': -1,\n",
    "    'n_estimators': 500,\n",
    "    #'warm_start': True,\n",
    "    # 'max_features': 0.2,\n",
    "    'max_depth': 6,\n",
    "    'min_samples_leaf': 2,\n",
    "    'max_features': 'sqrt',\n",
    "    'verbose': 0\n",
    "}"
   ]
  },
  {
   "cell_type": "code",
   "execution_count": 20,
   "metadata": {},
   "outputs": [],
   "source": [
    "et_params = {\n",
    "    'n_jobs': -1,\n",
    "    'n_estimators': 500,\n",
    "    # 'max_features': 0.5,\n",
    "    'max_depth': 8,\n",
    "    'min_samples_leaf': 2,\n",
    "    'verbose': 0\n",
    "}"
   ]
  },
  {
   "cell_type": "code",
   "execution_count": 21,
   "metadata": {},
   "outputs": [],
   "source": [
    "ada_params = {\n",
    "    'n_estimators': 500,\n",
    "    'learning_rate': 0.75\n",
    "}"
   ]
  },
  {
   "cell_type": "code",
   "execution_count": 22,
   "metadata": {},
   "outputs": [],
   "source": [
    "gb_params = {\n",
    "    'n_estimators': 500,\n",
    "    # 'max_features': 0.2,\n",
    "    'max_depth': 5,\n",
    "    'min_samples_leaf': 2,\n",
    "    'verbose': 0\n",
    "}"
   ]
  },
  {
   "cell_type": "code",
   "execution_count": 23,
   "metadata": {},
   "outputs": [],
   "source": [
    "rf = SklearnHelper(clf=RandomForestClassifier, seed=seed, params=rf_params)\n",
    "et = SklearnHelper(clf=ExtraTreesClassifier, seed=seed, params=et_params)\n",
    "ada = SklearnHelper(clf=AdaBoostClassifier, seed=seed, params=ada_params)\n",
    "gb = SklearnHelper(clf=GradientBoostingClassifier,\n",
    "                   seed=seed, params=gb_params)"
   ]
  },
  {
   "cell_type": "code",
   "execution_count": 24,
   "metadata": {},
   "outputs": [
    {
     "data": {
      "text/plain": [
       "((228, 12), (228,), (102, 12))"
      ]
     },
     "execution_count": 24,
     "metadata": {},
     "output_type": "execute_result"
    }
   ],
   "source": [
    "X_train.shape, y_train.shape, X_test.shape"
   ]
  },
  {
   "cell_type": "markdown",
   "metadata": {},
   "source": [
    "### Ensemble Learning zone"
   ]
  },
  {
   "cell_type": "code",
   "execution_count": 25,
   "metadata": {},
   "outputs": [
    {
     "name": "stdout",
     "output_type": "stream",
     "text": [
      "I am done learning :D\n",
      "Wall time: 27 s\n"
     ]
    }
   ],
   "source": [
    "%%time\n",
    "np.random.seed(seed)\n",
    "et_oof_train, et_oof_test = get_oof(\n",
    "    et, X_train, y_train, X_test)  # Extra Trees\n",
    "rf_oof_train, rf_oof_test = get_oof(\n",
    "    rf, X_train, y_train, X_test)  # Random Forest\n",
    "ada_oof_train, ada_oof_test = get_oof(\n",
    "    ada, X_train, y_train, X_test)  # AdaBoost\n",
    "gb_oof_train, gb_oof_test = get_oof(\n",
    "    gb, X_train, y_train, X_test)  # Gradient Boost\n",
    "\n",
    "print(\"I am done learning :D\")"
   ]
  },
  {
   "cell_type": "code",
   "execution_count": 26,
   "metadata": {},
   "outputs": [],
   "source": [
    "rf_feature = rf.feature_importances(X_train, y_train)\n",
    "et_feature = et.feature_importances(X_train, y_train)\n",
    "ada_feature = ada.feature_importances(X_train, y_train)\n",
    "gb_feature = gb.feature_importances(X_train, y_train)\n",
    "\n",
    "# On met plutot dans un dataFrame\n",
    "feature_dataframe = pd.DataFrame({'features': cols,\n",
    "                                  'Random Forest Importance des features': rf_feature,\n",
    "                                  'Extra Trees Importance des features': et_feature,\n",
    "                                  'AdaBoost Importance des features': ada_feature,\n",
    "                                  'Gradient Boost Importance des features': gb_feature\n",
    "                                  })"
   ]
  },
  {
   "cell_type": "code",
   "execution_count": 27,
   "metadata": {},
   "outputs": [],
   "source": [
    "rf_pred = rf.predict(X_test)\n",
    "et_pred = et.predict(X_test)\n",
    "ada_pred = ada.predict(X_test)\n",
    "gb_pred = gb.predict(X_test)"
   ]
  },
  {
   "cell_type": "code",
   "execution_count": 28,
   "metadata": {},
   "outputs": [],
   "source": [
    "accu_comparaison={} ## To compare performances at the end\n",
    "accu_comparaison_train={}"
   ]
  },
  {
   "cell_type": "markdown",
   "metadata": {},
   "source": [
    "## Résultats"
   ]
  },
  {
   "cell_type": "markdown",
   "metadata": {},
   "source": [
    "#### For the ones who forgot : \n",
    "\n",
    "##### Compute the precision\n",
    "\n",
    "The precision is the ratio tp / (tp + fp) where tp is the number of true positives and fp the number of false positives. The precision is intuitively the ability of the classifier not to label as positive a sample that is negative.\n",
    "\n",
    "The best value is 1 and the worst value is 0.\n",
    "\n",
    "##### Compute the recall\n",
    "\n",
    "The recall is the ratio tp / (tp + fn) where tp is the number of true positives and fn the number of false negatives. The recall is intuitively the ability of the classifier to find all the positive samples.\n",
    "\n",
    "The best value is 1 and the worst value is 0.\n",
    "\n",
    "##### F1 score\n",
    "The F1 score can be interpreted as a weighted average of the precision and recall, where an F1 score reaches its best value at 1 and worst score at 0. The relative contribution of precision and recall to the F1 score are equal. The formula for the F1 score is:\n",
    "\n",
    "F1 = 2 (precision recall) / (precision + recall)\n",
    "\n",
    "The support is the number of occurrences of each class in y_true"
   ]
  },
  {
   "cell_type": "markdown",
   "metadata": {},
   "source": [
    "### Random Forest"
   ]
  },
  {
   "cell_type": "code",
   "execution_count": 29,
   "metadata": {
    "scrolled": false
   },
   "outputs": [
    {
     "name": "stdout",
     "output_type": "stream",
     "text": [
      "Accuracy :\n",
      "0.6764705882352942\n"
     ]
    }
   ],
   "source": [
    "print(\"Accuracy :\")\n",
    "rf_accu=metrics.accuracy_score(y_test,rf_pred)\n",
    "accu_comparaison['Random Forest']=rf_accu\n",
    "accu_comparaison_train['Random Forest']=metrics.accuracy_score(y_train,rf_oof_train)\n",
    "print(rf_accu)"
   ]
  },
  {
   "cell_type": "code",
   "execution_count": 30,
   "metadata": {},
   "outputs": [
    {
     "data": {
      "text/plain": [
       "{'Random Forest': 0.6764705882352942}"
      ]
     },
     "execution_count": 30,
     "metadata": {},
     "output_type": "execute_result"
    }
   ],
   "source": [
    "accu_comparaison"
   ]
  },
  {
   "cell_type": "code",
   "execution_count": 31,
   "metadata": {},
   "outputs": [
    {
     "name": "stdout",
     "output_type": "stream",
     "text": [
      "              precision    recall  f1-score   support\n",
      "\n",
      "           0       0.75      0.71      0.73        62\n",
      "           1       0.58      0.62      0.60        40\n",
      "\n",
      "   micro avg       0.68      0.68      0.68       102\n",
      "   macro avg       0.66      0.67      0.66       102\n",
      "weighted avg       0.68      0.68      0.68       102\n",
      "\n"
     ]
    }
   ],
   "source": [
    "print(metrics.classification_report(rf_pred, y_test))"
   ]
  },
  {
   "cell_type": "code",
   "execution_count": 32,
   "metadata": {
    "scrolled": false
   },
   "outputs": [
    {
     "data": {
      "text/plain": [
       "<matplotlib.axes._subplots.AxesSubplot at 0x271a1bbac50>"
      ]
     },
     "execution_count": 32,
     "metadata": {},
     "output_type": "execute_result"
    },
    {
     "data": {
      "image/png": "[encoded data removed]",
      "text/plain": [
       "<Figure size 504x432 with 2 Axes>"
      ]
     },
     "metadata": {
      "needs_background": "light"
     },
     "output_type": "display_data"
    }
   ],
   "source": [
    "colormap = plt.cm.Purples\n",
    "plt.figure(figsize=(7,6))\n",
    "plt.title('Matrice de confusion Proba Random Forest', y=1.05, size=15)\n",
    "sns.heatmap(confusion_matrix(y_test, rf_pred)/ntest,linewidths=0.1, \n",
    "            square=True, cmap=colormap, linecolor='white', annot=True,\n",
    "           vmin=0, vmax=0.6)"
   ]
  },
  {
   "cell_type": "markdown",
   "metadata": {},
   "source": [
    "### Extra Tree"
   ]
  },
  {
   "cell_type": "code",
   "execution_count": 33,
   "metadata": {},
   "outputs": [
    {
     "name": "stdout",
     "output_type": "stream",
     "text": [
      "Accuracy :\n",
      "0.6666666666666666\n"
     ]
    }
   ],
   "source": [
    "print(\"Accuracy :\")\n",
    "et_accu=metrics.accuracy_score(y_test,et_pred)\n",
    "accu_comparaison['Extra Tree']=et_accu\n",
    "accu_comparaison_train['Extra Tree']=metrics.accuracy_score(y_train,et_oof_train)\n",
    "print(et_accu)"
   ]
  },
  {
   "cell_type": "code",
   "execution_count": 34,
   "metadata": {},
   "outputs": [
    {
     "name": "stdout",
     "output_type": "stream",
     "text": [
      "              precision    recall  f1-score   support\n",
      "\n",
      "           0       0.85      0.67      0.75        75\n",
      "           1       0.42      0.67      0.51        27\n",
      "\n",
      "   micro avg       0.67      0.67      0.67       102\n",
      "   macro avg       0.63      0.67      0.63       102\n",
      "weighted avg       0.73      0.67      0.68       102\n",
      "\n"
     ]
    }
   ],
   "source": [
    "print(metrics.classification_report(et_pred, y_test))"
   ]
  },
  {
   "cell_type": "code",
   "execution_count": 35,
   "metadata": {
    "scrolled": true
   },
   "outputs": [
    {
     "data": {
      "text/plain": [
       "<matplotlib.axes._subplots.AxesSubplot at 0x271a1886550>"
      ]
     },
     "execution_count": 35,
     "metadata": {},
     "output_type": "execute_result"
    },
    {
     "data": {
      "image/png": "[encoded data removed]",
      "text/plain": [
       "<Figure size 504x432 with 2 Axes>"
      ]
     },
     "metadata": {
      "needs_background": "light"
     },
     "output_type": "display_data"
    }
   ],
   "source": [
    "colormap = plt.cm.Purples\n",
    "plt.figure(figsize=(7,6))\n",
    "plt.title('Matrice de confusion Proba Extra Tree', y=1.05, size=15)\n",
    "sns.heatmap(confusion_matrix(y_test, et_pred)/ntest,linewidths=0.1, \n",
    "            square=True, cmap=colormap, linecolor='white', annot=True,\n",
    "           vmin=0, vmax=0.6)"
   ]
  },
  {
   "cell_type": "markdown",
   "metadata": {},
   "source": [
    "### Ada Boost"
   ]
  },
  {
   "cell_type": "code",
   "execution_count": 36,
   "metadata": {},
   "outputs": [
    {
     "name": "stdout",
     "output_type": "stream",
     "text": [
      "Accuracy :\n",
      "0.5686274509803921\n"
     ]
    }
   ],
   "source": [
    "print(\"Accuracy :\")\n",
    "ada_accu=metrics.accuracy_score(y_test,ada_pred)\n",
    "accu_comparaison['Ada Boost']=ada_accu\n",
    "accu_comparaison_train['Ada Boost']=metrics.accuracy_score(y_train,ada_oof_train)\n",
    "print(ada_accu)"
   ]
  },
  {
   "cell_type": "code",
   "execution_count": 37,
   "metadata": {},
   "outputs": [
    {
     "name": "stdout",
     "output_type": "stream",
     "text": [
      "              precision    recall  f1-score   support\n",
      "\n",
      "           0       0.59      0.64      0.61        55\n",
      "           1       0.53      0.49      0.51        47\n",
      "\n",
      "   micro avg       0.57      0.57      0.57       102\n",
      "   macro avg       0.56      0.56      0.56       102\n",
      "weighted avg       0.57      0.57      0.57       102\n",
      "\n"
     ]
    }
   ],
   "source": [
    "print(metrics.classification_report(ada_pred, y_test))"
   ]
  },
  {
   "cell_type": "code",
   "execution_count": 38,
   "metadata": {
    "scrolled": true
   },
   "outputs": [
    {
     "data": {
      "text/plain": [
       "<matplotlib.axes._subplots.AxesSubplot at 0x271a1904c88>"
      ]
     },
     "execution_count": 38,
     "metadata": {},
     "output_type": "execute_result"
    },
    {
     "data": {
      "image/png": "[encoded data removed]",
      "text/plain": [
       "<Figure size 504x432 with 2 Axes>"
      ]
     },
     "metadata": {
      "needs_background": "light"
     },
     "output_type": "display_data"
    }
   ],
   "source": [
    "colormap = plt.cm.Purples\n",
    "plt.figure(figsize=(7,6))\n",
    "plt.title('Matrice de confusion Proba Ada Boost', y=1.05, size=15)\n",
    "sns.heatmap(confusion_matrix(y_test, ada_pred)/ntest,linewidths=0.1, \n",
    "            square=True, cmap=colormap, linecolor='white', annot=True,\n",
    "           vmin=0, vmax=0.6)"
   ]
  },
  {
   "cell_type": "markdown",
   "metadata": {},
   "source": [
    "### Gradient Boost"
   ]
  },
  {
   "cell_type": "code",
   "execution_count": 39,
   "metadata": {},
   "outputs": [
    {
     "name": "stdout",
     "output_type": "stream",
     "text": [
      "Accuracy :\n",
      "0.6274509803921569\n"
     ]
    }
   ],
   "source": [
    "print(\"Accuracy :\")\n",
    "gb_accu=metrics.accuracy_score(y_test,gb_pred)\n",
    "accu_comparaison['Gradient Boost']=gb_accu\n",
    "accu_comparaison_train['Gradient Boost']=metrics.accuracy_score(y_train,gb_oof_train)\n",
    "print(gb_accu)"
   ]
  },
  {
   "cell_type": "code",
   "execution_count": 40,
   "metadata": {},
   "outputs": [
    {
     "name": "stdout",
     "output_type": "stream",
     "text": [
      "              precision    recall  f1-score   support\n",
      "\n",
      "           0       0.68      0.68      0.68        59\n",
      "           1       0.56      0.56      0.56        43\n",
      "\n",
      "   micro avg       0.63      0.63      0.63       102\n",
      "   macro avg       0.62      0.62      0.62       102\n",
      "weighted avg       0.63      0.63      0.63       102\n",
      "\n"
     ]
    }
   ],
   "source": [
    "print(metrics.classification_report(gb_pred, y_test))"
   ]
  },
  {
   "cell_type": "code",
   "execution_count": 41,
   "metadata": {
    "scrolled": true
   },
   "outputs": [
    {
     "data": {
      "text/plain": [
       "<matplotlib.axes._subplots.AxesSubplot at 0x271a197bdd8>"
      ]
     },
     "execution_count": 41,
     "metadata": {},
     "output_type": "execute_result"
    },
    {
     "data": {
      "image/png": "[encoded data removed]",
      "text/plain": [
       "<Figure size 504x432 with 2 Axes>"
      ]
     },
     "metadata": {
      "needs_background": "light"
     },
     "output_type": "display_data"
    }
   ],
   "source": [
    "colormap = plt.cm.Purples\n",
    "plt.figure(figsize=(7,6))\n",
    "plt.title('Matrice de confusion Proba Gradient Boost', y=1.05, size=15)\n",
    "sns.heatmap(confusion_matrix(y_test, gb_pred)/ntest,linewidths=0.1, \n",
    "            square=True, cmap=colormap, linecolor='white', annot=True,\n",
    "           vmin=0, vmax=0.6)"
   ]
  },
  {
   "cell_type": "code",
   "execution_count": null,
   "metadata": {},
   "outputs": [],
   "source": []
  },
  {
   "cell_type": "markdown",
   "metadata": {},
   "source": [
    "## Réseaux de Neuronnes "
   ]
  },
  {
   "cell_type": "code",
   "execution_count": 42,
   "metadata": {},
   "outputs": [],
   "source": [
    "from sklearn.preprocessing import StandardScaler\n",
    "\n",
    "reduire_centrer=True\n",
    "\n",
    "\n",
    "if reduire_centrer :\n",
    "    scaler = StandardScaler()\n",
    "    scaler.fit(X_train)\n",
    "\n",
    "    X_train=scaler.transform(X_train)\n",
    "    X_test=scaler.transform(X_test)"
   ]
  },
  {
   "cell_type": "code",
   "execution_count": 43,
   "metadata": {},
   "outputs": [],
   "source": [
    "model = Sequential()\n",
    "model.add(Dense(num_feat//2, input_dim=num_feat, kernel_initializer='normal', activation='relu'))\n",
    "model.add(Dropout(0.5)) #Très efficacee contre overfitting \n",
    "model.add(Dense(num_feat//8,  kernel_initializer='normal', activation='relu'))\n",
    "model.add(Dropout(0.5))\n",
    "model.add(Dense(1, kernel_initializer='normal', activation='sigmoid'))\n",
    "model.compile(loss='binary_crossentropy', optimizer='adam', metrics=['accuracy'])\n"
   ]
  },
  {
   "cell_type": "code",
   "execution_count": 44,
   "metadata": {},
   "outputs": [
    {
     "name": "stdout",
     "output_type": "stream",
     "text": [
      "102/102 [==============================] - 0s 784us/step\n"
     ]
    }
   ],
   "source": [
    "np.random.seed(seed)\n",
    "\n",
    "model.fit(X_train, y_train,\n",
    "          epochs=100,\n",
    "          batch_size=5,\n",
    "          verbose=0)\n",
    "\n",
    "score = model.evaluate(X_test, y_test, batch_size=50)"
   ]
  },
  {
   "cell_type": "code",
   "execution_count": 45,
   "metadata": {},
   "outputs": [],
   "source": [
    "dl_y_train_pred=(model.predict(X_train)>0.5)*1\n",
    "dl_y_test_pred=(model.predict(X_test)>0.5)*1"
   ]
  },
  {
   "cell_type": "code",
   "execution_count": 46,
   "metadata": {},
   "outputs": [
    {
     "name": "stdout",
     "output_type": "stream",
     "text": [
      "Accuracy :\n",
      "0.5784313707959419\n"
     ]
    }
   ],
   "source": [
    "print(\"Accuracy :\")\n",
    "nn_accu=score[1]\n",
    "accu_comparaison['Neural Network']=nn_accu\n",
    "accu_comparaison_train['Neural Network']=metrics.accuracy_score(y_train,dl_y_train_pred)\n",
    "print(nn_accu)"
   ]
  },
  {
   "cell_type": "code",
   "execution_count": 47,
   "metadata": {},
   "outputs": [
    {
     "name": "stdout",
     "output_type": "stream",
     "text": [
      "              precision    recall  f1-score   support\n",
      "\n",
      "           0       0.58      1.00      0.73        59\n",
      "           1       0.00      0.00      0.00        43\n",
      "\n",
      "   micro avg       0.58      0.58      0.58       102\n",
      "   macro avg       0.29      0.50      0.37       102\n",
      "weighted avg       0.33      0.58      0.42       102\n",
      "\n"
     ]
    },
    {
     "name": "stderr",
     "output_type": "stream",
     "text": [
      "C:\\Users\\Delanoue\\Anaconda3\\envs\\env_py36\\lib\\site-packages\\sklearn\\metrics\\classification.py:1143: UndefinedMetricWarning:\n",
      "\n",
      "Precision and F-score are ill-defined and being set to 0.0 in labels with no predicted samples.\n",
      "\n",
      "C:\\Users\\Delanoue\\Anaconda3\\envs\\env_py36\\lib\\site-packages\\sklearn\\metrics\\classification.py:1143: UndefinedMetricWarning:\n",
      "\n",
      "Precision and F-score are ill-defined and being set to 0.0 in labels with no predicted samples.\n",
      "\n",
      "C:\\Users\\Delanoue\\Anaconda3\\envs\\env_py36\\lib\\site-packages\\sklearn\\metrics\\classification.py:1143: UndefinedMetricWarning:\n",
      "\n",
      "Precision and F-score are ill-defined and being set to 0.0 in labels with no predicted samples.\n",
      "\n"
     ]
    }
   ],
   "source": [
    "print(metrics.classification_report(y_test,dl_y_test_pred))"
   ]
  },
  {
   "cell_type": "code",
   "execution_count": 48,
   "metadata": {},
   "outputs": [
    {
     "data": {
      "text/plain": [
       "<matplotlib.axes._subplots.AxesSubplot at 0x271a2225160>"
      ]
     },
     "execution_count": 48,
     "metadata": {},
     "output_type": "execute_result"
    },
    {
     "data": {
      "image/png": "[encoded data removed]",
      "text/plain": [
       "<Figure size 504x432 with 2 Axes>"
      ]
     },
     "metadata": {
      "needs_background": "light"
     },
     "output_type": "display_data"
    }
   ],
   "source": [
    "colormap = plt.cm.Purples\n",
    "plt.figure(figsize=(7,6))\n",
    "plt.title('Matrice de confusion Réseaux de Neuronnes', y=1.05, size=15)\n",
    "sns.heatmap(confusion_matrix(y_test,dl_y_test_pred)/ntest,linewidths=0.1, \n",
    "            square=True, cmap=colormap, linecolor='white', annot=True)"
   ]
  },
  {
   "cell_type": "markdown",
   "metadata": {},
   "source": [
    "## SVM "
   ]
  },
  {
   "cell_type": "code",
   "execution_count": 49,
   "metadata": {},
   "outputs": [],
   "source": [
    "from sklearn.svm import SVC\n",
    "SVC_clf = SVC(gamma='auto')\n",
    "SVC_clf.fit(X_train, y_train)\n",
    "\n",
    "\n",
    "svc_pred=SVC_clf.predict(X_test)\n",
    "svc_y_train_pred=SVC_clf.predict(X_train)"
   ]
  },
  {
   "cell_type": "code",
   "execution_count": 50,
   "metadata": {},
   "outputs": [
    {
     "name": "stdout",
     "output_type": "stream",
     "text": [
      "Accuracy :\n",
      "0.6274509803921569\n"
     ]
    }
   ],
   "source": [
    "print(\"Accuracy :\")\n",
    "svc_accu=metrics.accuracy_score(y_test,svc_pred)\n",
    "accu_comparaison['SVM']=svc_accu\n",
    "accu_comparaison_train['SVM']=metrics.accuracy_score(y_train,svc_y_train_pred)\n",
    "print(svc_accu)"
   ]
  },
  {
   "cell_type": "code",
   "execution_count": 51,
   "metadata": {},
   "outputs": [
    {
     "name": "stdout",
     "output_type": "stream",
     "text": [
      "              precision    recall  f1-score   support\n",
      "\n",
      "           0       0.75      0.66      0.70        67\n",
      "           1       0.47      0.57      0.51        35\n",
      "\n",
      "   micro avg       0.63      0.63      0.63       102\n",
      "   macro avg       0.61      0.61      0.61       102\n",
      "weighted avg       0.65      0.63      0.63       102\n",
      "\n"
     ]
    }
   ],
   "source": [
    "print(metrics.classification_report(svc_pred, y_test))"
   ]
  },
  {
   "cell_type": "code",
   "execution_count": 52,
   "metadata": {},
   "outputs": [
    {
     "data": {
      "text/plain": [
       "<matplotlib.axes._subplots.AxesSubplot at 0x271a2422908>"
      ]
     },
     "execution_count": 52,
     "metadata": {},
     "output_type": "execute_result"
    },
    {
     "data": {
      "image/png": "[encoded data removed]",
      "text/plain": [
       "<Figure size 504x432 with 2 Axes>"
      ]
     },
     "metadata": {
      "needs_background": "light"
     },
     "output_type": "display_data"
    }
   ],
   "source": [
    "colormap = plt.cm.Purples\n",
    "plt.figure(figsize=(7,6))\n",
    "plt.title('Matrice de confusion Proba SVM', y=1.05, size=15)\n",
    "sns.heatmap(confusion_matrix(y_test, svc_pred)/ntest,linewidths=0.1, \n",
    "            square=True, cmap=colormap, linecolor='white', annot=True,\n",
    "           vmin=0, vmax=0.6)"
   ]
  },
  {
   "cell_type": "markdown",
   "metadata": {},
   "source": [
    "## Logistic Regression"
   ]
  },
  {
   "cell_type": "code",
   "execution_count": 53,
   "metadata": {},
   "outputs": [],
   "source": [
    "from sklearn.linear_model import LogisticRegression\n",
    "\n",
    "logreg_clf=LogisticRegression()\n",
    "logreg_clf.fit(X_train,y_train)\n",
    "\n",
    "logreg_pred=logreg_clf.predict(X_test)\n",
    "logreg_y_train_pred=logreg_clf.predict(X_train)"
   ]
  },
  {
   "cell_type": "code",
   "execution_count": 54,
   "metadata": {},
   "outputs": [
    {
     "name": "stdout",
     "output_type": "stream",
     "text": [
      "Accuracy :\n",
      "0.5784313725490197\n"
     ]
    }
   ],
   "source": [
    "print(\"Accuracy :\")\n",
    "logreg_accu=metrics.accuracy_score(y_test,logreg_pred)\n",
    "accu_comparaison['Logistic Regression']=logreg_accu\n",
    "accu_comparaison_train['Logistic Regression']=metrics.accuracy_score(y_train,logreg_y_train_pred)\n",
    "print(logreg_accu)"
   ]
  },
  {
   "cell_type": "code",
   "execution_count": 55,
   "metadata": {},
   "outputs": [
    {
     "name": "stdout",
     "output_type": "stream",
     "text": [
      "              precision    recall  f1-score   support\n",
      "\n",
      "           0       0.68      0.62      0.65        64\n",
      "           1       0.44      0.50      0.47        38\n",
      "\n",
      "   micro avg       0.58      0.58      0.58       102\n",
      "   macro avg       0.56      0.56      0.56       102\n",
      "weighted avg       0.59      0.58      0.58       102\n",
      "\n"
     ]
    }
   ],
   "source": [
    "print(metrics.classification_report(logreg_pred, y_test))"
   ]
  },
  {
   "cell_type": "code",
   "execution_count": 56,
   "metadata": {},
   "outputs": [
    {
     "data": {
      "text/plain": [
       "<matplotlib.axes._subplots.AxesSubplot at 0x271a24a1eb8>"
      ]
     },
     "execution_count": 56,
     "metadata": {},
     "output_type": "execute_result"
    },
    {
     "data": {
      "image/png": "[encoded data removed]",
      "text/plain": [
       "<Figure size 504x432 with 2 Axes>"
      ]
     },
     "metadata": {
      "needs_background": "light"
     },
     "output_type": "display_data"
    }
   ],
   "source": [
    "colormap = plt.cm.Purples\n",
    "plt.figure(figsize=(7,6))\n",
    "plt.title('Matrice de confusion Proba Log Reg', y=1.05, size=15)\n",
    "sns.heatmap(confusion_matrix(y_test, logreg_pred)/ntest,linewidths=0.1, \n",
    "            square=True, cmap=colormap, linecolor='white', annot=True,\n",
    "           vmin=0, vmax=0.6)"
   ]
  },
  {
   "cell_type": "markdown",
   "metadata": {},
   "source": [
    "## Stacking "
   ]
  },
  {
   "cell_type": "markdown",
   "metadata": {},
   "source": [
    " ### Prédictions des différents modèles "
   ]
  },
  {
   "cell_type": "code",
   "execution_count": 57,
   "metadata": {},
   "outputs": [
    {
     "data": {
      "text/html": [
       "<div>\n",
       "<style scoped>\n",
       "    .dataframe tbody tr th:only-of-type {\n",
       "        vertical-align: middle;\n",
       "    }\n",
       "\n",
       "    .dataframe tbody tr th {\n",
       "        vertical-align: top;\n",
       "    }\n",
       "\n",
       "    .dataframe thead th {\n",
       "        text-align: right;\n",
       "    }\n",
       "</style>\n",
       "<table border=\"1\" class=\"dataframe\">\n",
       "  <thead>\n",
       "    <tr style=\"text-align: right;\">\n",
       "      <th></th>\n",
       "      <th>RandomForest</th>\n",
       "      <th>ExtraTrees</th>\n",
       "      <th>AdaBoost</th>\n",
       "      <th>GradientBoost</th>\n",
       "      <th>Neural Network</th>\n",
       "      <th>SVM</th>\n",
       "      <th>Logistic Regression</th>\n",
       "    </tr>\n",
       "  </thead>\n",
       "  <tbody>\n",
       "    <tr>\n",
       "      <th>0</th>\n",
       "      <td>0</td>\n",
       "      <td>1</td>\n",
       "      <td>0</td>\n",
       "      <td>0</td>\n",
       "      <td>0</td>\n",
       "      <td>0</td>\n",
       "      <td>0</td>\n",
       "    </tr>\n",
       "    <tr>\n",
       "      <th>1</th>\n",
       "      <td>0</td>\n",
       "      <td>1</td>\n",
       "      <td>1</td>\n",
       "      <td>0</td>\n",
       "      <td>0</td>\n",
       "      <td>1</td>\n",
       "      <td>1</td>\n",
       "    </tr>\n",
       "    <tr>\n",
       "      <th>2</th>\n",
       "      <td>0</td>\n",
       "      <td>0</td>\n",
       "      <td>1</td>\n",
       "      <td>0</td>\n",
       "      <td>0</td>\n",
       "      <td>0</td>\n",
       "      <td>0</td>\n",
       "    </tr>\n",
       "    <tr>\n",
       "      <th>3</th>\n",
       "      <td>0</td>\n",
       "      <td>0</td>\n",
       "      <td>0</td>\n",
       "      <td>1</td>\n",
       "      <td>0</td>\n",
       "      <td>0</td>\n",
       "      <td>0</td>\n",
       "    </tr>\n",
       "    <tr>\n",
       "      <th>4</th>\n",
       "      <td>0</td>\n",
       "      <td>0</td>\n",
       "      <td>0</td>\n",
       "      <td>0</td>\n",
       "      <td>0</td>\n",
       "      <td>0</td>\n",
       "      <td>0</td>\n",
       "    </tr>\n",
       "  </tbody>\n",
       "</table>\n",
       "</div>"
      ],
      "text/plain": [
       "   RandomForest  ExtraTrees  AdaBoost  GradientBoost  Neural Network  SVM  \\\n",
       "0             0           1         0              0               0    0   \n",
       "1             0           1         1              0               0    1   \n",
       "2             0           0         1              0               0    0   \n",
       "3             0           0         0              1               0    0   \n",
       "4             0           0         0              0               0    0   \n",
       "\n",
       "   Logistic Regression  \n",
       "0                    0  \n",
       "1                    1  \n",
       "2                    0  \n",
       "3                    0  \n",
       "4                    0  "
      ]
     },
     "execution_count": 57,
     "metadata": {},
     "output_type": "execute_result"
    }
   ],
   "source": [
    "premieres_predictions_train = pd.DataFrame( {'RandomForest': rf_oof_train.ravel(),\n",
    "     'ExtraTrees': et_oof_train.ravel(),\n",
    "     'AdaBoost': ada_oof_train.ravel(),\n",
    "      'GradientBoost': gb_oof_train.ravel(),\n",
    "     'Neural Network' : dl_y_train_pred.ravel(),\n",
    "                      'SVM':     svc_y_train_pred.ravel()  ,\n",
    "                                             'Logistic Regression':logreg_y_train_pred.ravel()\n",
    "    }).astype(int)\n",
    "premieres_predictions_train.head()"
   ]
  },
  {
   "cell_type": "code",
   "execution_count": 58,
   "metadata": {},
   "outputs": [
    {
     "data": {
      "text/html": [
       "<div>\n",
       "<style scoped>\n",
       "    .dataframe tbody tr th:only-of-type {\n",
       "        vertical-align: middle;\n",
       "    }\n",
       "\n",
       "    .dataframe tbody tr th {\n",
       "        vertical-align: top;\n",
       "    }\n",
       "\n",
       "    .dataframe thead th {\n",
       "        text-align: right;\n",
       "    }\n",
       "</style>\n",
       "<table border=\"1\" class=\"dataframe\">\n",
       "  <thead>\n",
       "    <tr style=\"text-align: right;\">\n",
       "      <th></th>\n",
       "      <th>RandomForest</th>\n",
       "      <th>ExtraTrees</th>\n",
       "      <th>AdaBoost</th>\n",
       "      <th>GradientBoost</th>\n",
       "      <th>Neural Network</th>\n",
       "      <th>SVM</th>\n",
       "      <th>Logistic Regression</th>\n",
       "    </tr>\n",
       "  </thead>\n",
       "  <tbody>\n",
       "    <tr>\n",
       "      <th>0</th>\n",
       "      <td>1</td>\n",
       "      <td>0</td>\n",
       "      <td>1</td>\n",
       "      <td>0</td>\n",
       "      <td>0</td>\n",
       "      <td>0</td>\n",
       "      <td>0</td>\n",
       "    </tr>\n",
       "    <tr>\n",
       "      <th>1</th>\n",
       "      <td>1</td>\n",
       "      <td>1</td>\n",
       "      <td>1</td>\n",
       "      <td>1</td>\n",
       "      <td>0</td>\n",
       "      <td>1</td>\n",
       "      <td>1</td>\n",
       "    </tr>\n",
       "    <tr>\n",
       "      <th>2</th>\n",
       "      <td>0</td>\n",
       "      <td>0</td>\n",
       "      <td>0</td>\n",
       "      <td>0</td>\n",
       "      <td>0</td>\n",
       "      <td>0</td>\n",
       "      <td>0</td>\n",
       "    </tr>\n",
       "    <tr>\n",
       "      <th>3</th>\n",
       "      <td>0</td>\n",
       "      <td>0</td>\n",
       "      <td>0</td>\n",
       "      <td>1</td>\n",
       "      <td>0</td>\n",
       "      <td>1</td>\n",
       "      <td>0</td>\n",
       "    </tr>\n",
       "    <tr>\n",
       "      <th>4</th>\n",
       "      <td>0</td>\n",
       "      <td>0</td>\n",
       "      <td>0</td>\n",
       "      <td>0</td>\n",
       "      <td>0</td>\n",
       "      <td>0</td>\n",
       "      <td>0</td>\n",
       "    </tr>\n",
       "  </tbody>\n",
       "</table>\n",
       "</div>"
      ],
      "text/plain": [
       "   RandomForest  ExtraTrees  AdaBoost  GradientBoost  Neural Network  SVM  \\\n",
       "0             1           0         1              0               0    0   \n",
       "1             1           1         1              1               0    1   \n",
       "2             0           0         0              0               0    0   \n",
       "3             0           0         0              1               0    1   \n",
       "4             0           0         0              0               0    0   \n",
       "\n",
       "   Logistic Regression  \n",
       "0                    0  \n",
       "1                    1  \n",
       "2                    0  \n",
       "3                    0  \n",
       "4                    0  "
      ]
     },
     "execution_count": 58,
     "metadata": {},
     "output_type": "execute_result"
    }
   ],
   "source": [
    "premieres_predictions_test = pd.DataFrame( {'RandomForest': rf_oof_test.ravel(),\n",
    "                                             'ExtraTrees': et_oof_test.ravel(),\n",
    "                                             'AdaBoost': ada_oof_test.ravel(),\n",
    "                                              'GradientBoost': gb_oof_test.ravel(),\n",
    "                                             'Neural Network' : dl_y_test_pred.ravel(),\n",
    "                                             'SVM':     svc_pred.ravel()  ,\n",
    "                                             'Logistic Regression':logreg_pred.ravel()\n",
    "    }).astype(int)\n",
    "premieres_predictions_test.head()"
   ]
  },
  {
   "cell_type": "code",
   "execution_count": 59,
   "metadata": {},
   "outputs": [
    {
     "data": {
      "text/plain": [
       "<matplotlib.axes._subplots.AxesSubplot at 0x271a252f7b8>"
      ]
     },
     "execution_count": 59,
     "metadata": {},
     "output_type": "execute_result"
    },
    {
     "data": {
      "image/png": "[encoded data removed]",
      "text/plain": [
       "<Figure size 720x720 with 2 Axes>"
      ]
     },
     "metadata": {
      "needs_background": "light"
     },
     "output_type": "display_data"
    }
   ],
   "source": [
    "colormap = plt.cm.YlOrRd\n",
    "plt.figure(figsize=(10,10))\n",
    "plt.title('Corrélation des prédictions des modèles', y=1.05, size=15)\n",
    "sns.heatmap(premieres_predictions_train.astype(float).corr().values, linewidths=0.1, \n",
    "            square=True, cmap=colormap, linecolor='white', annot=True,\n",
    "           vmin=0, vmax=1,\n",
    "           xticklabels=premieres_predictions_train.columns.values, yticklabels=premieres_predictions_train.columns.values)"
   ]
  },
  {
   "cell_type": "code",
   "execution_count": 60,
   "metadata": {},
   "outputs": [
    {
     "data": {
      "text/plain": [
       "array([3, 0, 5, 2, 1, 6, 4], dtype=int64)"
      ]
     },
     "execution_count": 60,
     "metadata": {},
     "output_type": "execute_result"
    }
   ],
   "source": [
    "accu_train_comparaison_df=pd.DataFrame(accu_comparaison_train,index=[0])\n",
    "\n",
    "index_asc_train=accu_train_comparaison_df.values.ravel().argsort().argsort()\n",
    "index_asc_train"
   ]
  },
  {
   "cell_type": "code",
   "execution_count": 61,
   "metadata": {
    "scrolled": true
   },
   "outputs": [
    {
     "data": {
      "text/plain": [
       "<matplotlib.axes._subplots.AxesSubplot at 0x271a28181d0>"
      ]
     },
     "execution_count": 61,
     "metadata": {},
     "output_type": "execute_result"
    },
    {
     "data": {
      "image/png": "[encoded data removed]",
      "text/plain": [
       "<Figure size 504x432 with 1 Axes>"
      ]
     },
     "metadata": {
      "needs_background": "light"
     },
     "output_type": "display_data"
    }
   ],
   "source": [
    "plt.figure(figsize=(7,6))\n",
    "plt.title('Comparing performances : Accuracy on train set', y=1.05, size=20)\n",
    "sns.barplot(accu_train_comparaison_df.values.ravel(),\n",
    "            accu_train_comparaison_df.columns,\n",
    "            palette=np.array((sns.color_palette(\"YlOrRd\", n_colors=len(index_asc_train))))[list(index_asc_train)])"
   ]
  },
  {
   "cell_type": "code",
   "execution_count": 62,
   "metadata": {},
   "outputs": [
    {
     "data": {
      "text/html": [
       "<div>\n",
       "<style scoped>\n",
       "    .dataframe tbody tr th:only-of-type {\n",
       "        vertical-align: middle;\n",
       "    }\n",
       "\n",
       "    .dataframe tbody tr th {\n",
       "        vertical-align: top;\n",
       "    }\n",
       "\n",
       "    .dataframe thead th {\n",
       "        text-align: right;\n",
       "    }\n",
       "</style>\n",
       "<table border=\"1\" class=\"dataframe\">\n",
       "  <thead>\n",
       "    <tr style=\"text-align: right;\">\n",
       "      <th></th>\n",
       "      <th>Random Forest</th>\n",
       "      <th>Extra Tree</th>\n",
       "      <th>Ada Boost</th>\n",
       "      <th>Gradient Boost</th>\n",
       "      <th>Neural Network</th>\n",
       "      <th>SVM</th>\n",
       "      <th>Logistic Regression</th>\n",
       "    </tr>\n",
       "  </thead>\n",
       "  <tbody>\n",
       "    <tr>\n",
       "      <th>0</th>\n",
       "      <td>0.614035</td>\n",
       "      <td>0.565789</td>\n",
       "      <td>0.653509</td>\n",
       "      <td>0.605263</td>\n",
       "      <td>0.570175</td>\n",
       "      <td>0.745614</td>\n",
       "      <td>0.649123</td>\n",
       "    </tr>\n",
       "  </tbody>\n",
       "</table>\n",
       "</div>"
      ],
      "text/plain": [
       "   Random Forest  Extra Tree  Ada Boost  Gradient Boost  Neural Network  \\\n",
       "0       0.614035    0.565789   0.653509        0.605263        0.570175   \n",
       "\n",
       "        SVM  Logistic Regression  \n",
       "0  0.745614             0.649123  "
      ]
     },
     "execution_count": 62,
     "metadata": {},
     "output_type": "execute_result"
    }
   ],
   "source": [
    "accu_train_comparaison_df"
   ]
  },
  {
   "cell_type": "code",
   "execution_count": 63,
   "metadata": {},
   "outputs": [],
   "source": [
    "Choix_Stacking=['RandomForest','ExtraTrees','AdaBoost','GradientBoost']"
   ]
  },
  {
   "cell_type": "code",
   "execution_count": 64,
   "metadata": {},
   "outputs": [],
   "source": [
    "x_stack_train =premieres_predictions_train[Choix_Stacking].values\n",
    "x_stack_test = premieres_predictions_test[Choix_Stacking].values"
   ]
  },
  {
   "cell_type": "markdown",
   "metadata": {},
   "source": [
    "### GradientBoosting Stack"
   ]
  },
  {
   "cell_type": "code",
   "execution_count": 65,
   "metadata": {},
   "outputs": [],
   "source": [
    "GBC_stck=GradientBoostingClassifier()"
   ]
  },
  {
   "cell_type": "code",
   "execution_count": 66,
   "metadata": {},
   "outputs": [],
   "source": [
    "GBC_stck.fit(x_stack_train,y_train)\n",
    "y_test_GBC_stack=GBC_stck.predict(x_stack_test)"
   ]
  },
  {
   "cell_type": "code",
   "execution_count": 67,
   "metadata": {},
   "outputs": [
    {
     "data": {
      "text/plain": [
       "array([0.07649079, 0.10705214, 0.70663434, 0.10982274])"
      ]
     },
     "execution_count": 67,
     "metadata": {},
     "output_type": "execute_result"
    }
   ],
   "source": [
    "GBC_stck.feature_importances_"
   ]
  },
  {
   "cell_type": "code",
   "execution_count": 68,
   "metadata": {
    "scrolled": true
   },
   "outputs": [
    {
     "name": "stdout",
     "output_type": "stream",
     "text": [
      "Accuracy :\n",
      "0.6862745098039216\n"
     ]
    }
   ],
   "source": [
    "print(\"Accuracy :\")\n",
    "GBC_stack_accu=metrics.accuracy_score(y_test,y_test_GBC_stack)\n",
    "accu_comparaison['Gradient Boosting Stacked']=GBC_stack_accu\n",
    "print(GBC_stack_accu)"
   ]
  },
  {
   "cell_type": "code",
   "execution_count": 69,
   "metadata": {},
   "outputs": [
    {
     "name": "stdout",
     "output_type": "stream",
     "text": [
      "              precision    recall  f1-score   support\n",
      "\n",
      "           0       0.68      0.88      0.76        59\n",
      "           1       0.72      0.42      0.53        43\n",
      "\n",
      "   micro avg       0.69      0.69      0.69       102\n",
      "   macro avg       0.70      0.65      0.65       102\n",
      "weighted avg       0.69      0.69      0.67       102\n",
      "\n"
     ]
    }
   ],
   "source": [
    "print(metrics.classification_report(y_test,y_test_GBC_stack))"
   ]
  },
  {
   "cell_type": "code",
   "execution_count": 70,
   "metadata": {
    "scrolled": true
   },
   "outputs": [
    {
     "data": {
      "text/plain": [
       "<matplotlib.axes._subplots.AxesSubplot at 0x271a1751f28>"
      ]
     },
     "execution_count": 70,
     "metadata": {},
     "output_type": "execute_result"
    },
    {
     "data": {
      "image/png": "[encoded data removed]",
      "text/plain": [
       "<Figure size 504x432 with 2 Axes>"
      ]
     },
     "metadata": {
      "needs_background": "light"
     },
     "output_type": "display_data"
    }
   ],
   "source": [
    "colormap = plt.cm.PuRd\n",
    "plt.figure(figsize=(7,6))\n",
    "plt.title('Matrice de confusion Proba Gradient Boost Stacked', y=1.05, size=15)\n",
    "sns.heatmap(confusion_matrix(y_test,y_test_GBC_stack)/ntest,linewidths=0.1, \n",
    "            square=True, cmap=colormap, linecolor='white', annot=True,\n",
    "           vmin=0, vmax=0.6)"
   ]
  },
  {
   "cell_type": "markdown",
   "metadata": {},
   "source": [
    "### Random Forest Stack"
   ]
  },
  {
   "cell_type": "code",
   "execution_count": 71,
   "metadata": {},
   "outputs": [],
   "source": [
    "RF_stck=RandomForestClassifier()"
   ]
  },
  {
   "cell_type": "code",
   "execution_count": 72,
   "metadata": {},
   "outputs": [],
   "source": [
    "RF_stck.fit(x_stack_train,y_train)\n",
    "y_test_RF_stack=RF_stck.predict(x_stack_test)"
   ]
  },
  {
   "cell_type": "code",
   "execution_count": 73,
   "metadata": {},
   "outputs": [
    {
     "data": {
      "text/plain": [
       "array([0.21931412, 0.20629733, 0.42478048, 0.14960807])"
      ]
     },
     "execution_count": 73,
     "metadata": {},
     "output_type": "execute_result"
    }
   ],
   "source": [
    "RF_stck.feature_importances_"
   ]
  },
  {
   "cell_type": "code",
   "execution_count": 74,
   "metadata": {},
   "outputs": [
    {
     "name": "stdout",
     "output_type": "stream",
     "text": [
      "Accuracy :\n",
      "0.6862745098039216\n"
     ]
    }
   ],
   "source": [
    "print(\"Accuracy :\")\n",
    "RF_stack_accu=metrics.accuracy_score(y_test,y_test_RF_stack)\n",
    "accu_comparaison['Random Forest Stacked']=RF_stack_accu\n",
    "print(RF_stack_accu)"
   ]
  },
  {
   "cell_type": "code",
   "execution_count": 75,
   "metadata": {},
   "outputs": [
    {
     "name": "stdout",
     "output_type": "stream",
     "text": [
      "              precision    recall  f1-score   support\n",
      "\n",
      "           0       0.68      0.88      0.76        59\n",
      "           1       0.72      0.42      0.53        43\n",
      "\n",
      "   micro avg       0.69      0.69      0.69       102\n",
      "   macro avg       0.70      0.65      0.65       102\n",
      "weighted avg       0.69      0.69      0.67       102\n",
      "\n"
     ]
    }
   ],
   "source": [
    "print(metrics.classification_report(y_test,y_test_RF_stack))"
   ]
  },
  {
   "cell_type": "code",
   "execution_count": 76,
   "metadata": {
    "scrolled": true
   },
   "outputs": [
    {
     "data": {
      "text/plain": [
       "<matplotlib.axes._subplots.AxesSubplot at 0x271a26adeb8>"
      ]
     },
     "execution_count": 76,
     "metadata": {},
     "output_type": "execute_result"
    },
    {
     "data": {
      "image/png": "[encoded data removed]",
      "text/plain": [
       "<Figure size 504x432 with 2 Axes>"
      ]
     },
     "metadata": {
      "needs_background": "light"
     },
     "output_type": "display_data"
    }
   ],
   "source": [
    "colormap = plt.cm.PuRd\n",
    "plt.figure(figsize=(7,6))\n",
    "plt.title('Matrice de confusion Proba Random Forest Stacked', y=1.05, size=15)\n",
    "sns.heatmap(confusion_matrix(y_test,y_test_RF_stack)/ntest,linewidths=0.1, \n",
    "            square=True, cmap=colormap, linecolor='white', annot=True,\n",
    "           vmin=0, vmax=0.6)"
   ]
  },
  {
   "cell_type": "markdown",
   "metadata": {},
   "source": [
    "## Comparaison Résultats"
   ]
  },
  {
   "cell_type": "code",
   "execution_count": 77,
   "metadata": {},
   "outputs": [
    {
     "data": {
      "text/plain": [
       "{'Random Forest': 0.6764705882352942,\n",
       " 'Extra Tree': 0.6666666666666666,\n",
       " 'Ada Boost': 0.5686274509803921,\n",
       " 'Gradient Boost': 0.6274509803921569,\n",
       " 'Neural Network': 0.5784313707959419,\n",
       " 'SVM': 0.6274509803921569,\n",
       " 'Logistic Regression': 0.5784313725490197,\n",
       " 'Gradient Boosting Stacked': 0.6862745098039216,\n",
       " 'Random Forest Stacked': 0.6862745098039216}"
      ]
     },
     "execution_count": 77,
     "metadata": {},
     "output_type": "execute_result"
    }
   ],
   "source": [
    "accu_comparaison"
   ]
  },
  {
   "cell_type": "code",
   "execution_count": 78,
   "metadata": {
    "scrolled": false
   },
   "outputs": [],
   "source": [
    "accu_comparaison_df=pd.DataFrame(accu_comparaison,index=[0])"
   ]
  },
  {
   "cell_type": "code",
   "execution_count": 79,
   "metadata": {},
   "outputs": [
    {
     "data": {
      "text/plain": [
       "array([6, 5, 0, 3, 1, 4, 2, 7, 8], dtype=int64)"
      ]
     },
     "execution_count": 79,
     "metadata": {},
     "output_type": "execute_result"
    }
   ],
   "source": [
    "index_asc=accu_comparaison_df.values.ravel().argsort().argsort()\n",
    "index_asc"
   ]
  },
  {
   "cell_type": "code",
   "execution_count": 80,
   "metadata": {},
   "outputs": [
    {
     "data": {
      "text/plain": [
       "<matplotlib.axes._subplots.AxesSubplot at 0x271a273f4e0>"
      ]
     },
     "execution_count": 80,
     "metadata": {},
     "output_type": "execute_result"
    },
    {
     "data": {
      "image/png": "[encoded data removed]",
      "text/plain": [
       "<Figure size 504x432 with 1 Axes>"
      ]
     },
     "metadata": {
      "needs_background": "light"
     },
     "output_type": "display_data"
    }
   ],
   "source": [
    "plt.figure(figsize=(7,6))\n",
    "plt.title('Comparing performances : Accuracy on test set', y=1.05, size=20)\n",
    "sns.barplot(accu_comparaison_df.values.ravel(),\n",
    "            accu_comparaison_df.columns,\n",
    "            palette=np.array((sns.color_palette(\"Reds\", n_colors=len(index_asc))))[list(index_asc)])"
   ]
  },
  {
   "cell_type": "code",
   "execution_count": 81,
   "metadata": {},
   "outputs": [
    {
     "data": {
      "text/html": [
       "<div>\n",
       "<style scoped>\n",
       "    .dataframe tbody tr th:only-of-type {\n",
       "        vertical-align: middle;\n",
       "    }\n",
       "\n",
       "    .dataframe tbody tr th {\n",
       "        vertical-align: top;\n",
       "    }\n",
       "\n",
       "    .dataframe thead th {\n",
       "        text-align: right;\n",
       "    }\n",
       "</style>\n",
       "<table border=\"1\" class=\"dataframe\">\n",
       "  <thead>\n",
       "    <tr style=\"text-align: right;\">\n",
       "      <th></th>\n",
       "      <th>Random Forest</th>\n",
       "      <th>Extra Tree</th>\n",
       "      <th>Ada Boost</th>\n",
       "      <th>Gradient Boost</th>\n",
       "      <th>Neural Network</th>\n",
       "      <th>SVM</th>\n",
       "      <th>Logistic Regression</th>\n",
       "      <th>Gradient Boosting Stacked</th>\n",
       "      <th>Random Forest Stacked</th>\n",
       "    </tr>\n",
       "  </thead>\n",
       "  <tbody>\n",
       "    <tr>\n",
       "      <th>0</th>\n",
       "      <td>0.676471</td>\n",
       "      <td>0.666667</td>\n",
       "      <td>0.568627</td>\n",
       "      <td>0.627451</td>\n",
       "      <td>0.578431</td>\n",
       "      <td>0.627451</td>\n",
       "      <td>0.578431</td>\n",
       "      <td>0.686275</td>\n",
       "      <td>0.686275</td>\n",
       "    </tr>\n",
       "  </tbody>\n",
       "</table>\n",
       "</div>"
      ],
      "text/plain": [
       "   Random Forest  Extra Tree  Ada Boost  Gradient Boost  Neural Network  \\\n",
       "0       0.676471    0.666667   0.568627        0.627451        0.578431   \n",
       "\n",
       "        SVM  Logistic Regression  Gradient Boosting Stacked  \\\n",
       "0  0.627451             0.578431                   0.686275   \n",
       "\n",
       "   Random Forest Stacked  \n",
       "0               0.686275  "
      ]
     },
     "execution_count": 81,
     "metadata": {},
     "output_type": "execute_result"
    }
   ],
   "source": [
    "accu_comparaison_df"
   ]
  },
  {
   "cell_type": "code",
   "execution_count": null,
   "metadata": {},
   "outputs": [],
   "source": []
  }
 ],
 "metadata": {
  "kernelspec": {
   "display_name": "Python 3",
   "language": "python",
   "name": "python3"
  },
  "language_info": {
   "codemirror_mode": {
    "name": "ipython",
    "version": 3
   },
   "file_extension": ".py",
   "mimetype": "text/x-python",
   "name": "python",
   "nbconvert_exporter": "python",
   "pygments_lexer": "ipython3",
   "version": "3.6.8"
  },
  "varInspector": {
   "cols": {
    "lenName": 16,
    "lenType": 16,
    "lenVar": 40
   },
   "kernels_config": {
    "python": {
     "delete_cmd_postfix": "",
     "delete_cmd_prefix": "del ",
     "library": "var_list.py",
     "varRefreshCmd": "print(var_dic_list())"
    },
    "r": {
     "delete_cmd_postfix": ") ",
     "delete_cmd_prefix": "rm(",
     "library": "var_list.r",
     "varRefreshCmd": "cat(var_dic_list()) "
    }
   },
   "position": {
    "height": "650px",
    "left": "574.924px",
    "right": "20px",
    "top": "65.9848px",
    "width": "690px"
   },
   "types_to_exclude": [
    "module",
    "function",
    "builtin_function_or_method",
    "instance",
    "_Feature"
   ],
   "window_display": false
  }
 },
 "nbformat": 4,
 "nbformat_minor": 2
}
